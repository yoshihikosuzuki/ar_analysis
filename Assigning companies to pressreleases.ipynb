{
 "cells": [
  {
   "cell_type": "markdown",
   "metadata": {},
   "source": [
    "## データ\n",
    "\n",
    "* `pressrelease_all.csv`: 全てのプレスリリースのデータ(articleid, date, bodysubのタブ区切り)\n",
    "* `listed_company`: 上場企業(企業名辞書で証券コードが存在する企業)のデータ(comp_name, address, sec_codeのタブ区切り)\n",
    "\n",
    "### 目的\n",
    "\n",
    "* `listed_company`をベースにして、プレスリリース本文に企業名(と住所)で検索をかける\n",
    "    * `Reshape data.ipynb`より、'都', '道', '府', '県'のいずれかを含むエントリーは(高々)全体の63%\n",
    "        * -> 住所は用いない方が良い？ある場合は使う？\n",
    "        * いずれにせよ、企業名の検索は別問題なのでそちらを先に解消する\n",
    "        \n",
    "\n",
    "* [JUMAN++](http://nlp.ist.i.kyoto-u.ac.jp/index.php?JUMAN++)を使う？\n",
    "    1. プレスリリース本文・上場企業名ともに形態素に分解\n",
    "    2. 企業名については、形態素ごとに完全マッチングを実行 -> 全て/ある一定以上マッチングしたらヒットとする\n",
    "    3. 住所については、JUMAN++が地名の判定をしてくれるので、プレスリリース本文から連続した地名の部分を抽出 -> 正規化コンバータ、でマッチング？もしくは企業名と同様に形態素ごとにマッチング"
   ]
  },
  {
   "cell_type": "code",
   "execution_count": 3,
   "metadata": {
    "collapsed": false
   },
   "outputs": [
    {
     "name": "stdout",
     "output_type": "stream",
     "text": [
      "total 3106112\n",
      "-rw-r--r--   1 yoshihikosuzuki  staff          72  1 13 16:36 Assigning companies to pressreleases.ipynb\n",
      "drwxr-xr-x  15 yoshihikosuzuki  staff         510  1 12 06:09 \u001b[36mPythonFinance\u001b[39;49m\u001b[0m\n",
      "-rw-r--r--   1 yoshihikosuzuki  staff       43961  1 12 19:41 Reshape data.ipynb\n",
      "-rw-r--r--   1 yoshihikosuzuki  staff       60090  1 13 16:32 hoge\n",
      "-rw-r--r--   1 yoshihikosuzuki  staff    56640822  1 12 16:26 kabuka_tse1\n",
      "-rw-r--r--   1 yoshihikosuzuki  staff      230546  1 12 16:26 listed_company\n",
      "-rw-r--r--   1 yoshihikosuzuki  staff       44745  1 12 16:26 market_tse1\n",
      "-rw-r--r--   1 yoshihikosuzuki  staff  1533292997  1 12 12:33 pressrelease_all.csv\n"
     ]
    }
   ],
   "source": [
    "ls -l"
   ]
  },
  {
   "cell_type": "code",
   "execution_count": null,
   "metadata": {
    "collapsed": true
   },
   "outputs": [],
   "source": []
  }
 ],
 "metadata": {
  "kernelspec": {
   "display_name": "Bash",
   "language": "bash",
   "name": "bash"
  },
  "language_info": {
   "codemirror_mode": "shell",
   "file_extension": ".sh",
   "mimetype": "text/x-sh",
   "name": "bash"
  }
 },
 "nbformat": 4,
 "nbformat_minor": 2
}
