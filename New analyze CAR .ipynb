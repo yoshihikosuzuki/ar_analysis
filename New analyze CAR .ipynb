{
 "cells": [
  {
   "cell_type": "code",
   "execution_count": 1,
   "metadata": {
    "collapsed": true
   },
   "outputs": [],
   "source": [
    "car.data <- read.table(\"car.new\", sep = '\\t', header = FALSE)"
   ]
  },
  {
   "cell_type": "code",
   "execution_count": 2,
   "metadata": {
    "collapsed": false,
    "scrolled": true
   },
   "outputs": [
    {
     "data": {
      "text/html": [
       "<table>\n",
       "<thead><tr><th scope=col>V1</th><th scope=col>V2</th><th scope=col>V3</th><th scope=col>V4</th></tr></thead>\n",
       "<tbody>\n",
       "\t<tr><td>NIKPRLRSP037996_06012003</td><td>99_Others               </td><td>8379                    </td><td>-0.002628789            </td></tr>\n",
       "\t<tr><td>NIKPRLRSP038002_06012003</td><td>01: Product             </td><td>2875                    </td><td>-0.021588306            </td></tr>\n",
       "\t<tr><td>NIKPRLRSP038003_06012003</td><td>01: Product             </td><td>2875                    </td><td>-0.021588306            </td></tr>\n",
       "\t<tr><td>NIKPRLRSP038004_06012003</td><td>03: Technology          </td><td>4776                    </td><td>-0.103815088            </td></tr>\n",
       "\t<tr><td>NIKPRLRSP038007_06012003</td><td>01: Product             </td><td>4543                    </td><td>-0.019693618            </td></tr>\n",
       "\t<tr><td>NIKPRLRSP038008_06012003</td><td>01: Product             </td><td>2875                    </td><td>-0.021588306            </td></tr>\n",
       "</tbody>\n",
       "</table>\n"
      ],
      "text/latex": [
       "\\begin{tabular}{r|llll}\n",
       " V1 & V2 & V3 & V4\\\\\n",
       "\\hline\n",
       "\t NIKPRLRSP037996\\_06012003 & 99\\_Others                & 8379                       & -0.002628789              \\\\\n",
       "\t NIKPRLRSP038002\\_06012003 & 01: Product                & 2875                       & -0.021588306              \\\\\n",
       "\t NIKPRLRSP038003\\_06012003 & 01: Product                & 2875                       & -0.021588306              \\\\\n",
       "\t NIKPRLRSP038004\\_06012003 & 03: Technology             & 4776                       & -0.103815088              \\\\\n",
       "\t NIKPRLRSP038007\\_06012003 & 01: Product                & 4543                       & -0.019693618              \\\\\n",
       "\t NIKPRLRSP038008\\_06012003 & 01: Product                & 2875                       & -0.021588306              \\\\\n",
       "\\end{tabular}\n"
      ],
      "text/markdown": [
       "\n",
       "V1 | V2 | V3 | V4 | \n",
       "|---|---|---|---|---|---|\n",
       "| NIKPRLRSP037996_06012003 | 99_Others                | 8379                     | -0.002628789             | \n",
       "| NIKPRLRSP038002_06012003 | 01: Product              | 2875                     | -0.021588306             | \n",
       "| NIKPRLRSP038003_06012003 | 01: Product              | 2875                     | -0.021588306             | \n",
       "| NIKPRLRSP038004_06012003 | 03: Technology           | 4776                     | -0.103815088             | \n",
       "| NIKPRLRSP038007_06012003 | 01: Product              | 4543                     | -0.019693618             | \n",
       "| NIKPRLRSP038008_06012003 | 01: Product              | 2875                     | -0.021588306             | \n",
       "\n",
       "\n"
      ],
      "text/plain": [
       "  V1                       V2             V3   V4          \n",
       "1 NIKPRLRSP037996_06012003 99_Others      8379 -0.002628789\n",
       "2 NIKPRLRSP038002_06012003 01: Product    2875 -0.021588306\n",
       "3 NIKPRLRSP038003_06012003 01: Product    2875 -0.021588306\n",
       "4 NIKPRLRSP038004_06012003 03: Technology 4776 -0.103815088\n",
       "5 NIKPRLRSP038007_06012003 01: Product    4543 -0.019693618\n",
       "6 NIKPRLRSP038008_06012003 01: Product    2875 -0.021588306"
      ]
     },
     "metadata": {},
     "output_type": "display_data"
    }
   ],
   "source": [
    "head(car.data)"
   ]
  },
  {
   "cell_type": "markdown",
   "metadata": {},
   "source": [
    "## 新しいマッチングでの全体的な傾向"
   ]
  },
  {
   "cell_type": "code",
   "execution_count": 3,
   "metadata": {
    "collapsed": false
   },
   "outputs": [
    {
     "data": {
      "text/html": [
       "47301"
      ],
      "text/latex": [
       "47301"
      ],
      "text/markdown": [
       "47301"
      ],
      "text/plain": [
       "[1] 47301"
      ]
     },
     "metadata": {},
     "output_type": "display_data"
    },
    {
     "data": {
      "text/html": [
       "<ol class=list-inline>\n",
       "\t<li>-0.262878898165</li>\n",
       "\t<li>-2.15883061978</li>\n",
       "\t<li>-2.15883061978</li>\n",
       "\t<li>-10.381508786</li>\n",
       "\t<li>-1.96936178248</li>\n",
       "\t<li>-2.15883061978</li>\n",
       "\t<li>-2.15883061978</li>\n",
       "\t<li>-2.15883061978</li>\n",
       "\t<li>0.929003288193</li>\n",
       "\t<li>1.75760993545</li>\n",
       "\t<li>2.24121268522</li>\n",
       "\t<li>2.27393744926</li>\n",
       "\t<li>-3.18059771356</li>\n",
       "\t<li>2.00399860441</li>\n",
       "\t<li>-2.36802369626</li>\n",
       "\t<li>-1.23196223479</li>\n",
       "\t<li>-1.23196223479</li>\n",
       "\t<li>1.90945220701</li>\n",
       "\t<li>-2.12315244034</li>\n",
       "\t<li>-4.05796865118</li>\n",
       "\t<li>-0.338261755374</li>\n",
       "\t<li>-0.244379824668</li>\n",
       "\t<li>-1.0543067222</li>\n",
       "\t<li>-2.10924506822</li>\n",
       "\t<li>3.05097707054</li>\n",
       "\t<li>-2.16972947245</li>\n",
       "\t<li>-2.16972947245</li>\n",
       "\t<li>-1.4207281673</li>\n",
       "\t<li>-4.62072291355</li>\n",
       "\t<li>-0.47758679213</li>\n",
       "\t<li>-0.47758679213</li>\n",
       "\t<li>-2.45872667536</li>\n",
       "\t<li>2.77902391698</li>\n",
       "\t<li>2.77902391698</li>\n",
       "\t<li>2.77902391698</li>\n",
       "\t<li>2.77902391698</li>\n",
       "\t<li>3.34581824348</li>\n",
       "\t<li>0.83513125753</li>\n",
       "\t<li>5.02856511696</li>\n",
       "\t<li>3.17972786309</li>\n",
       "\t<li>-2.82992180326</li>\n",
       "\t<li>-2.5479712087</li>\n",
       "\t<li>1.5495348156</li>\n",
       "\t<li>3.17681853832</li>\n",
       "\t<li>-1.83705770092</li>\n",
       "\t<li>-2.05057231727</li>\n",
       "\t<li>0.959132107679</li>\n",
       "\t<li>5.01395736969</li>\n",
       "\t<li>-1.19278953116</li>\n",
       "\t<li>7.6416067171</li>\n",
       "\t<li>2.17927917633</li>\n",
       "\t<li>-1.47923100941</li>\n",
       "\t<li>-3.31819160989</li>\n",
       "\t<li>-2.47189126842</li>\n",
       "\t<li>-1.36423027891</li>\n",
       "\t<li>-1.43411640545</li>\n",
       "\t<li>-3.31819160989</li>\n",
       "\t<li>-1.4058012096</li>\n",
       "\t<li>-3.31819160989</li>\n",
       "\t<li>-0.997385861505</li>\n",
       "\t<li>-0.997385861505</li>\n",
       "\t<li>-1.20175494878</li>\n",
       "\t<li>-1.20175494878</li>\n",
       "\t<li>-1.95697578285</li>\n",
       "\t<li>0.627554635123</li>\n",
       "\t<li>-3.09867859295</li>\n",
       "\t<li>-2.67446711322</li>\n",
       "\t<li>-1.99481372823</li>\n",
       "\t<li>-1.99481372823</li>\n",
       "\t<li>-2.67446711322</li>\n",
       "\t<li>-2.53885360761</li>\n",
       "\t<li>8.93572098846</li>\n",
       "\t<li>0.627554635123</li>\n",
       "\t<li>0.627554635123</li>\n",
       "\t<li>0.627554635123</li>\n",
       "\t<li>-1.43778260885</li>\n",
       "\t<li>-1.43778260885</li>\n",
       "\t<li>1.08445706039</li>\n",
       "\t<li>-1.64016883844</li>\n",
       "\t<li>0.22731754786</li>\n",
       "\t<li>3.31250162238</li>\n",
       "\t<li>-0.848503911961</li>\n",
       "\t<li>5.94542334743</li>\n",
       "\t<li>5.94542334743</li>\n",
       "\t<li>-0.162040354615</li>\n",
       "\t<li>-6.58845635381</li>\n",
       "\t<li>0.0609661292699</li>\n",
       "\t<li>-0.459544271862</li>\n",
       "\t<li>2.37415164008</li>\n",
       "\t<li>0.764865924575</li>\n",
       "\t<li>-2.9013196921</li>\n",
       "\t<li>-0.0446285580389</li>\n",
       "\t<li>-2.62923668622</li>\n",
       "\t<li>8.96396814619</li>\n",
       "\t<li>0.779741876491</li>\n",
       "\t<li>0.779741876491</li>\n",
       "\t<li>0.779741876491</li>\n",
       "\t<li>0.779741876491</li>\n",
       "\t<li>-1.34077675987</li>\n",
       "\t<li>-1.34077675987</li>\n",
       "</ol>\n"
      ],
      "text/latex": [
       "\\begin{enumerate*}\n",
       "\\item -0.262878898165\n",
       "\\item -2.15883061978\n",
       "\\item -2.15883061978\n",
       "\\item -10.381508786\n",
       "\\item -1.96936178248\n",
       "\\item -2.15883061978\n",
       "\\item -2.15883061978\n",
       "\\item -2.15883061978\n",
       "\\item 0.929003288193\n",
       "\\item 1.75760993545\n",
       "\\item 2.24121268522\n",
       "\\item 2.27393744926\n",
       "\\item -3.18059771356\n",
       "\\item 2.00399860441\n",
       "\\item -2.36802369626\n",
       "\\item -1.23196223479\n",
       "\\item -1.23196223479\n",
       "\\item 1.90945220701\n",
       "\\item -2.12315244034\n",
       "\\item -4.05796865118\n",
       "\\item -0.338261755374\n",
       "\\item -0.244379824668\n",
       "\\item -1.0543067222\n",
       "\\item -2.10924506822\n",
       "\\item 3.05097707054\n",
       "\\item -2.16972947245\n",
       "\\item -2.16972947245\n",
       "\\item -1.4207281673\n",
       "\\item -4.62072291355\n",
       "\\item -0.47758679213\n",
       "\\item -0.47758679213\n",
       "\\item -2.45872667536\n",
       "\\item 2.77902391698\n",
       "\\item 2.77902391698\n",
       "\\item 2.77902391698\n",
       "\\item 2.77902391698\n",
       "\\item 3.34581824348\n",
       "\\item 0.83513125753\n",
       "\\item 5.02856511696\n",
       "\\item 3.17972786309\n",
       "\\item -2.82992180326\n",
       "\\item -2.5479712087\n",
       "\\item 1.5495348156\n",
       "\\item 3.17681853832\n",
       "\\item -1.83705770092\n",
       "\\item -2.05057231727\n",
       "\\item 0.959132107679\n",
       "\\item 5.01395736969\n",
       "\\item -1.19278953116\n",
       "\\item 7.6416067171\n",
       "\\item 2.17927917633\n",
       "\\item -1.47923100941\n",
       "\\item -3.31819160989\n",
       "\\item -2.47189126842\n",
       "\\item -1.36423027891\n",
       "\\item -1.43411640545\n",
       "\\item -3.31819160989\n",
       "\\item -1.4058012096\n",
       "\\item -3.31819160989\n",
       "\\item -0.997385861505\n",
       "\\item -0.997385861505\n",
       "\\item -1.20175494878\n",
       "\\item -1.20175494878\n",
       "\\item -1.95697578285\n",
       "\\item 0.627554635123\n",
       "\\item -3.09867859295\n",
       "\\item -2.67446711322\n",
       "\\item -1.99481372823\n",
       "\\item -1.99481372823\n",
       "\\item -2.67446711322\n",
       "\\item -2.53885360761\n",
       "\\item 8.93572098846\n",
       "\\item 0.627554635123\n",
       "\\item 0.627554635123\n",
       "\\item 0.627554635123\n",
       "\\item -1.43778260885\n",
       "\\item -1.43778260885\n",
       "\\item 1.08445706039\n",
       "\\item -1.64016883844\n",
       "\\item 0.22731754786\n",
       "\\item 3.31250162238\n",
       "\\item -0.848503911961\n",
       "\\item 5.94542334743\n",
       "\\item 5.94542334743\n",
       "\\item -0.162040354615\n",
       "\\item -6.58845635381\n",
       "\\item 0.0609661292699\n",
       "\\item -0.459544271862\n",
       "\\item 2.37415164008\n",
       "\\item 0.764865924575\n",
       "\\item -2.9013196921\n",
       "\\item -0.0446285580389\n",
       "\\item -2.62923668622\n",
       "\\item 8.96396814619\n",
       "\\item 0.779741876491\n",
       "\\item 0.779741876491\n",
       "\\item 0.779741876491\n",
       "\\item 0.779741876491\n",
       "\\item -1.34077675987\n",
       "\\item -1.34077675987\n",
       "\\end{enumerate*}\n"
      ],
      "text/markdown": [
       "1. -0.262878898165\n",
       "2. -2.15883061978\n",
       "3. -2.15883061978\n",
       "4. -10.381508786\n",
       "5. -1.96936178248\n",
       "6. -2.15883061978\n",
       "7. -2.15883061978\n",
       "8. -2.15883061978\n",
       "9. 0.929003288193\n",
       "10. 1.75760993545\n",
       "11. 2.24121268522\n",
       "12. 2.27393744926\n",
       "13. -3.18059771356\n",
       "14. 2.00399860441\n",
       "15. -2.36802369626\n",
       "16. -1.23196223479\n",
       "17. -1.23196223479\n",
       "18. 1.90945220701\n",
       "19. -2.12315244034\n",
       "20. -4.05796865118\n",
       "21. -0.338261755374\n",
       "22. -0.244379824668\n",
       "23. -1.0543067222\n",
       "24. -2.10924506822\n",
       "25. 3.05097707054\n",
       "26. -2.16972947245\n",
       "27. -2.16972947245\n",
       "28. -1.4207281673\n",
       "29. -4.62072291355\n",
       "30. -0.47758679213\n",
       "31. -0.47758679213\n",
       "32. -2.45872667536\n",
       "33. 2.77902391698\n",
       "34. 2.77902391698\n",
       "35. 2.77902391698\n",
       "36. 2.77902391698\n",
       "37. 3.34581824348\n",
       "38. 0.83513125753\n",
       "39. 5.02856511696\n",
       "40. 3.17972786309\n",
       "41. -2.82992180326\n",
       "42. -2.5479712087\n",
       "43. 1.5495348156\n",
       "44. 3.17681853832\n",
       "45. -1.83705770092\n",
       "46. -2.05057231727\n",
       "47. 0.959132107679\n",
       "48. 5.01395736969\n",
       "49. -1.19278953116\n",
       "50. 7.6416067171\n",
       "51. 2.17927917633\n",
       "52. -1.47923100941\n",
       "53. -3.31819160989\n",
       "54. -2.47189126842\n",
       "55. -1.36423027891\n",
       "56. -1.43411640545\n",
       "57. -3.31819160989\n",
       "58. -1.4058012096\n",
       "59. -3.31819160989\n",
       "60. -0.997385861505\n",
       "61. -0.997385861505\n",
       "62. -1.20175494878\n",
       "63. -1.20175494878\n",
       "64. -1.95697578285\n",
       "65. 0.627554635123\n",
       "66. -3.09867859295\n",
       "67. -2.67446711322\n",
       "68. -1.99481372823\n",
       "69. -1.99481372823\n",
       "70. -2.67446711322\n",
       "71. -2.53885360761\n",
       "72. 8.93572098846\n",
       "73. 0.627554635123\n",
       "74. 0.627554635123\n",
       "75. 0.627554635123\n",
       "76. -1.43778260885\n",
       "77. -1.43778260885\n",
       "78. 1.08445706039\n",
       "79. -1.64016883844\n",
       "80. 0.22731754786\n",
       "81. 3.31250162238\n",
       "82. -0.848503911961\n",
       "83. 5.94542334743\n",
       "84. 5.94542334743\n",
       "85. -0.162040354615\n",
       "86. -6.58845635381\n",
       "87. 0.0609661292699\n",
       "88. -0.459544271862\n",
       "89. 2.37415164008\n",
       "90. 0.764865924575\n",
       "91. -2.9013196921\n",
       "92. -0.0446285580389\n",
       "93. -2.62923668622\n",
       "94. 8.96396814619\n",
       "95. 0.779741876491\n",
       "96. 0.779741876491\n",
       "97. 0.779741876491\n",
       "98. 0.779741876491\n",
       "99. -1.34077675987\n",
       "100. -1.34077675987\n",
       "\n",
       "\n"
      ],
      "text/plain": [
       "  [1]  -0.26287890  -2.15883062  -2.15883062 -10.38150879  -1.96936178\n",
       "  [6]  -2.15883062  -2.15883062  -2.15883062   0.92900329   1.75760994\n",
       " [11]   2.24121269   2.27393745  -3.18059771   2.00399860  -2.36802370\n",
       " [16]  -1.23196223  -1.23196223   1.90945221  -2.12315244  -4.05796865\n",
       " [21]  -0.33826176  -0.24437982  -1.05430672  -2.10924507   3.05097707\n",
       " [26]  -2.16972947  -2.16972947  -1.42072817  -4.62072291  -0.47758679\n",
       " [31]  -0.47758679  -2.45872668   2.77902392   2.77902392   2.77902392\n",
       " [36]   2.77902392   3.34581824   0.83513126   5.02856512   3.17972786\n",
       " [41]  -2.82992180  -2.54797121   1.54953482   3.17681854  -1.83705770\n",
       " [46]  -2.05057232   0.95913211   5.01395737  -1.19278953   7.64160672\n",
       " [51]   2.17927918  -1.47923101  -3.31819161  -2.47189127  -1.36423028\n",
       " [56]  -1.43411641  -3.31819161  -1.40580121  -3.31819161  -0.99738586\n",
       " [61]  -0.99738586  -1.20175495  -1.20175495  -1.95697578   0.62755464\n",
       " [66]  -3.09867859  -2.67446711  -1.99481373  -1.99481373  -2.67446711\n",
       " [71]  -2.53885361   8.93572099   0.62755464   0.62755464   0.62755464\n",
       " [76]  -1.43778261  -1.43778261   1.08445706  -1.64016884   0.22731755\n",
       " [81]   3.31250162  -0.84850391   5.94542335   5.94542335  -0.16204035\n",
       " [86]  -6.58845635   0.06096613  -0.45954427   2.37415164   0.76486592\n",
       " [91]  -2.90131969  -0.04462856  -2.62923669   8.96396815   0.77974188\n",
       " [96]   0.77974188   0.77974188   0.77974188  -1.34077676  -1.34077676"
      ]
     },
     "metadata": {},
     "output_type": "display_data"
    }
   ],
   "source": [
    "car.val <- as.numeric(car.data$V4) * 100\n",
    "length(car.val)\n",
    "head(car.val, n = 100)"
   ]
  },
  {
   "cell_type": "code",
   "execution_count": 16,
   "metadata": {
    "collapsed": false
   },
   "outputs": [
    {
     "data": {
      "image/png": "[encoded data removed]",
      "text/plain": [
       "Plot with title “Histogram of car.val”"
      ]
     },
     "metadata": {},
     "output_type": "display_data"
    }
   ],
   "source": [
    "hist(car.val, breaks = 1000, xlim = c(min(car.val),max(car.val)), xlab = \"(cumulative) abnormal return [%]\")\n",
    "par(new=T)\n",
    "curve(dnorm(x, mean=mean(car.val), sd=sqrt(var(car.val))), from=min(car.val), to=max(car.val), col=\"red\", xlab=\"\", ylab=\"\")   # 正規分布を重ね書き"
   ]
  },
  {
   "cell_type": "markdown",
   "metadata": {},
   "source": [
    "-> 低いCARが無くなったように見えるが、maxが増えただけでminは昔のマッチングと変わっていない。"
   ]
  },
  {
   "cell_type": "code",
   "execution_count": 19,
   "metadata": {
    "collapsed": false
   },
   "outputs": [
    {
     "data": {
      "text/html": [
       "0.119848507259064"
      ],
      "text/latex": [
       "0.119848507259064"
      ],
      "text/markdown": [
       "0.119848507259064"
      ],
      "text/plain": [
       "[1] 0.1198485"
      ]
     },
     "metadata": {},
     "output_type": "display_data"
    }
   ],
   "source": [
    "mean(car.val)"
   ]
  },
  {
   "cell_type": "code",
   "execution_count": 82,
   "metadata": {
    "collapsed": false
   },
   "outputs": [
    {
     "data": {
      "text/plain": [
       "\n",
       "\tOne Sample t-test\n",
       "\n",
       "data:  car.val\n",
       "t = 1.1832, df = 28353, p-value = 0.2367\n",
       "alternative hypothesis: true mean is not equal to 0\n",
       "95 percent confidence interval:\n",
       " -0.01665381  0.06738205\n",
       "sample estimates:\n",
       " mean of x \n",
       "0.02536412 \n"
      ]
     },
     "metadata": {},
     "output_type": "display_data"
    }
   ],
   "source": [
    "t.test(car.val)"
   ]
  },
  {
   "cell_type": "markdown",
   "metadata": {},
   "source": [
    "-> 全体的に見ると平均は0%と見なして良さそう"
   ]
  },
  {
   "cell_type": "code",
   "execution_count": 20,
   "metadata": {
    "collapsed": false
   },
   "outputs": [
    {
     "data": {
      "text/html": [
       "5.69123888280551"
      ],
      "text/latex": [
       "5.69123888280551"
      ],
      "text/markdown": [
       "5.69123888280551"
      ],
      "text/plain": [
       "[1] 5.691239"
      ]
     },
     "metadata": {},
     "output_type": "display_data"
    }
   ],
   "source": [
    "sd(car.val)"
   ]
  },
  {
   "cell_type": "code",
   "execution_count": 21,
   "metadata": {
    "collapsed": false
   },
   "outputs": [
    {
     "data": {
      "text/html": [
       "923.708942099"
      ],
      "text/latex": [
       "923.708942099"
      ],
      "text/markdown": [
       "923.708942099"
      ],
      "text/plain": [
       "[1] 923.7089"
      ]
     },
     "metadata": {},
     "output_type": "display_data"
    },
    {
     "data": {
      "text/html": [
       "-110.068472522"
      ],
      "text/latex": [
       "-110.068472522"
      ],
      "text/markdown": [
       "-110.068472522"
      ],
      "text/plain": [
       "[1] -110.0685"
      ]
     },
     "metadata": {},
     "output_type": "display_data"
    }
   ],
   "source": [
    "max(car.val)\n",
    "min(car.val)"
   ]
  },
  {
   "cell_type": "code",
   "execution_count": 22,
   "metadata": {
    "collapsed": false
   },
   "outputs": [
    {
     "data": {
      "text/html": [
       "47301"
      ],
      "text/latex": [
       "47301"
      ],
      "text/markdown": [
       "47301"
      ],
      "text/plain": [
       "[1] 47301"
      ]
     },
     "metadata": {},
     "output_type": "display_data"
    }
   ],
   "source": [
    "length(car.val)"
   ]
  },
  {
   "cell_type": "code",
   "execution_count": 23,
   "metadata": {
    "collapsed": false
   },
   "outputs": [
    {
     "data": {
      "text/html": [
       "590"
      ],
      "text/latex": [
       "590"
      ],
      "text/markdown": [
       "590"
      ],
      "text/plain": [
       "[1] 590"
      ]
     },
     "metadata": {},
     "output_type": "display_data"
    },
    {
     "data": {
      "text/html": [
       "337"
      ],
      "text/latex": [
       "337"
      ],
      "text/markdown": [
       "337"
      ],
      "text/plain": [
       "[1] 337"
      ]
     },
     "metadata": {},
     "output_type": "display_data"
    }
   ],
   "source": [
    "length(car.val[car.val >= 10.])\n",
    "length(car.val[car.val <= -10.])"
   ]
  },
  {
   "cell_type": "markdown",
   "metadata": {},
   "source": [
    "-> 前のマッチングと比べて、0に近い値の割合が増えた。また、平均値はわずかに正方向に移動し、分散もわずかに大きくなった。"
   ]
  },
  {
   "cell_type": "code",
   "execution_count": 25,
   "metadata": {
    "collapsed": false
   },
   "outputs": [
    {
     "data": {
      "text/html": [
       "-20.2615041393"
      ],
      "text/latex": [
       "-20.2615041393"
      ],
      "text/markdown": [
       "-20.2615041393"
      ],
      "text/plain": [
       "[1] -20.2615"
      ]
     },
     "metadata": {},
     "output_type": "display_data"
    },
    {
     "data": {
      "text/html": [
       "21.9401071775"
      ],
      "text/latex": [
       "21.9401071775"
      ],
      "text/markdown": [
       "21.9401071775"
      ],
      "text/plain": [
       "[1] 21.94011"
      ]
     },
     "metadata": {},
     "output_type": "display_data"
    },
    {
     "data": {
      "text/html": [
       "0.105914075466003"
      ],
      "text/latex": [
       "0.105914075466003"
      ],
      "text/markdown": [
       "0.105914075466003"
      ],
      "text/plain": [
       "[1] 0.1059141"
      ]
     },
     "metadata": {},
     "output_type": "display_data"
    }
   ],
   "source": [
    "# 両側それぞれ0.1%ずつのデータを除去\n",
    "trim.min <- sort(car.val)[length(car.val) * 0.001]\n",
    "trim.max <- sort(car.val)[length(car.val) * 0.999]\n",
    "trim.min\n",
    "trim.max\n",
    "mean(car.val[trim.min <= car.val & car.val <= trim.max])"
   ]
  },
  {
   "cell_type": "markdown",
   "metadata": {},
   "source": [
    "## プレスリリースのタイプごとの傾向"
   ]
  },
  {
   "cell_type": "code",
   "execution_count": 4,
   "metadata": {
    "collapsed": true
   },
   "outputs": [],
   "source": [
    "types <- c('04: Restructuring', '05: PR', '01: Product', '05: Price', '05: Promotion', '10: Exit', '04: License', '03: Technology', '06: Capacity', '04: Alliance', '06: Order', '04: Contract', '02: Process', '04: M&A')"
   ]
  },
  {
   "cell_type": "code",
   "execution_count": 5,
   "metadata": {
    "collapsed": false
   },
   "outputs": [],
   "source": [
    "car.data.type <- car.data[car.data$V2 == '01: Product',]"
   ]
  },
  {
   "cell_type": "code",
   "execution_count": 6,
   "metadata": {
    "collapsed": false
   },
   "outputs": [
    {
     "data": {
      "text/html": [
       "<table>\n",
       "<thead><tr><th></th><th scope=col>V1</th><th scope=col>V2</th><th scope=col>V3</th><th scope=col>V4</th></tr></thead>\n",
       "<tbody>\n",
       "\t<tr><th scope=row>2</th><td>NIKPRLRSP038002_06012003</td><td>01: Product             </td><td>2875                    </td><td>-0.02158831             </td></tr>\n",
       "\t<tr><th scope=row>3</th><td>NIKPRLRSP038003_06012003</td><td>01: Product             </td><td>2875                    </td><td>-0.02158831             </td></tr>\n",
       "\t<tr><th scope=row>5</th><td>NIKPRLRSP038007_06012003</td><td>01: Product             </td><td>4543                    </td><td>-0.01969362             </td></tr>\n",
       "\t<tr><th scope=row>6</th><td>NIKPRLRSP038008_06012003</td><td>01: Product             </td><td>2875                    </td><td>-0.02158831             </td></tr>\n",
       "\t<tr><th scope=row>7</th><td>NIKPRLRSP038012_06012003</td><td>01: Product             </td><td>2875                    </td><td>-0.02158831             </td></tr>\n",
       "\t<tr><th scope=row>8</th><td>NIKPRLRSP038015_06012003</td><td>01: Product             </td><td>2875                    </td><td>-0.02158831             </td></tr>\n",
       "</tbody>\n",
       "</table>\n"
      ],
      "text/latex": [
       "\\begin{tabular}{r|llll}\n",
       "  & V1 & V2 & V3 & V4\\\\\n",
       "\\hline\n",
       "\t2 & NIKPRLRSP038002\\_06012003 & 01: Product                & 2875                       & -0.02158831               \\\\\n",
       "\t3 & NIKPRLRSP038003\\_06012003 & 01: Product                & 2875                       & -0.02158831               \\\\\n",
       "\t5 & NIKPRLRSP038007\\_06012003 & 01: Product                & 4543                       & -0.01969362               \\\\\n",
       "\t6 & NIKPRLRSP038008\\_06012003 & 01: Product                & 2875                       & -0.02158831               \\\\\n",
       "\t7 & NIKPRLRSP038012\\_06012003 & 01: Product                & 2875                       & -0.02158831               \\\\\n",
       "\t8 & NIKPRLRSP038015\\_06012003 & 01: Product                & 2875                       & -0.02158831               \\\\\n",
       "\\end{tabular}\n"
      ],
      "text/markdown": [
       "\n",
       "| <!--/--> | V1 | V2 | V3 | V4 | \n",
       "|---|---|---|---|---|---|\n",
       "| 2 | NIKPRLRSP038002_06012003 | 01: Product              | 2875                     | -0.02158831              | \n",
       "| 3 | NIKPRLRSP038003_06012003 | 01: Product              | 2875                     | -0.02158831              | \n",
       "| 5 | NIKPRLRSP038007_06012003 | 01: Product              | 4543                     | -0.01969362              | \n",
       "| 6 | NIKPRLRSP038008_06012003 | 01: Product              | 2875                     | -0.02158831              | \n",
       "| 7 | NIKPRLRSP038012_06012003 | 01: Product              | 2875                     | -0.02158831              | \n",
       "| 8 | NIKPRLRSP038015_06012003 | 01: Product              | 2875                     | -0.02158831              | \n",
       "\n",
       "\n"
      ],
      "text/plain": [
       "  V1                       V2          V3   V4         \n",
       "2 NIKPRLRSP038002_06012003 01: Product 2875 -0.02158831\n",
       "3 NIKPRLRSP038003_06012003 01: Product 2875 -0.02158831\n",
       "5 NIKPRLRSP038007_06012003 01: Product 4543 -0.01969362\n",
       "6 NIKPRLRSP038008_06012003 01: Product 2875 -0.02158831\n",
       "7 NIKPRLRSP038012_06012003 01: Product 2875 -0.02158831\n",
       "8 NIKPRLRSP038015_06012003 01: Product 2875 -0.02158831"
      ]
     },
     "metadata": {},
     "output_type": "display_data"
    }
   ],
   "source": [
    "head(car.data.type)"
   ]
  },
  {
   "cell_type": "code",
   "execution_count": 7,
   "metadata": {
    "collapsed": false
   },
   "outputs": [
    {
     "data": {
      "text/html": [
       "<dl class=dl-horizontal>\n",
       "\t<dt>0%</dt>\n",
       "\t\t<dd>-1.10068472522</dd>\n",
       "\t<dt>25%</dt>\n",
       "\t\t<dd>-0.0156103805985</dd>\n",
       "\t<dt>50%</dt>\n",
       "\t\t<dd>-0.000762044041313</dd>\n",
       "\t<dt>75%</dt>\n",
       "\t\t<dd>0.01479360033655</dd>\n",
       "\t<dt>100%</dt>\n",
       "\t\t<dd>0.688248475052</dd>\n",
       "</dl>\n"
      ],
      "text/latex": [
       "\\begin{description*}\n",
       "\\item[0\\textbackslash{}\\%] -1.10068472522\n",
       "\\item[25\\textbackslash{}\\%] -0.0156103805985\n",
       "\\item[50\\textbackslash{}\\%] -0.000762044041313\n",
       "\\item[75\\textbackslash{}\\%] 0.01479360033655\n",
       "\\item[100\\textbackslash{}\\%] 0.688248475052\n",
       "\\end{description*}\n"
      ],
      "text/markdown": [
       "0%\n",
       ":   -1.1006847252225%\n",
       ":   -0.015610380598550%\n",
       ":   -0.00076204404131375%\n",
       ":   0.01479360033655100%\n",
       ":   0.688248475052\n",
       "\n"
      ],
      "text/plain": [
       "          0%          25%          50%          75%         100% \n",
       "-1.100684725 -0.015610381 -0.000762044  0.014793600  0.688248475 "
      ]
     },
     "metadata": {},
     "output_type": "display_data"
    }
   ],
   "source": [
    "quantile(car.data.type$V4)"
   ]
  },
  {
   "cell_type": "code",
   "execution_count": null,
   "metadata": {
    "collapsed": true
   },
   "outputs": [],
   "source": []
  },
  {
   "cell_type": "code",
   "execution_count": null,
   "metadata": {
    "collapsed": true
   },
   "outputs": [],
   "source": []
  },
  {
   "cell_type": "code",
   "execution_count": null,
   "metadata": {
    "collapsed": true
   },
   "outputs": [],
   "source": []
  },
  {
   "cell_type": "code",
   "execution_count": 26,
   "metadata": {
    "collapsed": true
   },
   "outputs": [],
   "source": [
    "print.result <- function(data) {\n",
    "    hist(data, breaks = 1000, xlim = c(min(data),max(data)), xlab = \"(cumulative) abnormal return [%]\")\n",
    "    par(new=T)\n",
    "    curve(dnorm(x, mean=mean(data), sd=sqrt(var(data))), from=min(data), to=max(data), col=\"red\", xlab=\"\", ylab=\"\")   # 正規分布を重ね書き\n",
    "}"
   ]
  },
  {
   "cell_type": "code",
   "execution_count": 78,
   "metadata": {
    "collapsed": false,
    "scrolled": false
   },
   "outputs": [
    {
     "data": {
      "text/html": [
       "<table>\n",
       "<thead><tr><th scope=col>prtype</th><th scope=col>num</th><th scope=col>mean[%]</th><th scope=col>p-value (mean != 0)</th><th scope=col>sd</th><th scope=col>min</th><th scope=col>max</th></tr></thead>\n",
       "<tbody>\n",
       "\t<tr><td>01: Product         </td><td>28354               </td><td>0.0253641236023993  </td><td>0.236746650305999   </td><td>3.60973400546599    </td><td>-110.068472522      </td><td>68.8248475052       </td></tr>\n",
       "\t<tr><td>02: Process         </td><td>416                 </td><td>0.341823316367909   </td><td>0.0287496701216901  </td><td>3.17690111402763    </td><td>-10.3320615941      </td><td>13.2311654483       </td></tr>\n",
       "\t<tr><td>03: Technology      </td><td>3124                </td><td>0.116674015192258   </td><td>0.060625912344404   </td><td>3.47448250128796    </td><td>-23.7409261662      </td><td>34.3510804445       </td></tr>\n",
       "\t<tr><td>04: Alliance        </td><td>1425                </td><td>0.338323677784871   </td><td>0.0369087414271693  </td><td>6.11443537285894    </td><td>-62.1670449103      </td><td>69.5556002667       </td></tr>\n",
       "\t<tr><td>04: Contract        </td><td>1463                </td><td>0.459772013617273   </td><td>6.11109847320045e-05</td><td>4.37437575439815    </td><td>-31.6809012752      </td><td>62.0539352644       </td></tr>\n",
       "\t<tr><td>04: License         </td><td>597                 </td><td>0.454556892172313   </td><td>0.000715793634264164</td><td>3.26544450779179    </td><td>-12.4628922647      </td><td>16.3369740359       </td></tr>\n",
       "\t<tr><td><span style=white-space:pre-wrap>04: M&amp;A          </span></td><td><span style=white-space:pre-wrap>986  </span>                </td><td>0.249050085943247                                            </td><td><span style=white-space:pre-wrap>0.0362354525070778  </span> </td><td>3.72904214706798                                             </td><td>-18.9780205652                                               </td><td>22.8806091683                                                </td></tr>\n",
       "\t<tr><td>04: Restructuring   </td><td>538                 </td><td>0.0394194138975933  </td><td>0.853435579853647   </td><td>4.9469678770237     </td><td>-54.5392874698      </td><td>29.6784016258       </td></tr>\n",
       "\t<tr><td>05: PR              </td><td>2215                </td><td>0.01877181598509    </td><td>0.836631861164915   </td><td>4.28396333922376    </td><td>-102.331267772      </td><td>29.6626633365       </td></tr>\n",
       "\t<tr><td>05: Price           </td><td>546                 </td><td>0.149133116998695   </td><td>0.312752978621587   </td><td>3.44887859605931    </td><td>-11.6679313605      </td><td>20.7254914161       </td></tr>\n",
       "\t<tr><td>05: Promotion       </td><td>27                  </td><td>0.165835677325804   </td><td>0.801978757427157   </td><td>3.40104949404788    </td><td>-4.78256176327      </td><td>8.8915769704        </td></tr>\n",
       "\t<tr><td>06: Capacity        </td><td>2504                </td><td>0.196183944208412   </td><td>0.0051665922877667  </td><td>3.50743300454744    </td><td>-48.2215989004      </td><td>20.4967347643       </td></tr>\n",
       "\t<tr><td>06: Order           </td><td>1281                </td><td>0.475009674914387   </td><td>1.69830098908708e-05</td><td>3.93753892915936    </td><td>-17.091056424       </td><td>33.3529677424       </td></tr>\n",
       "\t<tr><td>10: Exit            </td><td>91                  </td><td>-0.530721537262802  </td><td>0.194757512361784   </td><td>3.87545956180883    </td><td>-12.8531227809      </td><td>15.9234657124       </td></tr>\n",
       "</tbody>\n",
       "</table>\n"
      ],
      "text/latex": [
       "\\begin{tabular}{r|lllllll}\n",
       " prtype & num & mean{[}\\%{]} & p-value (mean != 0) & sd & min & max\\\\\n",
       "\\hline\n",
       "\t 01: Product          & 28354                & 0.0253641236023993   & 0.236746650305999    & 3.60973400546599     & -110.068472522       & 68.8248475052       \\\\\n",
       "\t 02: Process          & 416                  & 0.341823316367909    & 0.0287496701216901   & 3.17690111402763     & -10.3320615941       & 13.2311654483       \\\\\n",
       "\t 03: Technology       & 3124                 & 0.116674015192258    & 0.060625912344404    & 3.47448250128796     & -23.7409261662       & 34.3510804445       \\\\\n",
       "\t 04: Alliance         & 1425                 & 0.338323677784871    & 0.0369087414271693   & 6.11443537285894     & -62.1670449103       & 69.5556002667       \\\\\n",
       "\t 04: Contract         & 1463                 & 0.459772013617273    & 6.11109847320045e-05 & 4.37437575439815     & -31.6809012752       & 62.0539352644       \\\\\n",
       "\t 04: License          & 597                  & 0.454556892172313    & 0.000715793634264164 & 3.26544450779179     & -12.4628922647       & 16.3369740359       \\\\\n",
       "\t 04: M\\&A            & 986                  & 0.249050085943247    & 0.0362354525070778   & 3.72904214706798     & -18.9780205652       & 22.8806091683       \\\\\n",
       "\t 04: Restructuring    & 538                  & 0.0394194138975933   & 0.853435579853647    & 4.9469678770237      & -54.5392874698       & 29.6784016258       \\\\\n",
       "\t 05: PR               & 2215                 & 0.01877181598509     & 0.836631861164915    & 4.28396333922376     & -102.331267772       & 29.6626633365       \\\\\n",
       "\t 05: Price            & 546                  & 0.149133116998695    & 0.312752978621587    & 3.44887859605931     & -11.6679313605       & 20.7254914161       \\\\\n",
       "\t 05: Promotion        & 27                   & 0.165835677325804    & 0.801978757427157    & 3.40104949404788     & -4.78256176327       & 8.8915769704        \\\\\n",
       "\t 06: Capacity         & 2504                 & 0.196183944208412    & 0.0051665922877667   & 3.50743300454744     & -48.2215989004       & 20.4967347643       \\\\\n",
       "\t 06: Order            & 1281                 & 0.475009674914387    & 1.69830098908708e-05 & 3.93753892915936     & -17.091056424        & 33.3529677424       \\\\\n",
       "\t 10: Exit             & 91                   & -0.530721537262802   & 0.194757512361784    & 3.87545956180883     & -12.8531227809       & 15.9234657124       \\\\\n",
       "\\end{tabular}\n"
      ],
      "text/markdown": [
       "\n",
       "prtype | num | mean[%] | p-value (mean != 0) | sd | min | max | \n",
       "|---|---|---|---|---|---|---|---|---|---|---|---|---|---|\n",
       "| 01: Product          | 28354                | 0.0253641236023993   | 0.236746650305999    | 3.60973400546599     | -110.068472522       | 68.8248475052        | \n",
       "| 02: Process          | 416                  | 0.341823316367909    | 0.0287496701216901   | 3.17690111402763     | -10.3320615941       | 13.2311654483        | \n",
       "| 03: Technology       | 3124                 | 0.116674015192258    | 0.060625912344404    | 3.47448250128796     | -23.7409261662       | 34.3510804445        | \n",
       "| 04: Alliance         | 1425                 | 0.338323677784871    | 0.0369087414271693   | 6.11443537285894     | -62.1670449103       | 69.5556002667        | \n",
       "| 04: Contract         | 1463                 | 0.459772013617273    | 6.11109847320045e-05 | 4.37437575439815     | -31.6809012752       | 62.0539352644        | \n",
       "| 04: License          | 597                  | 0.454556892172313    | 0.000715793634264164 | 3.26544450779179     | -12.4628922647       | 16.3369740359        | \n",
       "| 04: M&A              | 986                  | 0.249050085943247    | 0.0362354525070778   | 3.72904214706798     | -18.9780205652       | 22.8806091683        | \n",
       "| 04: Restructuring    | 538                  | 0.0394194138975933   | 0.853435579853647    | 4.9469678770237      | -54.5392874698       | 29.6784016258        | \n",
       "| 05: PR               | 2215                 | 0.01877181598509     | 0.836631861164915    | 4.28396333922376     | -102.331267772       | 29.6626633365        | \n",
       "| 05: Price            | 546                  | 0.149133116998695    | 0.312752978621587    | 3.44887859605931     | -11.6679313605       | 20.7254914161        | \n",
       "| 05: Promotion        | 27                   | 0.165835677325804    | 0.801978757427157    | 3.40104949404788     | -4.78256176327       | 8.8915769704         | \n",
       "| 06: Capacity         | 2504                 | 0.196183944208412    | 0.0051665922877667   | 3.50743300454744     | -48.2215989004       | 20.4967347643        | \n",
       "| 06: Order            | 1281                 | 0.475009674914387    | 1.69830098908708e-05 | 3.93753892915936     | -17.091056424        | 33.3529677424        | \n",
       "| 10: Exit             | 91                   | -0.530721537262802   | 0.194757512361784    | 3.87545956180883     | -12.8531227809       | 15.9234657124        | \n",
       "\n",
       "\n"
      ],
      "text/plain": [
       "   prtype            num   mean[%]            p-value (mean != 0) \n",
       "1  01: Product       28354 0.0253641236023993 0.236746650305999   \n",
       "2  02: Process       416   0.341823316367909  0.0287496701216901  \n",
       "3  03: Technology    3124  0.116674015192258  0.060625912344404   \n",
       "4  04: Alliance      1425  0.338323677784871  0.0369087414271693  \n",
       "5  04: Contract      1463  0.459772013617273  6.11109847320045e-05\n",
       "6  04: License       597   0.454556892172313  0.000715793634264164\n",
       "7  04: M&A           986   0.249050085943247  0.0362354525070778  \n",
       "8  04: Restructuring 538   0.0394194138975933 0.853435579853647   \n",
       "9  05: PR            2215  0.01877181598509   0.836631861164915   \n",
       "10 05: Price         546   0.149133116998695  0.312752978621587   \n",
       "11 05: Promotion     27    0.165835677325804  0.801978757427157   \n",
       "12 06: Capacity      2504  0.196183944208412  0.0051665922877667  \n",
       "13 06: Order         1281  0.475009674914387  1.69830098908708e-05\n",
       "14 10: Exit          91    -0.530721537262802 0.194757512361784   \n",
       "   sd               min            max          \n",
       "1  3.60973400546599 -110.068472522 68.8248475052\n",
       "2  3.17690111402763 -10.3320615941 13.2311654483\n",
       "3  3.47448250128796 -23.7409261662 34.3510804445\n",
       "4  6.11443537285894 -62.1670449103 69.5556002667\n",
       "5  4.37437575439815 -31.6809012752 62.0539352644\n",
       "6  3.26544450779179 -12.4628922647 16.3369740359\n",
       "7  3.72904214706798 -18.9780205652 22.8806091683\n",
       "8  4.9469678770237  -54.5392874698 29.6784016258\n",
       "9  4.28396333922376 -102.331267772 29.6626633365\n",
       "10 3.44887859605931 -11.6679313605 20.7254914161\n",
       "11 3.40104949404788 -4.78256176327 8.8915769704 \n",
       "12 3.50743300454744 -48.2215989004 20.4967347643\n",
       "13 3.93753892915936 -17.091056424  33.3529677424\n",
       "14 3.87545956180883 -12.8531227809 15.9234657124"
      ]
     },
     "metadata": {},
     "output_type": "display_data"
    }
   ],
   "source": [
    "car.types <- list()\n",
    "for (type in sort(types)) {\n",
    "    car.val.type <- as.numeric(car.data[car.data$V2 == type,]$V4) * 100\n",
    "    #print(c(t, length(car.val.type), mean(car.val.type), sd(car.val.type), min(car.val.type), max(car.val.type)))\n",
    "    #print(list(c(t, length(car.val.type), mean(car.val.type), sd(car.val.type), min(car.val.type), max(car.val.type))))\n",
    "    pv <- t.test(car.val.type)$p.value\n",
    "    car.types <- c(car.types, list(c(type, length(car.val.type), mean(car.val.type), pv, sd(car.val.type), min(car.val.type), max(car.val.type))))\n",
    "}\n",
    "Unzip <- function(...) rbind(data.frame(), ...)\n",
    "car.frame <- do.call(Unzip, car.types)\n",
    "colnames(car.frame) <- c(\"prtype\", \"num\", \"mean[%]\", \"p-value (mean != 0)\", \"sd\", \"min\", \"max\")\n",
    "car.frame\n",
    "\n",
    "# print histgram\n",
    "#for (t in sort(types)) {\n",
    "#    car.val.type <- as.numeric(car.data[car.data$V2 == t,]$V4) * 100\n",
    "#    print.result(car.val.type)\n",
    "#}"
   ]
  },
  {
   "cell_type": "code",
   "execution_count": 79,
   "metadata": {
    "collapsed": false
   },
   "outputs": [
    {
     "data": {
      "text/html": [
       "<table>\n",
       "<thead><tr><th></th><th scope=col>prtype</th><th scope=col>num</th><th scope=col>mean[%]</th><th scope=col>p-value (mean != 0)</th><th scope=col>sd</th><th scope=col>min</th><th scope=col>max</th></tr></thead>\n",
       "<tbody>\n",
       "\t<tr><th scope=row>13</th><td>06: Order           </td><td>1281                </td><td>0.475009674914387   </td><td>1.69830098908708e-05</td><td>3.93753892915936    </td><td>-17.091056424       </td><td>33.3529677424       </td></tr>\n",
       "\t<tr><th scope=row>5</th><td>04: Contract        </td><td>1463                </td><td>0.459772013617273   </td><td>6.11109847320045e-05</td><td>4.37437575439815    </td><td>-31.6809012752      </td><td>62.0539352644       </td></tr>\n",
       "\t<tr><th scope=row>6</th><td>04: License         </td><td>597                 </td><td>0.454556892172313   </td><td>0.000715793634264164</td><td>3.26544450779179    </td><td>-12.4628922647      </td><td>16.3369740359       </td></tr>\n",
       "\t<tr><th scope=row>2</th><td>02: Process         </td><td>416                 </td><td>0.341823316367909   </td><td>0.0287496701216901  </td><td>3.17690111402763    </td><td>-10.3320615941      </td><td>13.2311654483       </td></tr>\n",
       "\t<tr><th scope=row>4</th><td>04: Alliance        </td><td>1425                </td><td>0.338323677784871   </td><td>0.0369087414271693  </td><td>6.11443537285894    </td><td>-62.1670449103      </td><td>69.5556002667       </td></tr>\n",
       "\t<tr><th scope=row>7</th><td><span style=white-space:pre-wrap>04: M&amp;A          </span></td><td><span style=white-space:pre-wrap>986  </span>                </td><td>0.249050085943247                                            </td><td><span style=white-space:pre-wrap>0.0362354525070778  </span> </td><td>3.72904214706798                                             </td><td>-18.9780205652                                               </td><td>22.8806091683                                                </td></tr>\n",
       "\t<tr><th scope=row>12</th><td>06: Capacity        </td><td>2504                </td><td>0.196183944208412   </td><td>0.0051665922877667  </td><td>3.50743300454744    </td><td>-48.2215989004      </td><td>20.4967347643       </td></tr>\n",
       "\t<tr><th scope=row>11</th><td>05: Promotion       </td><td>27                  </td><td>0.165835677325804   </td><td>0.801978757427157   </td><td>3.40104949404788    </td><td>-4.78256176327      </td><td>8.8915769704        </td></tr>\n",
       "\t<tr><th scope=row>10</th><td>05: Price           </td><td>546                 </td><td>0.149133116998695   </td><td>0.312752978621587   </td><td>3.44887859605931    </td><td>-11.6679313605      </td><td>20.7254914161       </td></tr>\n",
       "\t<tr><th scope=row>3</th><td>03: Technology      </td><td>3124                </td><td>0.116674015192258   </td><td>0.060625912344404   </td><td>3.47448250128796    </td><td>-23.7409261662      </td><td>34.3510804445       </td></tr>\n",
       "\t<tr><th scope=row>8</th><td>04: Restructuring   </td><td>538                 </td><td>0.0394194138975933  </td><td>0.853435579853647   </td><td>4.9469678770237     </td><td>-54.5392874698      </td><td>29.6784016258       </td></tr>\n",
       "\t<tr><th scope=row>1</th><td>01: Product         </td><td>28354               </td><td>0.0253641236023993  </td><td>0.236746650305999   </td><td>3.60973400546599    </td><td>-110.068472522      </td><td>68.8248475052       </td></tr>\n",
       "\t<tr><th scope=row>9</th><td>05: PR              </td><td>2215                </td><td>0.01877181598509    </td><td>0.836631861164915   </td><td>4.28396333922376    </td><td>-102.331267772      </td><td>29.6626633365       </td></tr>\n",
       "\t<tr><th scope=row>14</th><td>10: Exit            </td><td>91                  </td><td>-0.530721537262802  </td><td>0.194757512361784   </td><td>3.87545956180883    </td><td>-12.8531227809      </td><td>15.9234657124       </td></tr>\n",
       "</tbody>\n",
       "</table>\n"
      ],
      "text/latex": [
       "\\begin{tabular}{r|lllllll}\n",
       "  & prtype & num & mean{[}\\%{]} & p-value (mean != 0) & sd & min & max\\\\\n",
       "\\hline\n",
       "\t13 & 06: Order            & 1281                 & 0.475009674914387    & 1.69830098908708e-05 & 3.93753892915936     & -17.091056424        & 33.3529677424       \\\\\n",
       "\t5 & 04: Contract         & 1463                 & 0.459772013617273    & 6.11109847320045e-05 & 4.37437575439815     & -31.6809012752       & 62.0539352644       \\\\\n",
       "\t6 & 04: License          & 597                  & 0.454556892172313    & 0.000715793634264164 & 3.26544450779179     & -12.4628922647       & 16.3369740359       \\\\\n",
       "\t2 & 02: Process          & 416                  & 0.341823316367909    & 0.0287496701216901   & 3.17690111402763     & -10.3320615941       & 13.2311654483       \\\\\n",
       "\t4 & 04: Alliance         & 1425                 & 0.338323677784871    & 0.0369087414271693   & 6.11443537285894     & -62.1670449103       & 69.5556002667       \\\\\n",
       "\t7 & 04: M\\&A            & 986                  & 0.249050085943247    & 0.0362354525070778   & 3.72904214706798     & -18.9780205652       & 22.8806091683       \\\\\n",
       "\t12 & 06: Capacity         & 2504                 & 0.196183944208412    & 0.0051665922877667   & 3.50743300454744     & -48.2215989004       & 20.4967347643       \\\\\n",
       "\t11 & 05: Promotion        & 27                   & 0.165835677325804    & 0.801978757427157    & 3.40104949404788     & -4.78256176327       & 8.8915769704        \\\\\n",
       "\t10 & 05: Price            & 546                  & 0.149133116998695    & 0.312752978621587    & 3.44887859605931     & -11.6679313605       & 20.7254914161       \\\\\n",
       "\t3 & 03: Technology       & 3124                 & 0.116674015192258    & 0.060625912344404    & 3.47448250128796     & -23.7409261662       & 34.3510804445       \\\\\n",
       "\t8 & 04: Restructuring    & 538                  & 0.0394194138975933   & 0.853435579853647    & 4.9469678770237      & -54.5392874698       & 29.6784016258       \\\\\n",
       "\t1 & 01: Product          & 28354                & 0.0253641236023993   & 0.236746650305999    & 3.60973400546599     & -110.068472522       & 68.8248475052       \\\\\n",
       "\t9 & 05: PR               & 2215                 & 0.01877181598509     & 0.836631861164915    & 4.28396333922376     & -102.331267772       & 29.6626633365       \\\\\n",
       "\t14 & 10: Exit             & 91                   & -0.530721537262802   & 0.194757512361784    & 3.87545956180883     & -12.8531227809       & 15.9234657124       \\\\\n",
       "\\end{tabular}\n"
      ],
      "text/markdown": [
       "\n",
       "| <!--/--> | prtype | num | mean[%] | p-value (mean != 0) | sd | min | max | \n",
       "|---|---|---|---|---|---|---|---|---|---|---|---|---|---|\n",
       "| 13 | 06: Order            | 1281                 | 0.475009674914387    | 1.69830098908708e-05 | 3.93753892915936     | -17.091056424        | 33.3529677424        | \n",
       "| 5 | 04: Contract         | 1463                 | 0.459772013617273    | 6.11109847320045e-05 | 4.37437575439815     | -31.6809012752       | 62.0539352644        | \n",
       "| 6 | 04: License          | 597                  | 0.454556892172313    | 0.000715793634264164 | 3.26544450779179     | -12.4628922647       | 16.3369740359        | \n",
       "| 2 | 02: Process          | 416                  | 0.341823316367909    | 0.0287496701216901   | 3.17690111402763     | -10.3320615941       | 13.2311654483        | \n",
       "| 4 | 04: Alliance         | 1425                 | 0.338323677784871    | 0.0369087414271693   | 6.11443537285894     | -62.1670449103       | 69.5556002667        | \n",
       "| 7 | 04: M&A              | 986                  | 0.249050085943247    | 0.0362354525070778   | 3.72904214706798     | -18.9780205652       | 22.8806091683        | \n",
       "| 12 | 06: Capacity         | 2504                 | 0.196183944208412    | 0.0051665922877667   | 3.50743300454744     | -48.2215989004       | 20.4967347643        | \n",
       "| 11 | 05: Promotion        | 27                   | 0.165835677325804    | 0.801978757427157    | 3.40104949404788     | -4.78256176327       | 8.8915769704         | \n",
       "| 10 | 05: Price            | 546                  | 0.149133116998695    | 0.312752978621587    | 3.44887859605931     | -11.6679313605       | 20.7254914161        | \n",
       "| 3 | 03: Technology       | 3124                 | 0.116674015192258    | 0.060625912344404    | 3.47448250128796     | -23.7409261662       | 34.3510804445        | \n",
       "| 8 | 04: Restructuring    | 538                  | 0.0394194138975933   | 0.853435579853647    | 4.9469678770237      | -54.5392874698       | 29.6784016258        | \n",
       "| 1 | 01: Product          | 28354                | 0.0253641236023993   | 0.236746650305999    | 3.60973400546599     | -110.068472522       | 68.8248475052        | \n",
       "| 9 | 05: PR               | 2215                 | 0.01877181598509     | 0.836631861164915    | 4.28396333922376     | -102.331267772       | 29.6626633365        | \n",
       "| 14 | 10: Exit             | 91                   | -0.530721537262802   | 0.194757512361784    | 3.87545956180883     | -12.8531227809       | 15.9234657124        | \n",
       "\n",
       "\n"
      ],
      "text/plain": [
       "   prtype            num   mean[%]            p-value (mean != 0) \n",
       "13 06: Order         1281  0.475009674914387  1.69830098908708e-05\n",
       "5  04: Contract      1463  0.459772013617273  6.11109847320045e-05\n",
       "6  04: License       597   0.454556892172313  0.000715793634264164\n",
       "2  02: Process       416   0.341823316367909  0.0287496701216901  \n",
       "4  04: Alliance      1425  0.338323677784871  0.0369087414271693  \n",
       "7  04: M&A           986   0.249050085943247  0.0362354525070778  \n",
       "12 06: Capacity      2504  0.196183944208412  0.0051665922877667  \n",
       "11 05: Promotion     27    0.165835677325804  0.801978757427157   \n",
       "10 05: Price         546   0.149133116998695  0.312752978621587   \n",
       "3  03: Technology    3124  0.116674015192258  0.060625912344404   \n",
       "8  04: Restructuring 538   0.0394194138975933 0.853435579853647   \n",
       "1  01: Product       28354 0.0253641236023993 0.236746650305999   \n",
       "9  05: PR            2215  0.01877181598509   0.836631861164915   \n",
       "14 10: Exit          91    -0.530721537262802 0.194757512361784   \n",
       "   sd               min            max          \n",
       "13 3.93753892915936 -17.091056424  33.3529677424\n",
       "5  4.37437575439815 -31.6809012752 62.0539352644\n",
       "6  3.26544450779179 -12.4628922647 16.3369740359\n",
       "2  3.17690111402763 -10.3320615941 13.2311654483\n",
       "4  6.11443537285894 -62.1670449103 69.5556002667\n",
       "7  3.72904214706798 -18.9780205652 22.8806091683\n",
       "12 3.50743300454744 -48.2215989004 20.4967347643\n",
       "11 3.40104949404788 -4.78256176327 8.8915769704 \n",
       "10 3.44887859605931 -11.6679313605 20.7254914161\n",
       "3  3.47448250128796 -23.7409261662 34.3510804445\n",
       "8  4.9469678770237  -54.5392874698 29.6784016258\n",
       "1  3.60973400546599 -110.068472522 68.8248475052\n",
       "9  4.28396333922376 -102.331267772 29.6626633365\n",
       "14 3.87545956180883 -12.8531227809 15.9234657124"
      ]
     },
     "metadata": {},
     "output_type": "display_data"
    }
   ],
   "source": [
    "car.frame[order(car.frame$\"mean[%]\", decreasing = TRUE),]"
   ]
  },
  {
   "cell_type": "markdown",
   "metadata": {},
   "source": [
    "平均値でソートしたもの。大事そうなタイプから並んでいたりする。。？\n",
    "\n",
    "\"01: Product\"は全体的に見るとほぼ影響なしとなっている\n",
    "\n",
    "p値は多重検定補正はしていない"
   ]
  },
  {
   "cell_type": "markdown",
   "metadata": {
    "collapsed": true
   },
   "source": [
    "### 企業ごとのCARは？"
   ]
  },
  {
   "cell_type": "code",
   "execution_count": null,
   "metadata": {
    "collapsed": true
   },
   "outputs": [],
   "source": []
  }
 ],
 "metadata": {
  "kernelspec": {
   "display_name": "R",
   "language": "R",
   "name": "ir"
  },
  "language_info": {
   "codemirror_mode": "r",
   "file_extension": ".r",
   "mimetype": "text/x-r-source",
   "name": "R",
   "pygments_lexer": "r",
   "version": "3.3.2"
  }
 },
 "nbformat": 4,
 "nbformat_minor": 2
}
