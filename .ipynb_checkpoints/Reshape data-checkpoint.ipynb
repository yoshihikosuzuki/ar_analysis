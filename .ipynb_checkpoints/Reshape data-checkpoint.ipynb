{
 "cells": [
  {
   "cell_type": "code",
   "execution_count": 1,
   "metadata": {
    "collapsed": true
   },
   "outputs": [],
   "source": [
    "cd .."
   ]
  },
  {
   "cell_type": "markdown",
   "metadata": {},
   "source": [
    "## プレスリリースデータの整形"
   ]
  },
  {
   "cell_type": "code",
   "execution_count": 2,
   "metadata": {
    "collapsed": false
   },
   "outputs": [
    {
     "name": "stdout",
     "output_type": "stream",
     "text": [
      "   24001 2003.csv\n",
      "   27568 2004.csv\n",
      "   29311 2005.csv\n",
      "       0 2006.csv\n",
      "   28611 2007.csv\n",
      "   29947 2008.csv\n",
      "       0 2009.csv\n",
      "       0 2010.csv\n",
      "   29830 2011.csv\n",
      "   27031 2012.csv\n",
      "   25100 2013.csv\n",
      " 1129970 2014.csv\n",
      " 1351369 total\n"
     ]
    }
   ],
   "source": [
    "wc -l 20*.csv"
   ]
  },
  {
   "cell_type": "markdown",
   "metadata": {},
   "source": [
    "形式がおかしいデータが混ざっているので注意しつつ必要なデータを抽出"
   ]
  },
  {
   "cell_type": "code",
   "execution_count": 11,
   "metadata": {
    "collapsed": false
   },
   "outputs": [
    {
     "name": "stdout",
     "output_type": "stream",
     "text": [
      "articleid,date,media,length,headline,bodysub,genrel,genres\n",
      "articleid,date,media,length,headline,bodysub,genrel,genres\n",
      "articleid,date,media,length,headline,bodysub,genrel,genres\n",
      "articleid,date,media,length,headline,bodysub,genrel,genres\n",
      "articleid,date,media,length,headline,bodysub,genrel,genres\n",
      "articleid,date,media,length,headline,bodysub,genrel,genres\n",
      "articleid,date,media,length,headline,bodysub,genrel,genres\n",
      "articleid,date,media,length,headline,bodysub,genrel,genres\n"
     ]
    }
   ],
   "source": [
    "for DATA in 2003.csv 2004.csv 2005.csv 2007.csv 2008.csv 2011.csv 2012.csv 2013.csv; do awk -F'\",\"' '{if (NF != 8) print $0}' ${DATA}; done"
   ]
  },
  {
   "cell_type": "code",
   "execution_count": 13,
   "metadata": {
    "collapsed": true
   },
   "outputs": [],
   "source": [
    "for DATA in 2003.csv 2004.csv 2005.csv 2007.csv 2008.csv 2011.csv 2012.csv 2013.csv; do awk -F'\",\"' 'NR > 1 {print substr($1, 2) \"\\t\" $2 \"\\t\" $6}' ${DATA} > ${DATA}.for_ar; done"
   ]
  },
  {
   "cell_type": "code",
   "execution_count": 7,
   "metadata": {
    "collapsed": true
   },
   "outputs": [],
   "source": [
    "LF=$(printf '\\\\\\012_')\n",
    "LF=${LF%_}"
   ]
  },
  {
   "cell_type": "code",
   "execution_count": 18,
   "metadata": {
    "collapsed": true
   },
   "outputs": [],
   "source": [
    "for DATA in 2006.csv 2010.csv; do sed \"s|\\\"\\\"|\\\"${LF}\\\"|g\" ${DATA} | sed \"s/genres/genres${LF}/\" | awk -F'\",\"' 'NR > 1 {print substr($1, 2) \"\\t\" $2 \"\\t\" $6}' > ${DATA}.for_ar; done"
   ]
  },
  {
   "cell_type": "code",
   "execution_count": 16,
   "metadata": {
    "collapsed": true
   },
   "outputs": [],
   "source": [
    "nkf -Lu 2009.csv | awk -F'\",\"' 'NR > 1 {print substr($1, 2) \"\\t\" $2 \"\\t\" $6}' > 2009.csv.for_ar"
   ]
  },
  {
   "cell_type": "code",
   "execution_count": 19,
   "metadata": {
    "collapsed": true
   },
   "outputs": [],
   "source": [
    "tr -d \"\\n\" < 2014.csv | sed \"s/genres/genres${LF}/\" | sed \"s|\\\"\\\"|\\\"${LF}\\\"|g\" | awk -F'\",\"' 'NR > 1 {print substr($1, 2) \"\\t\" $2 \"\\t\" $6}' > 2014.csv.for_ar"
   ]
  },
  {
   "cell_type": "code",
   "execution_count": 21,
   "metadata": {
    "collapsed": false
   },
   "outputs": [
    {
     "name": "stdout",
     "output_type": "stream",
     "text": [
      "   24001 2003.csv.for_ar\n",
      "   27568 2004.csv.for_ar\n",
      "   29311 2005.csv.for_ar\n",
      "   29785 2006.csv.for_ar\n",
      "   28611 2007.csv.for_ar\n",
      "   29947 2008.csv.for_ar\n",
      "   31110 2009.csv.for_ar\n",
      "   29656 2010.csv.for_ar\n",
      "   29830 2011.csv.for_ar\n",
      "   27031 2012.csv.for_ar\n",
      "   25100 2013.csv.for_ar\n",
      "   24515 2014.csv.for_ar\n",
      "  336465 total\n"
     ]
    }
   ],
   "source": [
    "wc -l *.for_ar"
   ]
  },
  {
   "cell_type": "code",
   "execution_count": 22,
   "metadata": {
    "collapsed": true
   },
   "outputs": [],
   "source": [
    "#for DATA in *.for_ar; do awk -F'\\t' 'NF != 3 {print $0}' ${DATA}; done\n",
    "for DATA in *.for_ar; do awk -F'\\t' '$1 == \"\" || $2 == \"\" || $3 == \"\"{print FILENAME, NR, $0}' ${DATA}; done"
   ]
  },
  {
   "cell_type": "markdown",
   "metadata": {},
   "source": [
    "タブ区切りにしたことで変な行が無いか確認 -> 2010, 2014で本文中に`\",\"`が含まれていることによる異常なエントリがあった。"
   ]
  },
  {
   "cell_type": "code",
   "execution_count": null,
   "metadata": {
    "collapsed": true
   },
   "outputs": [],
   "source": [
    "# 確認したはずが変な行があったので、以下のコマンドで直した\n",
    "# gsed '200369,200373d' pressrelease_all.csv | gsed '200368a NIKPRLRSP260505_06092010        20100906        発表日：2010年9月6日特定保健用食品「蕃爽麗茶　香ばし風味」を新発売～現行「蕃爽麗茶」もデザインリニューアルし、ブランド強化～　株式会社ヤクルト本社（社長　堀　澄也）では、特定保健用食品「蕃爽麗茶　香ばし風味」（２００ｍｌ紙容器、５００ｍｌＰＥＴ容器）を１０月１日から全国で新発売します。また、現行の「蕃爽麗茶」については、デザインリニューアルを行い、９月１３日から発売します。　「蕃爽麗茶　香ばし風味」の新発売に合わせて、１０月からテレビＣＭの放映および宅配・店頭チャネルで消費者キャンペーンを実施します。　これにより、当社では、現在のお客さまの継続愛飲と顧客層の拡大を図り、「蕃爽麗茶」ブランドの売上拡大を図ります。　「蕃爽麗茶」は、グァバ葉ポリフェノールの働きで糖の吸収をおだやかにし、食後の血糖値の上昇を抑制する特定保健用食品です。血糖値関連飲料の先駆けとなった商品であり、薬効感のある独特の風味がお客さまから支持されています。　「蕃爽麗茶　香ばし風味」は、特定保健用食品としての許可表示はそのままに、独特の渋みや苦みを抑え、香ばしく、すっきりとした風味に仕上げて、初めて飲む方にも飲みやすくしています。また、パッケージについては、「蕃爽麗茶」のイメージを踏襲しつつ、清涼感や軽やかさを付与したデザインにし、飲みやすい健康茶であることを表現しています。　現行の「蕃爽麗茶」は、従来から支持をいただいている\"薬効感\",\"伝統感\",\"本物感\"のイメージをより強調した、重厚なデザイン・色調に変更します。　なお、初年度販売目標は「蕃爽麗茶」ブランド合計で１４９万ケース（２０１０年１０月～２０１１年３月）です。商品特長および商品概要は下記のとおりです。記１．商品特長　（１）特定保健用食品としての許可表示（シリーズ共通）グァバ葉ポリフェノールの働きで、糖の吸収をおだやかにするので、食後の血糖値が気になる方に適した飲料です。　（２）風味　　　１）「蕃爽麗茶　香ばし風味」　　　　「蕃爽麗茶」の独特の苦みや渋みを抑え、香ばしく、すっきりとした風味に仕上げています。　　　２）「蕃爽麗茶」（現行品）　　　　厳選されたグァバ葉を使用し、当社独自の製法によりグァバ葉独特の苦味、渋味を抑えた風味に仕上げています。（変更なし）　（３）デザイン　　　１）「蕃爽麗茶　香ばし風味」　　　　「蕃爽麗茶」のイメージを踏襲しつつ、清涼感や軽やかさを付与したデザインにし、飲みやすい健康茶であることを表現しています。　　　２）「蕃爽麗茶」（現行品）\"薬効感\",\"伝統感\",\"本物感\"を強調するため、重厚なデザイン・色調に変更します。２．「蕃爽麗茶　香ばし風味」の商品概要　（１）商品名：「蕃爽麗茶　香ばし風味」　（２）商品分類：清涼飲料水（食品衛生法上）　（３）使用原料：グァバ葉、蕃果エキス、香料、ビタミンＣ　（４）賞味期限：　　　１）２００ｍｌ紙容器　常温未開封の状態で製造日より１２０日後　　　２）５００ｍｌＰＥＴ容器　常温未開封の状態で製造日より１８０日後　（５）容器・容量：　　　１）無菌包装スリムタイプ紙容器・２００ｍｌ　　　２）ＰＥＴ容器・５００ｍｌ　（６）荷姿：　　　１）２００ｍｌ紙容器　１ケース２４個入りトレイシュリンク包装　　　２）５００ｍｌＰＥＴ容器　１ケース２４本入り段ボール包装　（７）メーカー希望小売価格：　　　１）２００ｍｌ紙容器　１００円（税別）　　　２）５００ｍｌＰＥＴ容器　１９０円（税別）３．販売方法　（１）発売日：　　　１）「蕃爽麗茶」リニューアル品：２０１０年９月１３日（月）　　　２）「蕃爽麗茶　香ばし風味」：２０１０年１０月１日（金）　（２）販売地区：全国　（３）販売チャネル：　　　１）ヤクルトレディによる家庭および職域等への訪問販売　　　２）スーパーやコンビニエンスストア等での店頭販売　　　３）自動販売機での販売※商品画像は、添付の関連資料を参照以上＜お問い合わせ先＞　ヤクルトお客さま相談センター　０１２０－１１（イイ）－８９６０（ヤクルト）004'"
   ]
  },
  {
   "cell_type": "markdown",
   "metadata": {},
   "source": [
    "2010年と2014年のデータを作り直し\n",
    "\n",
    "**今後同じ処理を行う際は、全てのデータをこっちのやり方で処理する**"
   ]
  },
  {
   "cell_type": "code",
   "execution_count": 13,
   "metadata": {
    "collapsed": true
   },
   "outputs": [],
   "source": [
    "sed \"s|\\\"\\\"NIK|\\\"${LF}NIK|g\" 2010.csv | sed \"s/genres\\\"/genres${LF}/\" > 2010.csv.2"
   ]
  },
  {
   "cell_type": "code",
   "execution_count": 20,
   "metadata": {
    "collapsed": false
   },
   "outputs": [],
   "source": [
    "python3 reshape_pr.py 2010.csv.2 > 2010.csv.for_ar"
   ]
  },
  {
   "cell_type": "code",
   "execution_count": 16,
   "metadata": {
    "collapsed": true
   },
   "outputs": [],
   "source": [
    "tr -d \"\\n\" < 2014.csv | sed \"s|\\\"\\\"NIK|\\\"${LF}NIK|g\" | sed \"s/genres\\\"/genres${LF}/\" > 2014.csv.2"
   ]
  },
  {
   "cell_type": "code",
   "execution_count": 21,
   "metadata": {
    "collapsed": true
   },
   "outputs": [],
   "source": [
    "python3 reshape_pr.py 2014.csv.2 > 2014.csv.for_ar"
   ]
  },
  {
   "cell_type": "code",
   "execution_count": 22,
   "metadata": {
    "collapsed": true
   },
   "outputs": [],
   "source": [
    "cat *.for_ar > pressrelease_all.csv"
   ]
  },
  {
   "cell_type": "code",
   "execution_count": 23,
   "metadata": {
    "collapsed": false
   },
   "outputs": [
    {
     "name": "stdout",
     "output_type": "stream",
     "text": [
      "  336297 pressrelease_all.csv\n"
     ]
    }
   ],
   "source": [
    "wc -l pressrelease_all.csv"
   ]
  },
  {
   "cell_type": "markdown",
   "metadata": {},
   "source": [
    "`pressrelease_all.csv` は全プレスリリースデータを `articleid`, `date`, `bodysub` のタブ区切りで各行に記述したもの"
   ]
  },
  {
   "cell_type": "markdown",
   "metadata": {},
   "source": [
    "## 企業名辞書から上場企業のデータを抽出"
   ]
  },
  {
   "cell_type": "code",
   "execution_count": 4,
   "metadata": {
    "collapsed": true
   },
   "outputs": [],
   "source": [
    "awk -F'\\t' 'NR > 2 && $26 != \"\" && $26 ~ /[0-9]+/ {print $6 \"\\t\" $13 \"\\t\" $26}' comp_dict.txt > listed_company"
   ]
  },
  {
   "cell_type": "code",
   "execution_count": 10,
   "metadata": {
    "collapsed": false
   },
   "outputs": [
    {
     "name": "stdout",
     "output_type": "stream",
     "text": [
      "    3567 listed_company\n"
     ]
    }
   ],
   "source": [
    "wc -l listed_company"
   ]
  },
  {
   "cell_type": "markdown",
   "metadata": {},
   "source": [
    "`listed_company` は企業名辞書から上場企業(証券コードがあるもの)だけについて、企業名称・住所・証券コードを抽出したもの"
   ]
  },
  {
   "cell_type": "markdown",
   "metadata": {},
   "source": [
    "## 株価データの整形"
   ]
  },
  {
   "cell_type": "code",
   "execution_count": 3,
   "metadata": {
    "collapsed": false
   },
   "outputs": [],
   "source": [
    "find $PWD/kabuka/ -name \"D*\" | while read DATA; do nkf -Lu ${DATA} | awk -F',' 'BEGIN {first = 1} {if (length($1) == 4) {if ($2 == 11) {add = 1; if (first == 0) {print \"\"} else {first = 0}; printf $1} else {add = 0}} else if (add == 1) {printf \",\" $1 \":\" $5}} END {print \"\"}'; done >  kabuka_tse1"
   ]
  },
  {
   "cell_type": "code",
   "execution_count": 4,
   "metadata": {
    "collapsed": false
   },
   "outputs": [
    {
     "name": "stdout",
     "output_type": "stream",
     "text": [
      "    1788 kabuka_tse1\n"
     ]
    }
   ],
   "source": [
    "wc -l kabuka_tse1"
   ]
  },
  {
   "cell_type": "code",
   "execution_count": 5,
   "metadata": {
    "collapsed": true
   },
   "outputs": [],
   "source": [
    "grep -E \"^1002,\" kabuka_tse1 > market_tse1"
   ]
  },
  {
   "cell_type": "markdown",
   "metadata": {},
   "source": [
    "`kabuka_tse1` は東証1部上場企業の株価データ、 `market_tse1` はTOPIXデータ"
   ]
  },
  {
   "cell_type": "code",
   "execution_count": null,
   "metadata": {
    "collapsed": true
   },
   "outputs": [],
   "source": []
  }
 ],
 "metadata": {
  "kernelspec": {
   "display_name": "Bash",
   "language": "bash",
   "name": "bash"
  },
  "language_info": {
   "codemirror_mode": "shell",
   "file_extension": ".sh",
   "mimetype": "text/x-sh",
   "name": "bash"
  }
 },
 "nbformat": 4,
 "nbformat_minor": 2
}
