{
 "cells": [
  {
   "cell_type": "markdown",
   "metadata": {},
   "source": [
    "$s$: CARを計算できたPRの文書集合、$s_1 (\\subset s)$: CARが高かったPRの文書集合、$s_2 (:= s - s_1)$: CARが高くなかったPRの文書集合とする。\n",
    "\n",
    "単語$t$に対して、tf-idf値を以下のように定義。\n",
    "\n",
    "$$\n",
    "{\\rm tf}(t, s_1) = \\frac{df(t, s_1)}{|s_1|}\n",
    "$$\n",
    "\n",
    "$$\n",
    "{\\rm idf}(t) = \\log\\frac{|s|}{df(t,s)}\n",
    "$$\n",
    "\n",
    "$$\n",
    "{\\rm df}(t, x) = \\left|\\{d\\mid d\\ni t, d\\in x\\}\\right|\n",
    "$$\n",
    "\n",
    "$$\n",
    "{\\rm tf}\\cdot{\\rm idf}(t, s_1) = {\\rm tf}(t, s_1)\\cdot {\\rm idf}(t)\n",
    "$$\n",
    "\n",
    "tf-idfが高い単語から並べる。"
   ]
  },
  {
   "cell_type": "markdown",
   "metadata": {},
   "source": [
    "tf-idf(w, s_1) ~ (# of PRs with w in s_1) / (# of PRs with w in s)\n",
    "\n",
    "tf-idf ~ 0 <=> w is enriched only in s\n",
    "\n",
    "tf-idf ~ 1 <=> w is enriched only in s_1"
   ]
  },
  {
   "cell_type": "markdown",
   "metadata": {},
   "source": [
    "**NOTE: 実際の計算は Jupyter が multiprocessing の生成するプロセスを殺せないためここだと時間がかかり過ぎてしまうので、ここには小さいデータでの実行例を示して、全体のデータは同じコードで別の場所で計算している。**"
   ]
  },
  {
   "cell_type": "code",
   "execution_count": 1,
   "metadata": {
    "collapsed": true
   },
   "outputs": [],
   "source": [
    "## 入力データのファイル名\n",
    "pr_mor_fname = \"../fix_input_data/hoge.csv.mor\"#pressrelease_all_normalized.csv.mor\"   # MeCab で形態素に分解済みのプレスリリース本文\n",
    "car_sig_fname = \"car_exactT_alpha0.1_sig\"\n",
    "car_not_sig_fname = \"car_exactT_alpha0.1_not_sig\""
   ]
  },
  {
   "cell_type": "code",
   "execution_count": 2,
   "metadata": {
    "collapsed": true
   },
   "outputs": [],
   "source": [
    "## import\n",
    "%matplotlib inline\n",
    "import numpy as np\n",
    "import pandas as pd\n",
    "from pandas import Series, DataFrame\n",
    "import matplotlib.pyplot as plt\n",
    "plt.style.use('ggplot')\n",
    "import math\n",
    "from scipy import stats\n",
    "from multiprocessing import Pool\n",
    "from collections import Counter"
   ]
  },
  {
   "cell_type": "markdown",
   "metadata": {},
   "source": [
    "## データの読み込み"
   ]
  },
  {
   "cell_type": "code",
   "execution_count": 3,
   "metadata": {},
   "outputs": [
    {
     "data": {
      "text/html": [
       "<div>\n",
       "<table border=\"1\" class=\"dataframe\">\n",
       "  <thead>\n",
       "    <tr style=\"text-align: right;\">\n",
       "      <th></th>\n",
       "      <th>article_id</th>\n",
       "      <th>pr_type</th>\n",
       "      <th>comp_code</th>\n",
       "      <th>car</th>\n",
       "      <th>t_stat</th>\n",
       "    </tr>\n",
       "  </thead>\n",
       "  <tbody>\n",
       "    <tr>\n",
       "      <th>0</th>\n",
       "      <td>NIKPRLRSP040809_18022003</td>\n",
       "      <td>01: Product</td>\n",
       "      <td>2593</td>\n",
       "      <td>0.079042</td>\n",
       "      <td>1.582459</td>\n",
       "    </tr>\n",
       "    <tr>\n",
       "      <th>1</th>\n",
       "      <td>NIKPRLRSP045017_21042003</td>\n",
       "      <td>04: Alliance</td>\n",
       "      <td>7599</td>\n",
       "      <td>0.120927</td>\n",
       "      <td>1.583770</td>\n",
       "    </tr>\n",
       "    <tr>\n",
       "      <th>2</th>\n",
       "      <td>NIKPRLRSP050445_10072003</td>\n",
       "      <td>01: Product</td>\n",
       "      <td>7911</td>\n",
       "      <td>0.104491</td>\n",
       "      <td>2.325275</td>\n",
       "    </tr>\n",
       "  </tbody>\n",
       "</table>\n",
       "</div>"
      ],
      "text/plain": [
       "                 article_id       pr_type  comp_code       car    t_stat\n",
       "0  NIKPRLRSP040809_18022003   01: Product       2593  0.079042  1.582459\n",
       "1  NIKPRLRSP045017_21042003  04: Alliance       7599  0.120927  1.583770\n",
       "2  NIKPRLRSP050445_10072003   01: Product       7911  0.104491  2.325275"
      ]
     },
     "execution_count": 3,
     "metadata": {},
     "output_type": "execute_result"
    }
   ],
   "source": [
    "## CAR。tf-idf 計算は、car_sig と car_all = car_sig + car_not_sig の間で行う\n",
    "## CAR が計算できたものだけを取り扱う点、PR ごとに CAR の平均値を取らない点(後述)が前回と異なる。\n",
    "\n",
    "car_sig = pd.read_table(car_sig_fname, sep = '\\t')   # 有意なもの\n",
    "car_not_sig = pd.read_table(car_not_sig_fname, sep = '\\t')   # 有意でないもの\n",
    "car_sig[0:3]"
   ]
  },
  {
   "cell_type": "code",
   "execution_count": 4,
   "metadata": {},
   "outputs": [
    {
     "name": "stdout",
     "output_type": "stream",
     "text": [
      "706 24397 108 24995\n"
     ]
    }
   ],
   "source": [
    "id_set_sig = set(car_sig[\"article_id\"])   # 一番上の s_1 (の ID)に対応する\n",
    "id_set_not_sig = set(car_not_sig[\"article_id\"])\n",
    "id_set_all = id_set_sig.union(id_set_not_sig)   # s (の ID)に対応する\n",
    "\n",
    "num_sig = len(id_set_sig)   # | s_1 | に対応する\n",
    "num_all = len(id_set_all)   # | s | に対応する\n",
    "print(num_sig, len(id_set_not_sig), len(id_set_sig.intersection(id_set_not_sig)), num_all)"
   ]
  },
  {
   "cell_type": "markdown",
   "metadata": {},
   "source": [
    "-> 有意な CAR を持つ PR 706個のうち、108個が有意でない(他の企業とのマッチングによる) CAR も同時に持っている\n",
    "\n",
    "TODO: これの扱い (現在は有意な PR に含めている; PR ごとに CAR の平均を取ること(前回はこれを採用していた)はしたくない)"
   ]
  },
  {
   "cell_type": "code",
   "execution_count": 5,
   "metadata": {
    "collapsed": true
   },
   "outputs": [],
   "source": [
    "## PR本文の分かち書き。pd.read_table は OutOuMemory で落ちてしまったので、1行ごとに追加する\n",
    "\n",
    "pr_mor = pd.DataFrame()\n",
    "with open(pr_mor_fname, 'r') as f:\n",
    "    for line in f:\n",
    "        article_id, mor = line.strip().split('\\t')\n",
    "        if article_id in id_set_all:\n",
    "            pr_mor = pr_mor.append([[article_id, mor]], ignore_index = True)\n",
    "pr_mor.columns = [\"article_id\", \"pr_mor\"]"
   ]
  },
  {
   "cell_type": "markdown",
   "metadata": {},
   "source": [
    "## df, idf, tf, tf-idf の計算"
   ]
  },
  {
   "cell_type": "code",
   "execution_count": 6,
   "metadata": {
    "collapsed": true
   },
   "outputs": [],
   "source": [
    "pr_sig = pr_mor[[x in id_set_sig for x in list(pr_mor[\"article_id\"])]]   # s_1 に含まれるプレスリリース\n",
    "pr_all = pr_mor[[x in id_set_all for x in list(pr_mor[\"article_id\"])]]   # s に含まれるプレスリリース"
   ]
  },
  {
   "cell_type": "code",
   "execution_count": 7,
   "metadata": {
    "collapsed": true
   },
   "outputs": [],
   "source": [
    "pr_as_word_set_sig = [set(x.split(' ')) for x in list(pr_sig[\"pr_mor\"])]   # [set(words in PR in s_1)]\n",
    "pr_as_word_set_all = [set(x.split(' ')) for x in list(pr_all[\"pr_mor\"])]   # [set(words in PR in s)]"
   ]
  },
  {
   "cell_type": "code",
   "execution_count": 8,
   "metadata": {
    "collapsed": true
   },
   "outputs": [],
   "source": [
    "word_count = Counter()\n",
    "for mor in list(pr_all[\"pr_mor\"]):\n",
    "    for w in mor.split(' '):\n",
    "        word_count[w] += 1\n",
    "        \n",
    "## TODO: 単語の純粋な出現回数ではなく、出現したPRの数でフィルターするべき？"
   ]
  },
  {
   "cell_type": "code",
   "execution_count": 9,
   "metadata": {},
   "outputs": [
    {
     "data": {
      "image/png": "[encoded data removed]",
      "text/plain": [
       "<matplotlib.figure.Figure at 0x11637e6d8>"
      ]
     },
     "metadata": {},
     "output_type": "display_data"
    }
   ],
   "source": [
    "ret = plt.hist(list(map(math.log, list(word_count.values()))), bins = 100)   # 対数プロット"
   ]
  },
  {
   "cell_type": "code",
   "execution_count": 10,
   "metadata": {
    "collapsed": true
   },
   "outputs": [],
   "source": [
    "max_count = 1000000   # very sensitive for input data\n",
    "min_count = 0   # very sensitive for input data\n",
    "\n",
    "words = set()   # filtered set of words to be used for tf-idf calculation\n",
    "for w, c in word_count.items():\n",
    "    if min_count <= c and c <= max_count:\n",
    "        words.add(w)"
   ]
  },
  {
   "cell_type": "code",
   "execution_count": 11,
   "metadata": {
    "collapsed": true
   },
   "outputs": [],
   "source": [
    "def calc_pr_num_with_word_in_sig(word):   # s1 のうち word を含む PR の数\n",
    "    count = 0\n",
    "    for mor in pr_as_word_set_sig:\n",
    "        if word in mor:\n",
    "            count += 1\n",
    "    return (word, count)\n",
    "\n",
    "def calc_pr_num_with_word_in_all(word):   # s のうち word を含む PR の数\n",
    "    count = 0\n",
    "    for mor in pr_as_word_set_all:\n",
    "        if word in mor:\n",
    "            count += 1\n",
    "    return (word, count)"
   ]
  },
  {
   "cell_type": "code",
   "execution_count": 12,
   "metadata": {
    "collapsed": true
   },
   "outputs": [],
   "source": [
    "exe_pool = Pool(7)\n",
    "df_sig = Counter()\n",
    "for ret in exe_pool.imap(calc_pr_num_with_word_in_sig, words):\n",
    "    df_sig[ret[0]] = ret[1]"
   ]
  },
  {
   "cell_type": "code",
   "execution_count": 13,
   "metadata": {},
   "outputs": [
    {
     "data": {
      "text/plain": [
       "[('苦渋', 1),\n",
       " ('含む', 1),\n",
       " ('『', 0),\n",
       " ('101', 1),\n",
       " ('創造', 1),\n",
       " ('現在', 0),\n",
       " ('サイト', 0),\n",
       " ('自然', 1),\n",
       " ('する', 1),\n",
       " ('昭和56年', 1)]"
      ]
     },
     "execution_count": 13,
     "metadata": {},
     "output_type": "execute_result"
    }
   ],
   "source": [
    "list(df_sig.items())[0:10]"
   ]
  },
  {
   "cell_type": "code",
   "execution_count": 14,
   "metadata": {
    "collapsed": true
   },
   "outputs": [],
   "source": [
    "exe_pool = Pool(7)\n",
    "df_all = Counter()\n",
    "for ret in exe_pool.imap(calc_pr_num_with_word_in_all, words):\n",
    "    df_all[ret[0]] = ret[1]"
   ]
  },
  {
   "cell_type": "code",
   "execution_count": 15,
   "metadata": {},
   "outputs": [
    {
     "data": {
      "text/plain": [
       "[('苦渋', 1),\n",
       " ('含む', 1),\n",
       " ('『', 1),\n",
       " ('101', 1),\n",
       " ('創造', 1),\n",
       " ('現在', 1),\n",
       " ('サイト', 1),\n",
       " ('自然', 1),\n",
       " ('する', 2),\n",
       " ('昭和56年', 1)]"
      ]
     },
     "execution_count": 15,
     "metadata": {},
     "output_type": "execute_result"
    }
   ],
   "source": [
    "list(df_all.items())[0:10]"
   ]
  },
  {
   "cell_type": "code",
   "execution_count": 47,
   "metadata": {
    "collapsed": true
   },
   "outputs": [],
   "source": [
    "tfidf = pd.DataFrame()\n",
    "for w in words:\n",
    "    tfidf_value = float(df_sig[w]) / num_sig * math.log(float(num_all) / df_all[w], 2)\n",
    "    tfidf = tfidf.append([[w, tfidf_value, df_all[w], num_all - df_all[w], df_sig[w], num_sig - df_sig[w]]], ignore_index = True)\n",
    "tfidf.columns = [\"word\", \"tf-idf\", \"df_all\", \"num_all - df_all\", \"df_sig\", \"num_sig - df_sig\"]\n",
    "tfidf = tfidf.sort_values('tf-idf', ascending = False)"
   ]
  },
  {
   "cell_type": "code",
   "execution_count": 50,
   "metadata": {},
   "outputs": [
    {
     "data": {
      "text/html": [
       "<div>\n",
       "<table border=\"1\" class=\"dataframe\">\n",
       "  <thead>\n",
       "    <tr style=\"text-align: right;\">\n",
       "      <th></th>\n",
       "      <th>word</th>\n",
       "      <th>tf-idf</th>\n",
       "      <th>df_all</th>\n",
       "      <th>num_all - df_all</th>\n",
       "      <th>df_sig</th>\n",
       "      <th>num_sig - df_sig</th>\n",
       "    </tr>\n",
       "  </thead>\n",
       "  <tbody>\n",
       "    <tr>\n",
       "      <th>0</th>\n",
       "      <td>苦渋</td>\n",
       "      <td>0.020693</td>\n",
       "      <td>1</td>\n",
       "      <td>24994</td>\n",
       "      <td>1</td>\n",
       "      <td>705</td>\n",
       "    </tr>\n",
       "    <tr>\n",
       "      <th>248</th>\n",
       "      <td>高温</td>\n",
       "      <td>0.020693</td>\n",
       "      <td>1</td>\n",
       "      <td>24994</td>\n",
       "      <td>1</td>\n",
       "      <td>705</td>\n",
       "    </tr>\n",
       "    <tr>\n",
       "      <th>216</th>\n",
       "      <td>抑え</td>\n",
       "      <td>0.020693</td>\n",
       "      <td>1</td>\n",
       "      <td>24994</td>\n",
       "      <td>1</td>\n",
       "      <td>705</td>\n",
       "    </tr>\n",
       "    <tr>\n",
       "      <th>1</th>\n",
       "      <td>含む</td>\n",
       "      <td>0.020693</td>\n",
       "      <td>1</td>\n",
       "      <td>24994</td>\n",
       "      <td>1</td>\n",
       "      <td>705</td>\n",
       "    </tr>\n",
       "    <tr>\n",
       "      <th>221</th>\n",
       "      <td>世界初</td>\n",
       "      <td>0.020693</td>\n",
       "      <td>1</td>\n",
       "      <td>24994</td>\n",
       "      <td>1</td>\n",
       "      <td>705</td>\n",
       "    </tr>\n",
       "    <tr>\n",
       "      <th>222</th>\n",
       "      <td>10%</td>\n",
       "      <td>0.020693</td>\n",
       "      <td>1</td>\n",
       "      <td>24994</td>\n",
       "      <td>1</td>\n",
       "      <td>705</td>\n",
       "    </tr>\n",
       "    <tr>\n",
       "      <th>225</th>\n",
       "      <td>伊藤園</td>\n",
       "      <td>0.020693</td>\n",
       "      <td>1</td>\n",
       "      <td>24994</td>\n",
       "      <td>1</td>\n",
       "      <td>705</td>\n",
       "    </tr>\n",
       "    <tr>\n",
       "      <th>226</th>\n",
       "      <td>itoen</td>\n",
       "      <td>0.020693</td>\n",
       "      <td>1</td>\n",
       "      <td>24994</td>\n",
       "      <td>1</td>\n",
       "      <td>705</td>\n",
       "    </tr>\n",
       "    <tr>\n",
       "      <th>228</th>\n",
       "      <td>せんち</td>\n",
       "      <td>0.020693</td>\n",
       "      <td>1</td>\n",
       "      <td>24994</td>\n",
       "      <td>1</td>\n",
       "      <td>705</td>\n",
       "    </tr>\n",
       "    <tr>\n",
       "      <th>229</th>\n",
       "      <td>‐</td>\n",
       "      <td>0.020693</td>\n",
       "      <td>1</td>\n",
       "      <td>24994</td>\n",
       "      <td>1</td>\n",
       "      <td>705</td>\n",
       "    </tr>\n",
       "  </tbody>\n",
       "</table>\n",
       "</div>"
      ],
      "text/plain": [
       "      word    tf-idf  df_all  num_all - df_all  df_sig  num_sig - df_sig\n",
       "0       苦渋  0.020693       1             24994       1               705\n",
       "248     高温  0.020693       1             24994       1               705\n",
       "216     抑え  0.020693       1             24994       1               705\n",
       "1       含む  0.020693       1             24994       1               705\n",
       "221    世界初  0.020693       1             24994       1               705\n",
       "222    10%  0.020693       1             24994       1               705\n",
       "225    伊藤園  0.020693       1             24994       1               705\n",
       "226  itoen  0.020693       1             24994       1               705\n",
       "228    せんち  0.020693       1             24994       1               705\n",
       "229      ‐  0.020693       1             24994       1               705"
      ]
     },
     "execution_count": 50,
     "metadata": {},
     "output_type": "execute_result"
    }
   ],
   "source": [
    "tfidf[0:10]\n",
    "## 検定は odds_ratio, p_value = stats.fisher_exact(count_table) で行う。全部の検定は時間がかかるのでここでは行わず、後でトップの単語から順に調べる"
   ]
  },
  {
   "cell_type": "code",
   "execution_count": 52,
   "metadata": {
    "collapsed": true
   },
   "outputs": [],
   "source": [
    "tfidf.to_csv(car_sig_fname + \".tfidf\", sep = \"\\t\", index = False)"
   ]
  },
  {
   "cell_type": "code",
   "execution_count": 54,
   "metadata": {},
   "outputs": [
    {
     "data": {
      "text/plain": [
       "(0.59009881963624988, 9.1373036860160061e-10)"
      ]
     },
     "execution_count": 54,
     "metadata": {},
     "output_type": "execute_result"
    }
   ],
   "source": [
    "stats.fisher_exact([[5187, 19808], [217, 489]])"
   ]
  },
  {
   "cell_type": "code",
   "execution_count": 55,
   "metadata": {},
   "outputs": [
    {
     "data": {
      "text/plain": [
       "(0.78974863477575707, 0.010312445458394392)"
      ]
     },
     "execution_count": 55,
     "metadata": {},
     "output_type": "execute_result"
    }
   ],
   "source": [
    "stats.fisher_exact([[4790, 20205], [163, 543]])"
   ]
  },
  {
   "cell_type": "code",
   "execution_count": 57,
   "metadata": {},
   "outputs": [
    {
     "data": {
      "text/plain": [
       "(0.9063184986639401, 0.25959478624289356)"
      ]
     },
     "execution_count": 57,
     "metadata": {},
     "output_type": "execute_result"
    }
   ],
   "source": [
    "stats.fisher_exact([[5816, 19179], [177, 529]])"
   ]
  },
  {
   "cell_type": "markdown",
   "metadata": {
    "collapsed": true
   },
   "source": [
    "## TODO: sig の中でさらに分割してtf-idf"
   ]
  },
  {
   "cell_type": "code",
   "execution_count": 53,
   "metadata": {
    "collapsed": true
   },
   "outputs": [],
   "source": [
    "## TODO: TF-IDF の定義を見直す、s_1 と s_2 の間のカイ二乗検定とどう違ってくるのか？"
   ]
  },
  {
   "cell_type": "code",
   "execution_count": null,
   "metadata": {
    "collapsed": true
   },
   "outputs": [],
   "source": []
  }
 ],
 "metadata": {
  "kernelspec": {
   "display_name": "Python 3",
   "language": "python",
   "name": "python3"
  },
  "language_info": {
   "codemirror_mode": {
    "name": "ipython",
    "version": 3
   },
   "file_extension": ".py",
   "mimetype": "text/x-python",
   "name": "python",
   "nbconvert_exporter": "python",
   "pygments_lexer": "ipython3",
   "version": "3.6.1"
  }
 },
 "nbformat": 4,
 "nbformat_minor": 2
}
