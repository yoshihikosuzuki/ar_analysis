{
 "cells": [
  {
   "cell_type": "code",
   "execution_count": 1,
   "metadata": {
    "collapsed": true
   },
   "outputs": [],
   "source": [
    "car.data <- read.table(\"car.all\", sep = '\\t', header = FALSE)"
   ]
  },
  {
   "cell_type": "code",
   "execution_count": 2,
   "metadata": {
    "collapsed": false,
    "scrolled": true
   },
   "outputs": [
    {
     "data": {
      "text/html": [
       "<table>\n",
       "<thead><tr><th scope=col>V1</th><th scope=col>V2</th><th scope=col>V3</th><th scope=col>V4</th><th scope=col>V5</th><th scope=col>V6</th></tr></thead>\n",
       "<tbody>\n",
       "\t<tr><td>NIKPRLRSP117970_09122005</td><td>05: PR                  </td><td>1812                    </td><td>-0.032215954            </td><td>0.7104365               </td><td>1.197325e-34            </td></tr>\n",
       "\t<tr><td>NIKPRLRSP268833_14122010</td><td>05: PR                  </td><td>4548                    </td><td> 0.051956540            </td><td>0.5309466               </td><td>3.505952e-17            </td></tr>\n",
       "\t<tr><td>NIKPRLRSP230282_07092009</td><td>01: Product             </td><td>6701                    </td><td>-0.007882342            </td><td>0.8871740               </td><td>3.719157e-74            </td></tr>\n",
       "\t<tr><td>NIKPRLRSP232556_30092009</td><td>04: Contract            </td><td>9501                    </td><td>-0.011217690            </td><td>0.5214358               </td><td>1.579957e-16            </td></tr>\n",
       "\t<tr><td>NIKPRLRSP179349_17012008</td><td>01: Product             </td><td>4967                    </td><td> 0.024352662            </td><td>0.4886435               </td><td>2.008476e-14            </td></tr>\n",
       "\t<tr><td>NIKPRLRSP206756_02122008</td><td>06: Order               </td><td>6503                    </td><td>-0.022813152            </td><td>0.8260632               </td><td>1.872039e-55            </td></tr>\n",
       "</tbody>\n",
       "</table>\n"
      ],
      "text/latex": [
       "\\begin{tabular}{r|llllll}\n",
       " V1 & V2 & V3 & V4 & V5 & V6\\\\\n",
       "\\hline\n",
       "\t NIKPRLRSP117970\\_09122005 & 05: PR                     & 1812                       & -0.032215954               & 0.7104365                  & 1.197325e-34              \\\\\n",
       "\t NIKPRLRSP268833\\_14122010 & 05: PR                     & 4548                       &  0.051956540               & 0.5309466                  & 3.505952e-17              \\\\\n",
       "\t NIKPRLRSP230282\\_07092009 & 01: Product                & 6701                       & -0.007882342               & 0.8871740                  & 3.719157e-74              \\\\\n",
       "\t NIKPRLRSP232556\\_30092009 & 04: Contract               & 9501                       & -0.011217690               & 0.5214358                  & 1.579957e-16              \\\\\n",
       "\t NIKPRLRSP179349\\_17012008 & 01: Product                & 4967                       &  0.024352662               & 0.4886435                  & 2.008476e-14              \\\\\n",
       "\t NIKPRLRSP206756\\_02122008 & 06: Order                  & 6503                       & -0.022813152               & 0.8260632                  & 1.872039e-55              \\\\\n",
       "\\end{tabular}\n"
      ],
      "text/markdown": [
       "\n",
       "V1 | V2 | V3 | V4 | V5 | V6 | \n",
       "|---|---|---|---|---|---|\n",
       "| NIKPRLRSP117970_09122005 | 05: PR                   | 1812                     | -0.032215954             | 0.7104365                | 1.197325e-34             | \n",
       "| NIKPRLRSP268833_14122010 | 05: PR                   | 4548                     |  0.051956540             | 0.5309466                | 3.505952e-17             | \n",
       "| NIKPRLRSP230282_07092009 | 01: Product              | 6701                     | -0.007882342             | 0.8871740                | 3.719157e-74             | \n",
       "| NIKPRLRSP232556_30092009 | 04: Contract             | 9501                     | -0.011217690             | 0.5214358                | 1.579957e-16             | \n",
       "| NIKPRLRSP179349_17012008 | 01: Product              | 4967                     |  0.024352662             | 0.4886435                | 2.008476e-14             | \n",
       "| NIKPRLRSP206756_02122008 | 06: Order                | 6503                     | -0.022813152             | 0.8260632                | 1.872039e-55             | \n",
       "\n",
       "\n"
      ],
      "text/plain": [
       "  V1                       V2           V3   V4           V5       \n",
       "1 NIKPRLRSP117970_09122005 05: PR       1812 -0.032215954 0.7104365\n",
       "2 NIKPRLRSP268833_14122010 05: PR       4548  0.051956540 0.5309466\n",
       "3 NIKPRLRSP230282_07092009 01: Product  6701 -0.007882342 0.8871740\n",
       "4 NIKPRLRSP232556_30092009 04: Contract 9501 -0.011217690 0.5214358\n",
       "5 NIKPRLRSP179349_17012008 01: Product  4967  0.024352662 0.4886435\n",
       "6 NIKPRLRSP206756_02122008 06: Order    6503 -0.022813152 0.8260632\n",
       "  V6          \n",
       "1 1.197325e-34\n",
       "2 3.505952e-17\n",
       "3 3.719157e-74\n",
       "4 1.579957e-16\n",
       "5 2.008476e-14\n",
       "6 1.872039e-55"
      ]
     },
     "metadata": {},
     "output_type": "display_data"
    }
   ],
   "source": [
    "head(car.data)"
   ]
  },
  {
   "cell_type": "markdown",
   "metadata": {},
   "source": [
    "## 新しいマッチングでの全体的な傾向"
   ]
  },
  {
   "cell_type": "code",
   "execution_count": 3,
   "metadata": {
    "collapsed": false
   },
   "outputs": [
    {
     "data": {
      "text/html": [
       "27840"
      ],
      "text/latex": [
       "27840"
      ],
      "text/markdown": [
       "27840"
      ],
      "text/plain": [
       "[1] 27840"
      ]
     },
     "metadata": {},
     "output_type": "display_data"
    },
    {
     "data": {
      "text/html": [
       "<ol class=list-inline>\n",
       "\t<li>-3.22159540276</li>\n",
       "\t<li>5.19565400556</li>\n",
       "\t<li>-0.788234165513</li>\n",
       "\t<li>-1.12176896191</li>\n",
       "\t<li>2.43526618587</li>\n",
       "\t<li>-2.28131516395</li>\n",
       "\t<li>3.26574016993</li>\n",
       "\t<li>1.65612805284</li>\n",
       "\t<li>0.538912050341</li>\n",
       "\t<li>-1.62731567734</li>\n",
       "\t<li>3.05358347231</li>\n",
       "\t<li>-0.99296213255</li>\n",
       "\t<li>0.486293799315</li>\n",
       "\t<li>-0.192235225462</li>\n",
       "\t<li>0.811138621188</li>\n",
       "\t<li>0.466748971268</li>\n",
       "\t<li>1.69991431259</li>\n",
       "\t<li>1.91242309851</li>\n",
       "\t<li>1.20311060312</li>\n",
       "\t<li>-1.15222396845</li>\n",
       "\t<li>-3.95471866158</li>\n",
       "\t<li>0.249067546836</li>\n",
       "\t<li>-1.01682874171</li>\n",
       "\t<li>6.00249391678</li>\n",
       "\t<li>2.24905430403</li>\n",
       "\t<li>-2.94469300025</li>\n",
       "\t<li>-8.01526357892</li>\n",
       "\t<li>9.3223919221</li>\n",
       "\t<li>-1.48605152946</li>\n",
       "\t<li>0.820676025646</li>\n",
       "\t<li>-2.44236625288</li>\n",
       "\t<li>-1.03518666216</li>\n",
       "\t<li>3.87490944406</li>\n",
       "\t<li>21.6461000643</li>\n",
       "\t<li>2.92710948583</li>\n",
       "\t<li>-0.498145113609</li>\n",
       "\t<li>-2.93501466663</li>\n",
       "\t<li>4.77314393116</li>\n",
       "\t<li>-0.432151111856</li>\n",
       "\t<li>1.19195878431</li>\n",
       "\t<li>-0.11758222317</li>\n",
       "\t<li>5.21609801834</li>\n",
       "\t<li>0.843945148327</li>\n",
       "\t<li>-8.98946984431</li>\n",
       "\t<li>-1.44853484443</li>\n",
       "\t<li>1.229393128</li>\n",
       "\t<li>22.1655032348</li>\n",
       "\t<li>-2.71887461423</li>\n",
       "\t<li>-2.94023647766</li>\n",
       "\t<li>-0.793402345234</li>\n",
       "\t<li>1.80805818448</li>\n",
       "\t<li>-1.93986280176</li>\n",
       "\t<li>3.84716473393</li>\n",
       "\t<li>-4.49491690858</li>\n",
       "\t<li>-0.930385633353</li>\n",
       "\t<li>-1.93818745017</li>\n",
       "\t<li>-7.25875474705</li>\n",
       "\t<li>0.337257836901</li>\n",
       "\t<li>2.13703865826</li>\n",
       "\t<li>-1.78896595482</li>\n",
       "\t<li>-1.7617956043</li>\n",
       "\t<li>-0.719753493201</li>\n",
       "\t<li>7.42008264551</li>\n",
       "\t<li>-0.401668722334</li>\n",
       "\t<li>1.34318124602</li>\n",
       "\t<li>0.973760486365</li>\n",
       "\t<li>-0.228482171836</li>\n",
       "\t<li>0.41069091762</li>\n",
       "\t<li>2.70478519003</li>\n",
       "\t<li>-1.55503965692</li>\n",
       "\t<li>-0.352477114589</li>\n",
       "\t<li>1.79520105727</li>\n",
       "\t<li>3.78079949004</li>\n",
       "\t<li>-3.82174648516</li>\n",
       "\t<li>-1.82046183798</li>\n",
       "\t<li>-2.51463346277</li>\n",
       "\t<li>0.301567409295</li>\n",
       "\t<li>-0.537310164832</li>\n",
       "\t<li>-3.21542616856</li>\n",
       "\t<li>1.27748754475</li>\n",
       "\t<li>-0.276525426977</li>\n",
       "\t<li>-3.2071067116</li>\n",
       "\t<li>-1.84550901489</li>\n",
       "\t<li>3.79454311008</li>\n",
       "\t<li>-0.359203309558</li>\n",
       "\t<li>-1.485425672</li>\n",
       "\t<li>-2.68361255621</li>\n",
       "\t<li>-1.91655198953</li>\n",
       "\t<li>-1.35724985353</li>\n",
       "\t<li>1.57488777092</li>\n",
       "\t<li>0.649140514878</li>\n",
       "\t<li>-1.64062538031</li>\n",
       "\t<li>-1.13184504276</li>\n",
       "\t<li>-0.519209330254</li>\n",
       "\t<li>2.33013561539</li>\n",
       "\t<li>2.62629827446</li>\n",
       "\t<li>0.69240041445</li>\n",
       "\t<li>0.488976754442</li>\n",
       "\t<li>0.513091211691</li>\n",
       "\t<li>-2.35180184504</li>\n",
       "</ol>\n"
      ],
      "text/latex": [
       "\\begin{enumerate*}\n",
       "\\item -3.22159540276\n",
       "\\item 5.19565400556\n",
       "\\item -0.788234165513\n",
       "\\item -1.12176896191\n",
       "\\item 2.43526618587\n",
       "\\item -2.28131516395\n",
       "\\item 3.26574016993\n",
       "\\item 1.65612805284\n",
       "\\item 0.538912050341\n",
       "\\item -1.62731567734\n",
       "\\item 3.05358347231\n",
       "\\item -0.99296213255\n",
       "\\item 0.486293799315\n",
       "\\item -0.192235225462\n",
       "\\item 0.811138621188\n",
       "\\item 0.466748971268\n",
       "\\item 1.69991431259\n",
       "\\item 1.91242309851\n",
       "\\item 1.20311060312\n",
       "\\item -1.15222396845\n",
       "\\item -3.95471866158\n",
       "\\item 0.249067546836\n",
       "\\item -1.01682874171\n",
       "\\item 6.00249391678\n",
       "\\item 2.24905430403\n",
       "\\item -2.94469300025\n",
       "\\item -8.01526357892\n",
       "\\item 9.3223919221\n",
       "\\item -1.48605152946\n",
       "\\item 0.820676025646\n",
       "\\item -2.44236625288\n",
       "\\item -1.03518666216\n",
       "\\item 3.87490944406\n",
       "\\item 21.6461000643\n",
       "\\item 2.92710948583\n",
       "\\item -0.498145113609\n",
       "\\item -2.93501466663\n",
       "\\item 4.77314393116\n",
       "\\item -0.432151111856\n",
       "\\item 1.19195878431\n",
       "\\item -0.11758222317\n",
       "\\item 5.21609801834\n",
       "\\item 0.843945148327\n",
       "\\item -8.98946984431\n",
       "\\item -1.44853484443\n",
       "\\item 1.229393128\n",
       "\\item 22.1655032348\n",
       "\\item -2.71887461423\n",
       "\\item -2.94023647766\n",
       "\\item -0.793402345234\n",
       "\\item 1.80805818448\n",
       "\\item -1.93986280176\n",
       "\\item 3.84716473393\n",
       "\\item -4.49491690858\n",
       "\\item -0.930385633353\n",
       "\\item -1.93818745017\n",
       "\\item -7.25875474705\n",
       "\\item 0.337257836901\n",
       "\\item 2.13703865826\n",
       "\\item -1.78896595482\n",
       "\\item -1.7617956043\n",
       "\\item -0.719753493201\n",
       "\\item 7.42008264551\n",
       "\\item -0.401668722334\n",
       "\\item 1.34318124602\n",
       "\\item 0.973760486365\n",
       "\\item -0.228482171836\n",
       "\\item 0.41069091762\n",
       "\\item 2.70478519003\n",
       "\\item -1.55503965692\n",
       "\\item -0.352477114589\n",
       "\\item 1.79520105727\n",
       "\\item 3.78079949004\n",
       "\\item -3.82174648516\n",
       "\\item -1.82046183798\n",
       "\\item -2.51463346277\n",
       "\\item 0.301567409295\n",
       "\\item -0.537310164832\n",
       "\\item -3.21542616856\n",
       "\\item 1.27748754475\n",
       "\\item -0.276525426977\n",
       "\\item -3.2071067116\n",
       "\\item -1.84550901489\n",
       "\\item 3.79454311008\n",
       "\\item -0.359203309558\n",
       "\\item -1.485425672\n",
       "\\item -2.68361255621\n",
       "\\item -1.91655198953\n",
       "\\item -1.35724985353\n",
       "\\item 1.57488777092\n",
       "\\item 0.649140514878\n",
       "\\item -1.64062538031\n",
       "\\item -1.13184504276\n",
       "\\item -0.519209330254\n",
       "\\item 2.33013561539\n",
       "\\item 2.62629827446\n",
       "\\item 0.69240041445\n",
       "\\item 0.488976754442\n",
       "\\item 0.513091211691\n",
       "\\item -2.35180184504\n",
       "\\end{enumerate*}\n"
      ],
      "text/markdown": [
       "1. -3.22159540276\n",
       "2. 5.19565400556\n",
       "3. -0.788234165513\n",
       "4. -1.12176896191\n",
       "5. 2.43526618587\n",
       "6. -2.28131516395\n",
       "7. 3.26574016993\n",
       "8. 1.65612805284\n",
       "9. 0.538912050341\n",
       "10. -1.62731567734\n",
       "11. 3.05358347231\n",
       "12. -0.99296213255\n",
       "13. 0.486293799315\n",
       "14. -0.192235225462\n",
       "15. 0.811138621188\n",
       "16. 0.466748971268\n",
       "17. 1.69991431259\n",
       "18. 1.91242309851\n",
       "19. 1.20311060312\n",
       "20. -1.15222396845\n",
       "21. -3.95471866158\n",
       "22. 0.249067546836\n",
       "23. -1.01682874171\n",
       "24. 6.00249391678\n",
       "25. 2.24905430403\n",
       "26. -2.94469300025\n",
       "27. -8.01526357892\n",
       "28. 9.3223919221\n",
       "29. -1.48605152946\n",
       "30. 0.820676025646\n",
       "31. -2.44236625288\n",
       "32. -1.03518666216\n",
       "33. 3.87490944406\n",
       "34. 21.6461000643\n",
       "35. 2.92710948583\n",
       "36. -0.498145113609\n",
       "37. -2.93501466663\n",
       "38. 4.77314393116\n",
       "39. -0.432151111856\n",
       "40. 1.19195878431\n",
       "41. -0.11758222317\n",
       "42. 5.21609801834\n",
       "43. 0.843945148327\n",
       "44. -8.98946984431\n",
       "45. -1.44853484443\n",
       "46. 1.229393128\n",
       "47. 22.1655032348\n",
       "48. -2.71887461423\n",
       "49. -2.94023647766\n",
       "50. -0.793402345234\n",
       "51. 1.80805818448\n",
       "52. -1.93986280176\n",
       "53. 3.84716473393\n",
       "54. -4.49491690858\n",
       "55. -0.930385633353\n",
       "56. -1.93818745017\n",
       "57. -7.25875474705\n",
       "58. 0.337257836901\n",
       "59. 2.13703865826\n",
       "60. -1.78896595482\n",
       "61. -1.7617956043\n",
       "62. -0.719753493201\n",
       "63. 7.42008264551\n",
       "64. -0.401668722334\n",
       "65. 1.34318124602\n",
       "66. 0.973760486365\n",
       "67. -0.228482171836\n",
       "68. 0.41069091762\n",
       "69. 2.70478519003\n",
       "70. -1.55503965692\n",
       "71. -0.352477114589\n",
       "72. 1.79520105727\n",
       "73. 3.78079949004\n",
       "74. -3.82174648516\n",
       "75. -1.82046183798\n",
       "76. -2.51463346277\n",
       "77. 0.301567409295\n",
       "78. -0.537310164832\n",
       "79. -3.21542616856\n",
       "80. 1.27748754475\n",
       "81. -0.276525426977\n",
       "82. -3.2071067116\n",
       "83. -1.84550901489\n",
       "84. 3.79454311008\n",
       "85. -0.359203309558\n",
       "86. -1.485425672\n",
       "87. -2.68361255621\n",
       "88. -1.91655198953\n",
       "89. -1.35724985353\n",
       "90. 1.57488777092\n",
       "91. 0.649140514878\n",
       "92. -1.64062538031\n",
       "93. -1.13184504276\n",
       "94. -0.519209330254\n",
       "95. 2.33013561539\n",
       "96. 2.62629827446\n",
       "97. 0.69240041445\n",
       "98. 0.488976754442\n",
       "99. 0.513091211691\n",
       "100. -2.35180184504\n",
       "\n",
       "\n"
      ],
      "text/plain": [
       "  [1] -3.2215954  5.1956540 -0.7882342 -1.1217690  2.4352662 -2.2813152\n",
       "  [7]  3.2657402  1.6561281  0.5389121 -1.6273157  3.0535835 -0.9929621\n",
       " [13]  0.4862938 -0.1922352  0.8111386  0.4667490  1.6999143  1.9124231\n",
       " [19]  1.2031106 -1.1522240 -3.9547187  0.2490675 -1.0168287  6.0024939\n",
       " [25]  2.2490543 -2.9446930 -8.0152636  9.3223919 -1.4860515  0.8206760\n",
       " [31] -2.4423663 -1.0351867  3.8749094 21.6461001  2.9271095 -0.4981451\n",
       " [37] -2.9350147  4.7731439 -0.4321511  1.1919588 -0.1175822  5.2160980\n",
       " [43]  0.8439451 -8.9894698 -1.4485348  1.2293931 22.1655032 -2.7188746\n",
       " [49] -2.9402365 -0.7934023  1.8080582 -1.9398628  3.8471647 -4.4949169\n",
       " [55] -0.9303856 -1.9381875 -7.2587547  0.3372578  2.1370387 -1.7889660\n",
       " [61] -1.7617956 -0.7197535  7.4200826 -0.4016687  1.3431812  0.9737605\n",
       " [67] -0.2284822  0.4106909  2.7047852 -1.5550397 -0.3524771  1.7952011\n",
       " [73]  3.7807995 -3.8217465 -1.8204618 -2.5146335  0.3015674 -0.5373102\n",
       " [79] -3.2154262  1.2774875 -0.2765254 -3.2071067 -1.8455090  3.7945431\n",
       " [85] -0.3592033 -1.4854257 -2.6836126 -1.9165520 -1.3572499  1.5748878\n",
       " [91]  0.6491405 -1.6406254 -1.1318450 -0.5192093  2.3301356  2.6262983\n",
       " [97]  0.6924004  0.4889768  0.5130912 -2.3518018"
      ]
     },
     "metadata": {},
     "output_type": "display_data"
    }
   ],
   "source": [
    "car.val <- as.numeric(as.character(car.data$V4)) * 100\n",
    "length(car.val)\n",
    "head(car.val, n = 100)"
   ]
  },
  {
   "cell_type": "code",
   "execution_count": 4,
   "metadata": {
    "collapsed": false
   },
   "outputs": [
    {
     "data": {
      "image/png": "[encoded data removed]",
      "text/plain": [
       "Plot with title “Histogram of car.val”"
      ]
     },
     "metadata": {},
     "output_type": "display_data"
    }
   ],
   "source": [
    "hist(car.val, breaks = 1000, xlim = c(min(car.val),max(car.val)), xlab = \"(cumulative) abnormal return [%]\")\n",
    "par(new=T)\n",
    "curve(dnorm(x, mean=mean(car.val), sd=sqrt(var(car.val))), from=min(car.val), to=max(car.val), col=\"red\", xlab=\"\", ylab=\"\")   # 正規分布を重ね書き"
   ]
  },
  {
   "cell_type": "markdown",
   "metadata": {},
   "source": [
    "-> 低いCARが無くなったように見えるが、maxが増えただけでminは昔のマッチングと変わっていない。"
   ]
  },
  {
   "cell_type": "code",
   "execution_count": 5,
   "metadata": {
    "collapsed": false
   },
   "outputs": [
    {
     "data": {
      "text/html": [
       "0.0709092725495129"
      ],
      "text/latex": [
       "0.0709092725495129"
      ],
      "text/markdown": [
       "0.0709092725495129"
      ],
      "text/plain": [
       "[1] 0.07090927"
      ]
     },
     "metadata": {},
     "output_type": "display_data"
    }
   ],
   "source": [
    "mean(car.val)"
   ]
  },
  {
   "cell_type": "code",
   "execution_count": 6,
   "metadata": {
    "collapsed": false
   },
   "outputs": [
    {
     "data": {
      "text/plain": [
       "\n",
       "\tOne Sample t-test\n",
       "\n",
       "data:  car.val\n",
       "t = 1.8626, df = 27839, p-value = 0.06253\n",
       "alternative hypothesis: true mean is not equal to 0\n",
       "95 percent confidence interval:\n",
       " -0.00371153  0.14553007\n",
       "sample estimates:\n",
       " mean of x \n",
       "0.07090927 \n"
      ]
     },
     "metadata": {},
     "output_type": "display_data"
    }
   ],
   "source": [
    "t.test(car.val)"
   ]
  },
  {
   "cell_type": "markdown",
   "metadata": {},
   "source": [
    "-> 全体的に見ると平均は0%と見なして良さそう"
   ]
  },
  {
   "cell_type": "code",
   "execution_count": 7,
   "metadata": {
    "collapsed": false
   },
   "outputs": [
    {
     "data": {
      "text/html": [
       "6.35224960480216"
      ],
      "text/latex": [
       "6.35224960480216"
      ],
      "text/markdown": [
       "6.35224960480216"
      ],
      "text/plain": [
       "[1] 6.35225"
      ]
     },
     "metadata": {},
     "output_type": "display_data"
    }
   ],
   "source": [
    "sd(car.val)"
   ]
  },
  {
   "cell_type": "code",
   "execution_count": 8,
   "metadata": {
    "collapsed": false
   },
   "outputs": [
    {
     "data": {
      "text/html": [
       "62.7280506375"
      ],
      "text/latex": [
       "62.7280506375"
      ],
      "text/markdown": [
       "62.7280506375"
      ],
      "text/plain": [
       "[1] 62.72805"
      ]
     },
     "metadata": {},
     "output_type": "display_data"
    },
    {
     "data": {
      "text/html": [
       "-450.105939494"
      ],
      "text/latex": [
       "-450.105939494"
      ],
      "text/markdown": [
       "-450.105939494"
      ],
      "text/plain": [
       "[1] -450.1059"
      ]
     },
     "metadata": {},
     "output_type": "display_data"
    }
   ],
   "source": [
    "max(car.val)\n",
    "min(car.val)"
   ]
  },
  {
   "cell_type": "code",
   "execution_count": 9,
   "metadata": {
    "collapsed": false
   },
   "outputs": [
    {
     "data": {
      "text/html": [
       "27840"
      ],
      "text/latex": [
       "27840"
      ],
      "text/markdown": [
       "27840"
      ],
      "text/plain": [
       "[1] 27840"
      ]
     },
     "metadata": {},
     "output_type": "display_data"
    }
   ],
   "source": [
    "length(car.val)"
   ]
  },
  {
   "cell_type": "code",
   "execution_count": 10,
   "metadata": {
    "collapsed": false
   },
   "outputs": [
    {
     "data": {
      "text/html": [
       "418"
      ],
      "text/latex": [
       "418"
      ],
      "text/markdown": [
       "418"
      ],
      "text/plain": [
       "[1] 418"
      ]
     },
     "metadata": {},
     "output_type": "display_data"
    },
    {
     "data": {
      "text/html": [
       "237"
      ],
      "text/latex": [
       "237"
      ],
      "text/markdown": [
       "237"
      ],
      "text/plain": [
       "[1] 237"
      ]
     },
     "metadata": {},
     "output_type": "display_data"
    }
   ],
   "source": [
    "length(car.val[car.val >= 10.])\n",
    "length(car.val[car.val <= -10.])"
   ]
  },
  {
   "cell_type": "markdown",
   "metadata": {},
   "source": [
    "-> 前のマッチングと比べて、0に近い値の割合が増えた。また、平均値はわずかに正方向に移動し、分散もわずかに大きくなった。"
   ]
  },
  {
   "cell_type": "code",
   "execution_count": 11,
   "metadata": {
    "collapsed": false
   },
   "outputs": [
    {
     "data": {
      "text/html": [
       "-24.4283906061"
      ],
      "text/latex": [
       "-24.4283906061"
      ],
      "text/markdown": [
       "-24.4283906061"
      ],
      "text/plain": [
       "[1] -24.42839"
      ]
     },
     "metadata": {},
     "output_type": "display_data"
    },
    {
     "data": {
      "text/html": [
       "25.4200102036"
      ],
      "text/latex": [
       "25.4200102036"
      ],
      "text/markdown": [
       "25.4200102036"
      ],
      "text/plain": [
       "[1] 25.42001"
      ]
     },
     "metadata": {},
     "output_type": "display_data"
    },
    {
     "data": {
      "text/html": [
       "0.146474686712745"
      ],
      "text/latex": [
       "0.146474686712745"
      ],
      "text/markdown": [
       "0.146474686712745"
      ],
      "text/plain": [
       "[1] 0.1464747"
      ]
     },
     "metadata": {},
     "output_type": "display_data"
    }
   ],
   "source": [
    "# 両側それぞれ0.1%ずつのデータを除去\n",
    "trim.min <- sort(car.val)[length(car.val) * 0.001]\n",
    "trim.max <- sort(car.val)[length(car.val) * 0.999]\n",
    "trim.min\n",
    "trim.max\n",
    "mean(car.val[trim.min <= car.val & car.val <= trim.max])"
   ]
  },
  {
   "cell_type": "markdown",
   "metadata": {},
   "source": [
    "## プレスリリースのタイプごとの傾向"
   ]
  },
  {
   "cell_type": "code",
   "execution_count": 12,
   "metadata": {
    "collapsed": true
   },
   "outputs": [],
   "source": [
    "types <- c('04: Restructuring', '05: PR', '01: Product', '05: Price', '05: Promotion', '10: Exit', '04: License', '03: Technology', '06: Capacity', '04: Alliance', '06: Order', '04: Contract', '02: Process', '04: M&A')"
   ]
  },
  {
   "cell_type": "code",
   "execution_count": 13,
   "metadata": {
    "collapsed": false
   },
   "outputs": [],
   "source": [
    "car.data.type <- car.data[car.data$V2 == '01: Product',]"
   ]
  },
  {
   "cell_type": "code",
   "execution_count": 14,
   "metadata": {
    "collapsed": false
   },
   "outputs": [
    {
     "data": {
      "text/html": [
       "<table>\n",
       "<thead><tr><th></th><th scope=col>V1</th><th scope=col>V2</th><th scope=col>V3</th><th scope=col>V4</th><th scope=col>V5</th><th scope=col>V6</th></tr></thead>\n",
       "<tbody>\n",
       "\t<tr><th scope=row>3</th><td>NIKPRLRSP230282_07092009</td><td>01: Product             </td><td>6701                    </td><td>-0.007882342            </td><td>0.8871740               </td><td>3.719157e-74            </td></tr>\n",
       "\t<tr><th scope=row>5</th><td>NIKPRLRSP179349_17012008</td><td>01: Product             </td><td>4967                    </td><td> 0.024352662            </td><td>0.4886435               </td><td>2.008476e-14            </td></tr>\n",
       "\t<tr><th scope=row>10</th><td>NIKPRLRSP186444_08042008</td><td>01: Product             </td><td>8591                    </td><td>-0.016273157            </td><td>0.7228119               </td><td>2.334638e-36            </td></tr>\n",
       "\t<tr><th scope=row>12</th><td>NIKPRLRSP178189_21122007</td><td>01: Product             </td><td>4208                    </td><td>-0.009929621            </td><td>0.5607634               </td><td>2.269876e-19            </td></tr>\n",
       "\t<tr><th scope=row>13</th><td>NIKPRLRSP188065_30042008</td><td>01: Product             </td><td>5261                    </td><td> 0.004862938            </td><td>0.3683278               </td><td>2.240535e-08            </td></tr>\n",
       "\t<tr><th scope=row>15</th><td>NIKPRLRSP205551_18112008</td><td>01: Product             </td><td>4689                    </td><td> 0.008111386            </td><td>0.5282535               </td><td>5.395546e-17            </td></tr>\n",
       "</tbody>\n",
       "</table>\n"
      ],
      "text/latex": [
       "\\begin{tabular}{r|llllll}\n",
       "  & V1 & V2 & V3 & V4 & V5 & V6\\\\\n",
       "\\hline\n",
       "\t3 & NIKPRLRSP230282\\_07092009 & 01: Product                & 6701                       & -0.007882342               & 0.8871740                  & 3.719157e-74              \\\\\n",
       "\t5 & NIKPRLRSP179349\\_17012008 & 01: Product                & 4967                       &  0.024352662               & 0.4886435                  & 2.008476e-14              \\\\\n",
       "\t10 & NIKPRLRSP186444\\_08042008 & 01: Product                & 8591                       & -0.016273157               & 0.7228119                  & 2.334638e-36              \\\\\n",
       "\t12 & NIKPRLRSP178189\\_21122007 & 01: Product                & 4208                       & -0.009929621               & 0.5607634                  & 2.269876e-19              \\\\\n",
       "\t13 & NIKPRLRSP188065\\_30042008 & 01: Product                & 5261                       &  0.004862938               & 0.3683278                  & 2.240535e-08              \\\\\n",
       "\t15 & NIKPRLRSP205551\\_18112008 & 01: Product                & 4689                       &  0.008111386               & 0.5282535                  & 5.395546e-17              \\\\\n",
       "\\end{tabular}\n"
      ],
      "text/markdown": [
       "\n",
       "| <!--/--> | V1 | V2 | V3 | V4 | V5 | V6 | \n",
       "|---|---|---|---|---|---|\n",
       "| 3 | NIKPRLRSP230282_07092009 | 01: Product              | 6701                     | -0.007882342             | 0.8871740                | 3.719157e-74             | \n",
       "| 5 | NIKPRLRSP179349_17012008 | 01: Product              | 4967                     |  0.024352662             | 0.4886435                | 2.008476e-14             | \n",
       "| 10 | NIKPRLRSP186444_08042008 | 01: Product              | 8591                     | -0.016273157             | 0.7228119                | 2.334638e-36             | \n",
       "| 12 | NIKPRLRSP178189_21122007 | 01: Product              | 4208                     | -0.009929621             | 0.5607634                | 2.269876e-19             | \n",
       "| 13 | NIKPRLRSP188065_30042008 | 01: Product              | 5261                     |  0.004862938             | 0.3683278                | 2.240535e-08             | \n",
       "| 15 | NIKPRLRSP205551_18112008 | 01: Product              | 4689                     |  0.008111386             | 0.5282535                | 5.395546e-17             | \n",
       "\n",
       "\n"
      ],
      "text/plain": [
       "   V1                       V2          V3   V4           V5       \n",
       "3  NIKPRLRSP230282_07092009 01: Product 6701 -0.007882342 0.8871740\n",
       "5  NIKPRLRSP179349_17012008 01: Product 4967  0.024352662 0.4886435\n",
       "10 NIKPRLRSP186444_08042008 01: Product 8591 -0.016273157 0.7228119\n",
       "12 NIKPRLRSP178189_21122007 01: Product 4208 -0.009929621 0.5607634\n",
       "13 NIKPRLRSP188065_30042008 01: Product 5261  0.004862938 0.3683278\n",
       "15 NIKPRLRSP205551_18112008 01: Product 4689  0.008111386 0.5282535\n",
       "   V6          \n",
       "3  3.719157e-74\n",
       "5  2.008476e-14\n",
       "10 2.334638e-36\n",
       "12 2.269876e-19\n",
       "13 2.240535e-08\n",
       "15 5.395546e-17"
      ]
     },
     "metadata": {},
     "output_type": "display_data"
    }
   ],
   "source": [
    "head(car.data.type)"
   ]
  },
  {
   "cell_type": "code",
   "execution_count": 15,
   "metadata": {
    "collapsed": false
   },
   "outputs": [
    {
     "data": {
      "text/html": [
       "<dl class=dl-horizontal>\n",
       "\t<dt>0%</dt>\n",
       "\t\t<dd>-4.50105939494</dd>\n",
       "\t<dt>25%</dt>\n",
       "\t\t<dd>-0.0156154214218</dd>\n",
       "\t<dt>50%</dt>\n",
       "\t\t<dd>-0.0002311701761965</dd>\n",
       "\t<dt>75%</dt>\n",
       "\t\t<dd>0.015869800611275</dd>\n",
       "\t<dt>100%</dt>\n",
       "\t\t<dd>0.401685140788</dd>\n",
       "</dl>\n"
      ],
      "text/latex": [
       "\\begin{description*}\n",
       "\\item[0\\textbackslash{}\\%] -4.50105939494\n",
       "\\item[25\\textbackslash{}\\%] -0.0156154214218\n",
       "\\item[50\\textbackslash{}\\%] -0.0002311701761965\n",
       "\\item[75\\textbackslash{}\\%] 0.015869800611275\n",
       "\\item[100\\textbackslash{}\\%] 0.401685140788\n",
       "\\end{description*}\n"
      ],
      "text/markdown": [
       "0%\n",
       ":   -4.5010593949425%\n",
       ":   -0.015615421421850%\n",
       ":   -0.000231170176196575%\n",
       ":   0.015869800611275100%\n",
       ":   0.401685140788\n",
       "\n"
      ],
      "text/plain": [
       "           0%           25%           50%           75%          100% \n",
       "-4.5010593949 -0.0156154214 -0.0002311702  0.0158698006  0.4016851408 "
      ]
     },
     "metadata": {},
     "output_type": "display_data"
    }
   ],
   "source": [
    "quantile(car.data.type$V4)"
   ]
  },
  {
   "cell_type": "code",
   "execution_count": 18,
   "metadata": {
    "collapsed": false
   },
   "outputs": [
    {
     "data": {
      "image/png": "[encoded data removed]",
      "text/plain": [
       "Plot with title “Histogram of data”"
      ]
     },
     "metadata": {},
     "output_type": "display_data"
    }
   ],
   "source": [
    "print.result(car.data.type$V4)"
   ]
  },
  {
   "cell_type": "code",
   "execution_count": null,
   "metadata": {
    "collapsed": true
   },
   "outputs": [],
   "source": []
  },
  {
   "cell_type": "code",
   "execution_count": null,
   "metadata": {
    "collapsed": true
   },
   "outputs": [],
   "source": []
  },
  {
   "cell_type": "code",
   "execution_count": 17,
   "metadata": {
    "collapsed": true
   },
   "outputs": [],
   "source": [
    "print.result <- function(data) {\n",
    "    hist(data, breaks = 1000, xlim = c(min(data),max(data)), xlab = \"(cumulative) abnormal return [%]\")\n",
    "    par(new=T)\n",
    "    curve(dnorm(x, mean=mean(data), sd=sqrt(var(data))), from=min(data), to=max(data), col=\"red\", xlab=\"\", ylab=\"\")   # 正規分布を重ね書き\n",
    "}"
   ]
  },
  {
   "cell_type": "code",
   "execution_count": 19,
   "metadata": {
    "collapsed": false,
    "scrolled": false
   },
   "outputs": [],
   "source": [
    "car.types <- list()\n",
    "for (type in sort(types)) {\n",
    "    car.val.type <- as.numeric(as.character(car.data[car.data$V2 == type,]$V4)) * 100\n",
    "    #print(c(t, length(car.val.type), mean(car.val.type), sd(car.val.type), min(car.val.type), max(car.val.type)))\n",
    "    #print(list(c(t, length(car.val.type), mean(car.val.type), sd(car.val.type), min(car.val.type), max(car.val.type))))\n",
    "    pv <- t.test(car.val.type)$p.value\n",
    "    car.types <- c(car.types, list(c(type, length(car.val.type), mean(car.val.type), pv, sd(car.val.type), min(car.val.type), max(car.val.type))))\n",
    "}\n",
    "Unzip <- function(...) rbind(data.frame(), ...)\n",
    "car.frame <- do.call(Unzip, car.types)\n",
    "colnames(car.frame) <- c(\"prtype\", \"num\", \"mean[%]\", \"p-value (mean != 0)\", \"sd\", \"min\", \"max\")\n",
    "#car.frame\n",
    "\n",
    "# print histgram\n",
    "#for (t in sort(types)) {\n",
    "#    car.val.type <- as.numeric(car.data[car.data$V2 == t,]$V4) * 100\n",
    "#    print.result(car.val.type)\n",
    "#}"
   ]
  },
  {
   "cell_type": "code",
   "execution_count": 20,
   "metadata": {
    "collapsed": false
   },
   "outputs": [
    {
     "data": {
      "text/html": [
       "<table>\n",
       "<thead><tr><th></th><th scope=col>prtype</th><th scope=col>num</th><th scope=col>mean[%]</th><th scope=col>p-value (mean != 0)</th><th scope=col>sd</th><th scope=col>min</th><th scope=col>max</th></tr></thead>\n",
       "<tbody>\n",
       "\t<tr><th scope=row>11</th><td>05: Promotion       </td><td>20                  </td><td>0.74231243060715    </td><td>0.288159155050597   </td><td>3.03790871825636    </td><td>-4.31908542771      </td><td>5.69873573604       </td></tr>\n",
       "\t<tr><th scope=row>2</th><td>02: Process         </td><td>491                 </td><td>0.345755556309737   </td><td>0.0445718781790272  </td><td>3.80437930914385    </td><td>-14.5563082726      </td><td>32.8957208012       </td></tr>\n",
       "\t<tr><th scope=row>12</th><td>06: Capacity        </td><td>1431                </td><td>0.291821195543332   </td><td>0.00360900895478929 </td><td>3.78665657292487    </td><td>-17.1980552085      </td><td>24.2508205792       </td></tr>\n",
       "\t<tr><th scope=row>8</th><td>04: Restructuring   </td><td>228                 </td><td>0.265000421901194   </td><td>0.270908713014061   </td><td>3.62558601370102    </td><td>-12.041890539       </td><td>17.5582828742       </td></tr>\n",
       "\t<tr><th scope=row>6</th><td>04: License         </td><td>271                 </td><td>0.238718259733001   </td><td>0.262264409849642   </td><td>3.49812118834502    </td><td>-11.5261148231      </td><td>16.8600242711       </td></tr>\n",
       "\t<tr><th scope=row>5</th><td>04: Contract        </td><td>1018                </td><td>0.21856696884584    </td><td>0.0825606564729016  </td><td>4.01305845635978    </td><td>-38.1125079952      </td><td>28.7397132309       </td></tr>\n",
       "\t<tr><th scope=row>7</th><td><span style=white-space:pre-wrap>04: M&amp;A          </span></td><td><span style=white-space:pre-wrap>392  </span>                </td><td><span style=white-space:pre-wrap>0.199926003713138   </span> </td><td><span style=white-space:pre-wrap>0.337217206098682  </span>  </td><td>4.11958009982321                                             </td><td>-13.4608510945                                               </td><td>35.4888599452                                                </td></tr>\n",
       "\t<tr><th scope=row>3</th><td>03: Technology      </td><td>1725                </td><td>0.175531139223477   </td><td>0.0322233163934298  </td><td>3.40135873241184    </td><td>-20.9610674536      </td><td>18.4618805001       </td></tr>\n",
       "\t<tr><th scope=row>10</th><td>05: Price           </td><td>112                 </td><td>0.132924265994909   </td><td>0.728205265551342   </td><td>4.03779599915689    </td><td>-11.9792427275      </td><td>24.2508205792       </td></tr>\n",
       "\t<tr><th scope=row>1</th><td>01: Product         </td><td>16854               </td><td>0.0493919550950251  </td><td>0.321745932304766   </td><td>6.47106041821733    </td><td>-450.105939494      </td><td>40.1685140788       </td></tr>\n",
       "\t<tr><th scope=row>13</th><td>06: Order           </td><td>907                 </td><td>0.000343267316199658</td><td>0.997706687593284   </td><td>3.5957749421165     </td><td>-24.0576408132      </td><td>22.1655032348       </td></tr>\n",
       "\t<tr><th scope=row>14</th><td>10: Exit            </td><td>37                  </td><td>-0.00698636057075948</td><td>0.990305391026283   </td><td>3.4732411648825     </td><td>-7.77300148801      </td><td>9.36464170582       </td></tr>\n",
       "\t<tr><th scope=row>4</th><td>04: Alliance        </td><td>1621                </td><td>-0.0853644700353185 </td><td>0.635008360435404   </td><td>7.23897334638363    </td><td>-105.042197299      </td><td>62.7280506375       </td></tr>\n",
       "\t<tr><th scope=row>9</th><td>05: PR              </td><td>981                 </td><td>-0.380089477242988  </td><td>0.426719695831678   </td><td>14.9717353427247    </td><td>-449.343295111      </td><td>29.5076837732       </td></tr>\n",
       "</tbody>\n",
       "</table>\n"
      ],
      "text/latex": [
       "\\begin{tabular}{r|lllllll}\n",
       "  & prtype & num & mean{[}\\%{]} & p-value (mean != 0) & sd & min & max\\\\\n",
       "\\hline\n",
       "\t11 & 05: Promotion        & 20                   & 0.74231243060715     & 0.288159155050597    & 3.03790871825636     & -4.31908542771       & 5.69873573604       \\\\\n",
       "\t2 & 02: Process          & 491                  & 0.345755556309737    & 0.0445718781790272   & 3.80437930914385     & -14.5563082726       & 32.8957208012       \\\\\n",
       "\t12 & 06: Capacity         & 1431                 & 0.291821195543332    & 0.00360900895478929  & 3.78665657292487     & -17.1980552085       & 24.2508205792       \\\\\n",
       "\t8 & 04: Restructuring    & 228                  & 0.265000421901194    & 0.270908713014061    & 3.62558601370102     & -12.041890539        & 17.5582828742       \\\\\n",
       "\t6 & 04: License          & 271                  & 0.238718259733001    & 0.262264409849642    & 3.49812118834502     & -11.5261148231       & 16.8600242711       \\\\\n",
       "\t5 & 04: Contract         & 1018                 & 0.21856696884584     & 0.0825606564729016   & 4.01305845635978     & -38.1125079952       & 28.7397132309       \\\\\n",
       "\t7 & 04: M\\&A            & 392                  & 0.199926003713138    & 0.337217206098682    & 4.11958009982321     & -13.4608510945       & 35.4888599452       \\\\\n",
       "\t3 & 03: Technology       & 1725                 & 0.175531139223477    & 0.0322233163934298   & 3.40135873241184     & -20.9610674536       & 18.4618805001       \\\\\n",
       "\t10 & 05: Price            & 112                  & 0.132924265994909    & 0.728205265551342    & 4.03779599915689     & -11.9792427275       & 24.2508205792       \\\\\n",
       "\t1 & 01: Product          & 16854                & 0.0493919550950251   & 0.321745932304766    & 6.47106041821733     & -450.105939494       & 40.1685140788       \\\\\n",
       "\t13 & 06: Order            & 907                  & 0.000343267316199658 & 0.997706687593284    & 3.5957749421165      & -24.0576408132       & 22.1655032348       \\\\\n",
       "\t14 & 10: Exit             & 37                   & -0.00698636057075948 & 0.990305391026283    & 3.4732411648825      & -7.77300148801       & 9.36464170582       \\\\\n",
       "\t4 & 04: Alliance         & 1621                 & -0.0853644700353185  & 0.635008360435404    & 7.23897334638363     & -105.042197299       & 62.7280506375       \\\\\n",
       "\t9 & 05: PR               & 981                  & -0.380089477242988   & 0.426719695831678    & 14.9717353427247     & -449.343295111       & 29.5076837732       \\\\\n",
       "\\end{tabular}\n"
      ],
      "text/markdown": [
       "\n",
       "| <!--/--> | prtype | num | mean[%] | p-value (mean != 0) | sd | min | max | \n",
       "|---|---|---|---|---|---|---|---|---|---|---|---|---|---|\n",
       "| 11 | 05: Promotion        | 20                   | 0.74231243060715     | 0.288159155050597    | 3.03790871825636     | -4.31908542771       | 5.69873573604        | \n",
       "| 2 | 02: Process          | 491                  | 0.345755556309737    | 0.0445718781790272   | 3.80437930914385     | -14.5563082726       | 32.8957208012        | \n",
       "| 12 | 06: Capacity         | 1431                 | 0.291821195543332    | 0.00360900895478929  | 3.78665657292487     | -17.1980552085       | 24.2508205792        | \n",
       "| 8 | 04: Restructuring    | 228                  | 0.265000421901194    | 0.270908713014061    | 3.62558601370102     | -12.041890539        | 17.5582828742        | \n",
       "| 6 | 04: License          | 271                  | 0.238718259733001    | 0.262264409849642    | 3.49812118834502     | -11.5261148231       | 16.8600242711        | \n",
       "| 5 | 04: Contract         | 1018                 | 0.21856696884584     | 0.0825606564729016   | 4.01305845635978     | -38.1125079952       | 28.7397132309        | \n",
       "| 7 | 04: M&A              | 392                  | 0.199926003713138    | 0.337217206098682    | 4.11958009982321     | -13.4608510945       | 35.4888599452        | \n",
       "| 3 | 03: Technology       | 1725                 | 0.175531139223477    | 0.0322233163934298   | 3.40135873241184     | -20.9610674536       | 18.4618805001        | \n",
       "| 10 | 05: Price            | 112                  | 0.132924265994909    | 0.728205265551342    | 4.03779599915689     | -11.9792427275       | 24.2508205792        | \n",
       "| 1 | 01: Product          | 16854                | 0.0493919550950251   | 0.321745932304766    | 6.47106041821733     | -450.105939494       | 40.1685140788        | \n",
       "| 13 | 06: Order            | 907                  | 0.000343267316199658 | 0.997706687593284    | 3.5957749421165      | -24.0576408132       | 22.1655032348        | \n",
       "| 14 | 10: Exit             | 37                   | -0.00698636057075948 | 0.990305391026283    | 3.4732411648825      | -7.77300148801       | 9.36464170582        | \n",
       "| 4 | 04: Alliance         | 1621                 | -0.0853644700353185  | 0.635008360435404    | 7.23897334638363     | -105.042197299       | 62.7280506375        | \n",
       "| 9 | 05: PR               | 981                  | -0.380089477242988   | 0.426719695831678    | 14.9717353427247     | -449.343295111       | 29.5076837732        | \n",
       "\n",
       "\n"
      ],
      "text/plain": [
       "   prtype            num   mean[%]              p-value (mean != 0)\n",
       "11 05: Promotion     20    0.74231243060715     0.288159155050597  \n",
       "2  02: Process       491   0.345755556309737    0.0445718781790272 \n",
       "12 06: Capacity      1431  0.291821195543332    0.00360900895478929\n",
       "8  04: Restructuring 228   0.265000421901194    0.270908713014061  \n",
       "6  04: License       271   0.238718259733001    0.262264409849642  \n",
       "5  04: Contract      1018  0.21856696884584     0.0825606564729016 \n",
       "7  04: M&A           392   0.199926003713138    0.337217206098682  \n",
       "3  03: Technology    1725  0.175531139223477    0.0322233163934298 \n",
       "10 05: Price         112   0.132924265994909    0.728205265551342  \n",
       "1  01: Product       16854 0.0493919550950251   0.321745932304766  \n",
       "13 06: Order         907   0.000343267316199658 0.997706687593284  \n",
       "14 10: Exit          37    -0.00698636057075948 0.990305391026283  \n",
       "4  04: Alliance      1621  -0.0853644700353185  0.635008360435404  \n",
       "9  05: PR            981   -0.380089477242988   0.426719695831678  \n",
       "   sd               min            max          \n",
       "11 3.03790871825636 -4.31908542771 5.69873573604\n",
       "2  3.80437930914385 -14.5563082726 32.8957208012\n",
       "12 3.78665657292487 -17.1980552085 24.2508205792\n",
       "8  3.62558601370102 -12.041890539  17.5582828742\n",
       "6  3.49812118834502 -11.5261148231 16.8600242711\n",
       "5  4.01305845635978 -38.1125079952 28.7397132309\n",
       "7  4.11958009982321 -13.4608510945 35.4888599452\n",
       "3  3.40135873241184 -20.9610674536 18.4618805001\n",
       "10 4.03779599915689 -11.9792427275 24.2508205792\n",
       "1  6.47106041821733 -450.105939494 40.1685140788\n",
       "13 3.5957749421165  -24.0576408132 22.1655032348\n",
       "14 3.4732411648825  -7.77300148801 9.36464170582\n",
       "4  7.23897334638363 -105.042197299 62.7280506375\n",
       "9  14.9717353427247 -449.343295111 29.5076837732"
      ]
     },
     "metadata": {},
     "output_type": "display_data"
    }
   ],
   "source": [
    "car.frame[order(as.numeric(as.character(car.frame$\"mean[%]\")), decreasing = TRUE),]"
   ]
  },
  {
   "cell_type": "markdown",
   "metadata": {},
   "source": [
    "平均値でソートしたもの。大事そうなタイプから並んでいたりする。。？\n",
    "\n",
    "\"01: Product\"は全体的に見るとほぼ影響なしとなっている\n",
    "\n",
    "p値は多重検定補正はしていない"
   ]
  },
  {
   "cell_type": "code",
   "execution_count": 21,
   "metadata": {
    "collapsed": false
   },
   "outputs": [],
   "source": [
    "car.data$V4 <- as.numeric(as.character(car.data$V4))"
   ]
  },
  {
   "cell_type": "code",
   "execution_count": 22,
   "metadata": {
    "collapsed": false
   },
   "outputs": [
    {
     "data": {
      "text/html": [
       "<table>\n",
       "<thead><tr><th scope=col>V1</th><th scope=col>V2</th><th scope=col>V3</th><th scope=col>V4</th><th scope=col>V5</th><th scope=col>V6</th></tr></thead>\n",
       "<tbody>\n",
       "</tbody>\n",
       "</table>\n"
      ],
      "text/latex": [
       "\\begin{tabular}{r|llllll}\n",
       " V1 & V2 & V3 & V4 & V5 & V6\\\\\n",
       "\\hline\n",
       "\\end{tabular}\n"
      ],
      "text/markdown": [
       "\n",
       "V1 | V2 | V3 | V4 | V5 | V6 | \n",
       "||\n",
       "\n",
       "\n"
      ],
      "text/plain": [
       "     V1 V2 V3 V4 V5 V6"
      ]
     },
     "metadata": {},
     "output_type": "display_data"
    }
   ],
   "source": [
    "car.data[car.data$V4 < -5,]"
   ]
  },
  {
   "cell_type": "code",
   "execution_count": null,
   "metadata": {
    "collapsed": true
   },
   "outputs": [],
   "source": []
  },
  {
   "cell_type": "markdown",
   "metadata": {
    "collapsed": true
   },
   "source": [
    "### 企業ごとのCARは？"
   ]
  },
  {
   "cell_type": "code",
   "execution_count": null,
   "metadata": {
    "collapsed": true
   },
   "outputs": [],
   "source": []
  }
 ],
 "metadata": {
  "kernelspec": {
   "display_name": "R",
   "language": "R",
   "name": "ir"
  },
  "language_info": {
   "codemirror_mode": "r",
   "file_extension": ".r",
   "mimetype": "text/x-r-source",
   "name": "R",
   "pygments_lexer": "r",
   "version": "3.3.2"
  }
 },
 "nbformat": 4,
 "nbformat_minor": 2
}
