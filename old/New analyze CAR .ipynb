{
 "cells": [
  {
   "cell_type": "code",
   "execution_count": 7,
   "metadata": {
    "collapsed": true
   },
   "outputs": [],
   "source": [
    "car.data <- read.table(\"car.new.rsquare\", sep = '\\t', header = FALSE)"
   ]
  },
  {
   "cell_type": "code",
   "execution_count": 8,
   "metadata": {
    "collapsed": false,
    "scrolled": true
   },
   "outputs": [
    {
     "data": {
      "text/html": [
       "<table>\n",
       "<thead><tr><th scope=col>V1</th><th scope=col>V2</th><th scope=col>V3</th><th scope=col>V4</th><th scope=col>V5</th></tr></thead>\n",
       "<tbody>\n",
       "\t<tr><td>NIKPRLRSP037996_06012003</td><td>99_Others               </td><td>8379                    </td><td>-0.003205364            </td><td>0.26349408              </td></tr>\n",
       "\t<tr><td>NIKPRLRSP038002_06012003</td><td>01: Product             </td><td>2875                    </td><td>-0.022201523            </td><td>0.07838716              </td></tr>\n",
       "\t<tr><td>NIKPRLRSP038003_06012003</td><td>01: Product             </td><td>2875                    </td><td>-0.022201523            </td><td>0.07838716              </td></tr>\n",
       "\t<tr><td>NIKPRLRSP038004_06012003</td><td>03: Technology          </td><td>4776                    </td><td>-0.104686593            </td><td>0.05196446              </td></tr>\n",
       "\t<tr><td>NIKPRLRSP038007_06012003</td><td>01: Product             </td><td>4543                    </td><td>-0.019885189            </td><td>0.31794175              </td></tr>\n",
       "\t<tr><td>NIKPRLRSP038008_06012003</td><td>01: Product             </td><td>2875                    </td><td>-0.022201523            </td><td>0.07838716              </td></tr>\n",
       "</tbody>\n",
       "</table>\n"
      ],
      "text/latex": [
       "\\begin{tabular}{r|lllll}\n",
       " V1 & V2 & V3 & V4 & V5\\\\\n",
       "\\hline\n",
       "\t NIKPRLRSP037996\\_06012003 & 99\\_Others                & 8379                       & -0.003205364               & 0.26349408                \\\\\n",
       "\t NIKPRLRSP038002\\_06012003 & 01: Product                & 2875                       & -0.022201523               & 0.07838716                \\\\\n",
       "\t NIKPRLRSP038003\\_06012003 & 01: Product                & 2875                       & -0.022201523               & 0.07838716                \\\\\n",
       "\t NIKPRLRSP038004\\_06012003 & 03: Technology             & 4776                       & -0.104686593               & 0.05196446                \\\\\n",
       "\t NIKPRLRSP038007\\_06012003 & 01: Product                & 4543                       & -0.019885189               & 0.31794175                \\\\\n",
       "\t NIKPRLRSP038008\\_06012003 & 01: Product                & 2875                       & -0.022201523               & 0.07838716                \\\\\n",
       "\\end{tabular}\n"
      ],
      "text/markdown": [
       "\n",
       "V1 | V2 | V3 | V4 | V5 | \n",
       "|---|---|---|---|---|---|\n",
       "| NIKPRLRSP037996_06012003 | 99_Others                | 8379                     | -0.003205364             | 0.26349408               | \n",
       "| NIKPRLRSP038002_06012003 | 01: Product              | 2875                     | -0.022201523             | 0.07838716               | \n",
       "| NIKPRLRSP038003_06012003 | 01: Product              | 2875                     | -0.022201523             | 0.07838716               | \n",
       "| NIKPRLRSP038004_06012003 | 03: Technology           | 4776                     | -0.104686593             | 0.05196446               | \n",
       "| NIKPRLRSP038007_06012003 | 01: Product              | 4543                     | -0.019885189             | 0.31794175               | \n",
       "| NIKPRLRSP038008_06012003 | 01: Product              | 2875                     | -0.022201523             | 0.07838716               | \n",
       "\n",
       "\n"
      ],
      "text/plain": [
       "  V1                       V2             V3   V4           V5        \n",
       "1 NIKPRLRSP037996_06012003 99_Others      8379 -0.003205364 0.26349408\n",
       "2 NIKPRLRSP038002_06012003 01: Product    2875 -0.022201523 0.07838716\n",
       "3 NIKPRLRSP038003_06012003 01: Product    2875 -0.022201523 0.07838716\n",
       "4 NIKPRLRSP038004_06012003 03: Technology 4776 -0.104686593 0.05196446\n",
       "5 NIKPRLRSP038007_06012003 01: Product    4543 -0.019885189 0.31794175\n",
       "6 NIKPRLRSP038008_06012003 01: Product    2875 -0.022201523 0.07838716"
      ]
     },
     "metadata": {},
     "output_type": "display_data"
    }
   ],
   "source": [
    "head(car.data)"
   ]
  },
  {
   "cell_type": "markdown",
   "metadata": {},
   "source": [
    "## 新しいマッチングでの全体的な傾向"
   ]
  },
  {
   "cell_type": "code",
   "execution_count": 25,
   "metadata": {
    "collapsed": false
   },
   "outputs": [
    {
     "data": {
      "text/html": [
       "47301"
      ],
      "text/latex": [
       "47301"
      ],
      "text/markdown": [
       "47301"
      ],
      "text/plain": [
       "[1] 47301"
      ]
     },
     "metadata": {},
     "output_type": "display_data"
    },
    {
     "data": {
      "text/html": [
       "<ol class=list-inline>\n",
       "\t<li>-0.320536383597</li>\n",
       "\t<li>-2.22015228461</li>\n",
       "\t<li>-2.22015228461</li>\n",
       "\t<li>-10.4686593001</li>\n",
       "\t<li>-1.98851890375</li>\n",
       "\t<li>-2.22015228461</li>\n",
       "\t<li>-2.22015228461</li>\n",
       "\t<li>-2.22015228461</li>\n",
       "\t<li>1.01980567206</li>\n",
       "\t<li>1.81494733553</li>\n",
       "\t<li>2.28893072465</li>\n",
       "\t<li>2.15020906573</li>\n",
       "\t<li>-3.21315851561</li>\n",
       "\t<li>2.10679159844</li>\n",
       "\t<li>-2.4490807648</li>\n",
       "\t<li>-1.14514478694</li>\n",
       "\t<li>-1.14514478694</li>\n",
       "\t<li>1.79206288617</li>\n",
       "\t<li>-2.22044950549</li>\n",
       "\t<li>-4.00032712116</li>\n",
       "\t<li>-0.265776940828</li>\n",
       "\t<li>-0.378346666426</li>\n",
       "\t<li>-1.02292967169</li>\n",
       "\t<li>-2.09930852792</li>\n",
       "\t<li>3.09086326567</li>\n",
       "\t<li>-2.15049071312</li>\n",
       "\t<li>-2.15049071312</li>\n",
       "\t<li>-1.42571715242</li>\n",
       "\t<li>-4.68511187767</li>\n",
       "\t<li>-0.596575867114</li>\n",
       "\t<li>-0.596575867114</li>\n",
       "\t<li>-2.48907263582</li>\n",
       "\t<li>2.6754827346</li>\n",
       "\t<li>2.6754827346</li>\n",
       "\t<li>2.6754827346</li>\n",
       "\t<li>2.6754827346</li>\n",
       "\t<li>3.34762615838</li>\n",
       "\t<li>0.779995261634</li>\n",
       "\t<li>5.03122587496</li>\n",
       "\t<li>3.22567313036</li>\n",
       "\t<li>-2.81417325683</li>\n",
       "\t<li>-2.620305702</li>\n",
       "\t<li>1.59693619379</li>\n",
       "\t<li>3.25261163729</li>\n",
       "\t<li>-1.82548398699</li>\n",
       "\t<li>-1.96817375104</li>\n",
       "\t<li>1.05172423373</li>\n",
       "\t<li>5.06126875903</li>\n",
       "\t<li>-1.29392258918</li>\n",
       "\t<li>7.66586790822</li>\n",
       "\t<li>2.23134949692</li>\n",
       "\t<li>-1.41808455437</li>\n",
       "\t<li>-3.29596867677</li>\n",
       "\t<li>-2.49831706378</li>\n",
       "\t<li>-1.38838874466</li>\n",
       "\t<li>-1.33158864109</li>\n",
       "\t<li>-3.29596867677</li>\n",
       "\t<li>-1.41184742622</li>\n",
       "\t<li>-3.29596867677</li>\n",
       "\t<li>-1.0110376189</li>\n",
       "\t<li>-1.0110376189</li>\n",
       "\t<li>-1.15418753137</li>\n",
       "\t<li>-1.15418753137</li>\n",
       "\t<li>-2.01463341449</li>\n",
       "\t<li>0.658267714441</li>\n",
       "\t<li>-3.04503106117</li>\n",
       "\t<li>-2.6862279886</li>\n",
       "\t<li>-1.93938440064</li>\n",
       "\t<li>-1.93938440064</li>\n",
       "\t<li>-2.6862279886</li>\n",
       "\t<li>-2.63652645869</li>\n",
       "\t<li>8.93702073194</li>\n",
       "\t<li>0.658267714441</li>\n",
       "\t<li>0.658267714441</li>\n",
       "\t<li>0.658267714441</li>\n",
       "\t<li>-1.3889084506</li>\n",
       "\t<li>-1.3889084506</li>\n",
       "\t<li>1.08169571909</li>\n",
       "\t<li>-1.66227194904</li>\n",
       "\t<li>0.340264934427</li>\n",
       "\t<li>3.32313659888</li>\n",
       "\t<li>-0.826564913875</li>\n",
       "\t<li>5.88341297323</li>\n",
       "\t<li>5.88341297323</li>\n",
       "\t<li>-0.0784985253998</li>\n",
       "\t<li>-6.47088799258</li>\n",
       "\t<li>0.104359515232</li>\n",
       "\t<li>-0.42510385805</li>\n",
       "\t<li>2.47332543531</li>\n",
       "\t<li>0.828249364991</li>\n",
       "\t<li>-2.86723275864</li>\n",
       "\t<li>-0.000364605542595</li>\n",
       "\t<li>-2.58720540653</li>\n",
       "\t<li>8.62937901893</li>\n",
       "\t<li>0.751740226294</li>\n",
       "\t<li>0.751740226294</li>\n",
       "\t<li>0.751740226294</li>\n",
       "\t<li>0.751740226294</li>\n",
       "\t<li>-1.3205209944</li>\n",
       "\t<li>-1.3205209944</li>\n",
       "</ol>\n"
      ],
      "text/latex": [
       "\\begin{enumerate*}\n",
       "\\item -0.320536383597\n",
       "\\item -2.22015228461\n",
       "\\item -2.22015228461\n",
       "\\item -10.4686593001\n",
       "\\item -1.98851890375\n",
       "\\item -2.22015228461\n",
       "\\item -2.22015228461\n",
       "\\item -2.22015228461\n",
       "\\item 1.01980567206\n",
       "\\item 1.81494733553\n",
       "\\item 2.28893072465\n",
       "\\item 2.15020906573\n",
       "\\item -3.21315851561\n",
       "\\item 2.10679159844\n",
       "\\item -2.4490807648\n",
       "\\item -1.14514478694\n",
       "\\item -1.14514478694\n",
       "\\item 1.79206288617\n",
       "\\item -2.22044950549\n",
       "\\item -4.00032712116\n",
       "\\item -0.265776940828\n",
       "\\item -0.378346666426\n",
       "\\item -1.02292967169\n",
       "\\item -2.09930852792\n",
       "\\item 3.09086326567\n",
       "\\item -2.15049071312\n",
       "\\item -2.15049071312\n",
       "\\item -1.42571715242\n",
       "\\item -4.68511187767\n",
       "\\item -0.596575867114\n",
       "\\item -0.596575867114\n",
       "\\item -2.48907263582\n",
       "\\item 2.6754827346\n",
       "\\item 2.6754827346\n",
       "\\item 2.6754827346\n",
       "\\item 2.6754827346\n",
       "\\item 3.34762615838\n",
       "\\item 0.779995261634\n",
       "\\item 5.03122587496\n",
       "\\item 3.22567313036\n",
       "\\item -2.81417325683\n",
       "\\item -2.620305702\n",
       "\\item 1.59693619379\n",
       "\\item 3.25261163729\n",
       "\\item -1.82548398699\n",
       "\\item -1.96817375104\n",
       "\\item 1.05172423373\n",
       "\\item 5.06126875903\n",
       "\\item -1.29392258918\n",
       "\\item 7.66586790822\n",
       "\\item 2.23134949692\n",
       "\\item -1.41808455437\n",
       "\\item -3.29596867677\n",
       "\\item -2.49831706378\n",
       "\\item -1.38838874466\n",
       "\\item -1.33158864109\n",
       "\\item -3.29596867677\n",
       "\\item -1.41184742622\n",
       "\\item -3.29596867677\n",
       "\\item -1.0110376189\n",
       "\\item -1.0110376189\n",
       "\\item -1.15418753137\n",
       "\\item -1.15418753137\n",
       "\\item -2.01463341449\n",
       "\\item 0.658267714441\n",
       "\\item -3.04503106117\n",
       "\\item -2.6862279886\n",
       "\\item -1.93938440064\n",
       "\\item -1.93938440064\n",
       "\\item -2.6862279886\n",
       "\\item -2.63652645869\n",
       "\\item 8.93702073194\n",
       "\\item 0.658267714441\n",
       "\\item 0.658267714441\n",
       "\\item 0.658267714441\n",
       "\\item -1.3889084506\n",
       "\\item -1.3889084506\n",
       "\\item 1.08169571909\n",
       "\\item -1.66227194904\n",
       "\\item 0.340264934427\n",
       "\\item 3.32313659888\n",
       "\\item -0.826564913875\n",
       "\\item 5.88341297323\n",
       "\\item 5.88341297323\n",
       "\\item -0.0784985253998\n",
       "\\item -6.47088799258\n",
       "\\item 0.104359515232\n",
       "\\item -0.42510385805\n",
       "\\item 2.47332543531\n",
       "\\item 0.828249364991\n",
       "\\item -2.86723275864\n",
       "\\item -0.000364605542595\n",
       "\\item -2.58720540653\n",
       "\\item 8.62937901893\n",
       "\\item 0.751740226294\n",
       "\\item 0.751740226294\n",
       "\\item 0.751740226294\n",
       "\\item 0.751740226294\n",
       "\\item -1.3205209944\n",
       "\\item -1.3205209944\n",
       "\\end{enumerate*}\n"
      ],
      "text/markdown": [
       "1. -0.320536383597\n",
       "2. -2.22015228461\n",
       "3. -2.22015228461\n",
       "4. -10.4686593001\n",
       "5. -1.98851890375\n",
       "6. -2.22015228461\n",
       "7. -2.22015228461\n",
       "8. -2.22015228461\n",
       "9. 1.01980567206\n",
       "10. 1.81494733553\n",
       "11. 2.28893072465\n",
       "12. 2.15020906573\n",
       "13. -3.21315851561\n",
       "14. 2.10679159844\n",
       "15. -2.4490807648\n",
       "16. -1.14514478694\n",
       "17. -1.14514478694\n",
       "18. 1.79206288617\n",
       "19. -2.22044950549\n",
       "20. -4.00032712116\n",
       "21. -0.265776940828\n",
       "22. -0.378346666426\n",
       "23. -1.02292967169\n",
       "24. -2.09930852792\n",
       "25. 3.09086326567\n",
       "26. -2.15049071312\n",
       "27. -2.15049071312\n",
       "28. -1.42571715242\n",
       "29. -4.68511187767\n",
       "30. -0.596575867114\n",
       "31. -0.596575867114\n",
       "32. -2.48907263582\n",
       "33. 2.6754827346\n",
       "34. 2.6754827346\n",
       "35. 2.6754827346\n",
       "36. 2.6754827346\n",
       "37. 3.34762615838\n",
       "38. 0.779995261634\n",
       "39. 5.03122587496\n",
       "40. 3.22567313036\n",
       "41. -2.81417325683\n",
       "42. -2.620305702\n",
       "43. 1.59693619379\n",
       "44. 3.25261163729\n",
       "45. -1.82548398699\n",
       "46. -1.96817375104\n",
       "47. 1.05172423373\n",
       "48. 5.06126875903\n",
       "49. -1.29392258918\n",
       "50. 7.66586790822\n",
       "51. 2.23134949692\n",
       "52. -1.41808455437\n",
       "53. -3.29596867677\n",
       "54. -2.49831706378\n",
       "55. -1.38838874466\n",
       "56. -1.33158864109\n",
       "57. -3.29596867677\n",
       "58. -1.41184742622\n",
       "59. -3.29596867677\n",
       "60. -1.0110376189\n",
       "61. -1.0110376189\n",
       "62. -1.15418753137\n",
       "63. -1.15418753137\n",
       "64. -2.01463341449\n",
       "65. 0.658267714441\n",
       "66. -3.04503106117\n",
       "67. -2.6862279886\n",
       "68. -1.93938440064\n",
       "69. -1.93938440064\n",
       "70. -2.6862279886\n",
       "71. -2.63652645869\n",
       "72. 8.93702073194\n",
       "73. 0.658267714441\n",
       "74. 0.658267714441\n",
       "75. 0.658267714441\n",
       "76. -1.3889084506\n",
       "77. -1.3889084506\n",
       "78. 1.08169571909\n",
       "79. -1.66227194904\n",
       "80. 0.340264934427\n",
       "81. 3.32313659888\n",
       "82. -0.826564913875\n",
       "83. 5.88341297323\n",
       "84. 5.88341297323\n",
       "85. -0.0784985253998\n",
       "86. -6.47088799258\n",
       "87. 0.104359515232\n",
       "88. -0.42510385805\n",
       "89. 2.47332543531\n",
       "90. 0.828249364991\n",
       "91. -2.86723275864\n",
       "92. -0.000364605542595\n",
       "93. -2.58720540653\n",
       "94. 8.62937901893\n",
       "95. 0.751740226294\n",
       "96. 0.751740226294\n",
       "97. 0.751740226294\n",
       "98. 0.751740226294\n",
       "99. -1.3205209944\n",
       "100. -1.3205209944\n",
       "\n",
       "\n"
      ],
      "text/plain": [
       "  [1] -3.205364e-01 -2.220152e+00 -2.220152e+00 -1.046866e+01 -1.988519e+00\n",
       "  [6] -2.220152e+00 -2.220152e+00 -2.220152e+00  1.019806e+00  1.814947e+00\n",
       " [11]  2.288931e+00  2.150209e+00 -3.213159e+00  2.106792e+00 -2.449081e+00\n",
       " [16] -1.145145e+00 -1.145145e+00  1.792063e+00 -2.220450e+00 -4.000327e+00\n",
       " [21] -2.657769e-01 -3.783467e-01 -1.022930e+00 -2.099309e+00  3.090863e+00\n",
       " [26] -2.150491e+00 -2.150491e+00 -1.425717e+00 -4.685112e+00 -5.965759e-01\n",
       " [31] -5.965759e-01 -2.489073e+00  2.675483e+00  2.675483e+00  2.675483e+00\n",
       " [36]  2.675483e+00  3.347626e+00  7.799953e-01  5.031226e+00  3.225673e+00\n",
       " [41] -2.814173e+00 -2.620306e+00  1.596936e+00  3.252612e+00 -1.825484e+00\n",
       " [46] -1.968174e+00  1.051724e+00  5.061269e+00 -1.293923e+00  7.665868e+00\n",
       " [51]  2.231349e+00 -1.418085e+00 -3.295969e+00 -2.498317e+00 -1.388389e+00\n",
       " [56] -1.331589e+00 -3.295969e+00 -1.411847e+00 -3.295969e+00 -1.011038e+00\n",
       " [61] -1.011038e+00 -1.154188e+00 -1.154188e+00 -2.014633e+00  6.582677e-01\n",
       " [66] -3.045031e+00 -2.686228e+00 -1.939384e+00 -1.939384e+00 -2.686228e+00\n",
       " [71] -2.636526e+00  8.937021e+00  6.582677e-01  6.582677e-01  6.582677e-01\n",
       " [76] -1.388908e+00 -1.388908e+00  1.081696e+00 -1.662272e+00  3.402649e-01\n",
       " [81]  3.323137e+00 -8.265649e-01  5.883413e+00  5.883413e+00 -7.849853e-02\n",
       " [86] -6.470888e+00  1.043595e-01 -4.251039e-01  2.473325e+00  8.282494e-01\n",
       " [91] -2.867233e+00 -3.646055e-04 -2.587205e+00  8.629379e+00  7.517402e-01\n",
       " [96]  7.517402e-01  7.517402e-01  7.517402e-01 -1.320521e+00 -1.320521e+00"
      ]
     },
     "metadata": {},
     "output_type": "display_data"
    }
   ],
   "source": [
    "car.val <- as.numeric(as.character(car.data$V4)) * 100\n",
    "length(car.val)\n",
    "head(car.val, n = 100)"
   ]
  },
  {
   "cell_type": "code",
   "execution_count": 26,
   "metadata": {
    "collapsed": false
   },
   "outputs": [
    {
     "data": {
      "image/png": "[encoded data removed]",
      "text/plain": [
       "Plot with title “Histogram of car.val”"
      ]
     },
     "metadata": {},
     "output_type": "display_data"
    }
   ],
   "source": [
    "hist(car.val, breaks = 1000, xlim = c(min(car.val),max(car.val)), xlab = \"(cumulative) abnormal return [%]\")\n",
    "par(new=T)\n",
    "curve(dnorm(x, mean=mean(car.val), sd=sqrt(var(car.val))), from=min(car.val), to=max(car.val), col=\"red\", xlab=\"\", ylab=\"\")   # 正規分布を重ね書き"
   ]
  },
  {
   "cell_type": "markdown",
   "metadata": {},
   "source": [
    "-> 低いCARが無くなったように見えるが、maxが増えただけでminは昔のマッチングと変わっていない。"
   ]
  },
  {
   "cell_type": "code",
   "execution_count": 27,
   "metadata": {
    "collapsed": false
   },
   "outputs": [
    {
     "data": {
      "text/html": [
       "0.0856628330780285"
      ],
      "text/latex": [
       "0.0856628330780285"
      ],
      "text/markdown": [
       "0.0856628330780285"
      ],
      "text/plain": [
       "[1] 0.08566283"
      ]
     },
     "metadata": {},
     "output_type": "display_data"
    }
   ],
   "source": [
    "mean(car.val)"
   ]
  },
  {
   "cell_type": "code",
   "execution_count": 12,
   "metadata": {
    "collapsed": false
   },
   "outputs": [
    {
     "data": {
      "text/plain": [
       "\n",
       "\tOne Sample t-test\n",
       "\n",
       "data:  car.val\n",
       "t = 3.2664, df = 47300, p-value = 0.00109\n",
       "alternative hypothesis: true mean is not equal to 0\n",
       "95 percent confidence interval:\n",
       " 0.03426006 0.13706561\n",
       "sample estimates:\n",
       " mean of x \n",
       "0.08566283 \n"
      ]
     },
     "metadata": {},
     "output_type": "display_data"
    }
   ],
   "source": [
    "t.test(car.val)"
   ]
  },
  {
   "cell_type": "markdown",
   "metadata": {},
   "source": [
    "-> 全体的に見ると平均は0%と見なして良さそう"
   ]
  },
  {
   "cell_type": "code",
   "execution_count": 13,
   "metadata": {
    "collapsed": false
   },
   "outputs": [
    {
     "data": {
      "text/html": [
       "5.70377698516776"
      ],
      "text/latex": [
       "5.70377698516776"
      ],
      "text/markdown": [
       "5.70377698516776"
      ],
      "text/plain": [
       "[1] 5.703777"
      ]
     },
     "metadata": {},
     "output_type": "display_data"
    }
   ],
   "source": [
    "sd(car.val)"
   ]
  },
  {
   "cell_type": "code",
   "execution_count": 14,
   "metadata": {
    "collapsed": false
   },
   "outputs": [
    {
     "data": {
      "text/html": [
       "233.574991735"
      ],
      "text/latex": [
       "233.574991735"
      ],
      "text/markdown": [
       "233.574991735"
      ],
      "text/plain": [
       "[1] 233.575"
      ]
     },
     "metadata": {},
     "output_type": "display_data"
    },
    {
     "data": {
      "text/html": [
       "-530.901625369"
      ],
      "text/latex": [
       "-530.901625369"
      ],
      "text/markdown": [
       "-530.901625369"
      ],
      "text/plain": [
       "[1] -530.9016"
      ]
     },
     "metadata": {},
     "output_type": "display_data"
    }
   ],
   "source": [
    "max(car.val)\n",
    "min(car.val)"
   ]
  },
  {
   "cell_type": "code",
   "execution_count": 15,
   "metadata": {
    "collapsed": false
   },
   "outputs": [
    {
     "data": {
      "text/html": [
       "47301"
      ],
      "text/latex": [
       "47301"
      ],
      "text/markdown": [
       "47301"
      ],
      "text/plain": [
       "[1] 47301"
      ]
     },
     "metadata": {},
     "output_type": "display_data"
    }
   ],
   "source": [
    "length(car.val)"
   ]
  },
  {
   "cell_type": "code",
   "execution_count": 16,
   "metadata": {
    "collapsed": false
   },
   "outputs": [
    {
     "data": {
      "text/html": [
       "558"
      ],
      "text/latex": [
       "558"
      ],
      "text/markdown": [
       "558"
      ],
      "text/plain": [
       "[1] 558"
      ]
     },
     "metadata": {},
     "output_type": "display_data"
    },
    {
     "data": {
      "text/html": [
       "331"
      ],
      "text/latex": [
       "331"
      ],
      "text/markdown": [
       "331"
      ],
      "text/plain": [
       "[1] 331"
      ]
     },
     "metadata": {},
     "output_type": "display_data"
    }
   ],
   "source": [
    "length(car.val[car.val >= 10.])\n",
    "length(car.val[car.val <= -10.])"
   ]
  },
  {
   "cell_type": "markdown",
   "metadata": {},
   "source": [
    "-> 前のマッチングと比べて、0に近い値の割合が増えた。また、平均値はわずかに正方向に移動し、分散もわずかに大きくなった。"
   ]
  },
  {
   "cell_type": "code",
   "execution_count": 25,
   "metadata": {
    "collapsed": false
   },
   "outputs": [
    {
     "data": {
      "text/html": [
       "-20.2615041393"
      ],
      "text/latex": [
       "-20.2615041393"
      ],
      "text/markdown": [
       "-20.2615041393"
      ],
      "text/plain": [
       "[1] -20.2615"
      ]
     },
     "metadata": {},
     "output_type": "display_data"
    },
    {
     "data": {
      "text/html": [
       "21.9401071775"
      ],
      "text/latex": [
       "21.9401071775"
      ],
      "text/markdown": [
       "21.9401071775"
      ],
      "text/plain": [
       "[1] 21.94011"
      ]
     },
     "metadata": {},
     "output_type": "display_data"
    },
    {
     "data": {
      "text/html": [
       "0.105914075466003"
      ],
      "text/latex": [
       "0.105914075466003"
      ],
      "text/markdown": [
       "0.105914075466003"
      ],
      "text/plain": [
       "[1] 0.1059141"
      ]
     },
     "metadata": {},
     "output_type": "display_data"
    }
   ],
   "source": [
    "# 両側それぞれ0.1%ずつのデータを除去\n",
    "trim.min <- sort(car.val)[length(car.val) * 0.001]\n",
    "trim.max <- sort(car.val)[length(car.val) * 0.999]\n",
    "trim.min\n",
    "trim.max\n",
    "mean(car.val[trim.min <= car.val & car.val <= trim.max])"
   ]
  },
  {
   "cell_type": "markdown",
   "metadata": {},
   "source": [
    "## プレスリリースのタイプごとの傾向"
   ]
  },
  {
   "cell_type": "code",
   "execution_count": 17,
   "metadata": {
    "collapsed": true
   },
   "outputs": [],
   "source": [
    "types <- c('04: Restructuring', '05: PR', '01: Product', '05: Price', '05: Promotion', '10: Exit', '04: License', '03: Technology', '06: Capacity', '04: Alliance', '06: Order', '04: Contract', '02: Process', '04: M&A')"
   ]
  },
  {
   "cell_type": "code",
   "execution_count": 18,
   "metadata": {
    "collapsed": false
   },
   "outputs": [],
   "source": [
    "car.data.type <- car.data[car.data$V2 == '01: Product',]"
   ]
  },
  {
   "cell_type": "code",
   "execution_count": 19,
   "metadata": {
    "collapsed": false
   },
   "outputs": [
    {
     "data": {
      "text/html": [
       "<table>\n",
       "<thead><tr><th></th><th scope=col>V1</th><th scope=col>V2</th><th scope=col>V3</th><th scope=col>V4</th><th scope=col>V5</th></tr></thead>\n",
       "<tbody>\n",
       "\t<tr><th scope=row>2</th><td>NIKPRLRSP038002_06012003</td><td>01: Product             </td><td>2875                    </td><td>-0.02220152             </td><td>0.07838716              </td></tr>\n",
       "\t<tr><th scope=row>3</th><td>NIKPRLRSP038003_06012003</td><td>01: Product             </td><td>2875                    </td><td>-0.02220152             </td><td>0.07838716              </td></tr>\n",
       "\t<tr><th scope=row>5</th><td>NIKPRLRSP038007_06012003</td><td>01: Product             </td><td>4543                    </td><td>-0.01988519             </td><td>0.31794175              </td></tr>\n",
       "\t<tr><th scope=row>6</th><td>NIKPRLRSP038008_06012003</td><td>01: Product             </td><td>2875                    </td><td>-0.02220152             </td><td>0.07838716              </td></tr>\n",
       "\t<tr><th scope=row>7</th><td>NIKPRLRSP038012_06012003</td><td>01: Product             </td><td>2875                    </td><td>-0.02220152             </td><td>0.07838716              </td></tr>\n",
       "\t<tr><th scope=row>8</th><td>NIKPRLRSP038015_06012003</td><td>01: Product             </td><td>2875                    </td><td>-0.02220152             </td><td>0.07838716              </td></tr>\n",
       "</tbody>\n",
       "</table>\n"
      ],
      "text/latex": [
       "\\begin{tabular}{r|lllll}\n",
       "  & V1 & V2 & V3 & V4 & V5\\\\\n",
       "\\hline\n",
       "\t2 & NIKPRLRSP038002\\_06012003 & 01: Product                & 2875                       & -0.02220152                & 0.07838716                \\\\\n",
       "\t3 & NIKPRLRSP038003\\_06012003 & 01: Product                & 2875                       & -0.02220152                & 0.07838716                \\\\\n",
       "\t5 & NIKPRLRSP038007\\_06012003 & 01: Product                & 4543                       & -0.01988519                & 0.31794175                \\\\\n",
       "\t6 & NIKPRLRSP038008\\_06012003 & 01: Product                & 2875                       & -0.02220152                & 0.07838716                \\\\\n",
       "\t7 & NIKPRLRSP038012\\_06012003 & 01: Product                & 2875                       & -0.02220152                & 0.07838716                \\\\\n",
       "\t8 & NIKPRLRSP038015\\_06012003 & 01: Product                & 2875                       & -0.02220152                & 0.07838716                \\\\\n",
       "\\end{tabular}\n"
      ],
      "text/markdown": [
       "\n",
       "| <!--/--> | V1 | V2 | V3 | V4 | V5 | \n",
       "|---|---|---|---|---|---|\n",
       "| 2 | NIKPRLRSP038002_06012003 | 01: Product              | 2875                     | -0.02220152              | 0.07838716               | \n",
       "| 3 | NIKPRLRSP038003_06012003 | 01: Product              | 2875                     | -0.02220152              | 0.07838716               | \n",
       "| 5 | NIKPRLRSP038007_06012003 | 01: Product              | 4543                     | -0.01988519              | 0.31794175               | \n",
       "| 6 | NIKPRLRSP038008_06012003 | 01: Product              | 2875                     | -0.02220152              | 0.07838716               | \n",
       "| 7 | NIKPRLRSP038012_06012003 | 01: Product              | 2875                     | -0.02220152              | 0.07838716               | \n",
       "| 8 | NIKPRLRSP038015_06012003 | 01: Product              | 2875                     | -0.02220152              | 0.07838716               | \n",
       "\n",
       "\n"
      ],
      "text/plain": [
       "  V1                       V2          V3   V4          V5        \n",
       "2 NIKPRLRSP038002_06012003 01: Product 2875 -0.02220152 0.07838716\n",
       "3 NIKPRLRSP038003_06012003 01: Product 2875 -0.02220152 0.07838716\n",
       "5 NIKPRLRSP038007_06012003 01: Product 4543 -0.01988519 0.31794175\n",
       "6 NIKPRLRSP038008_06012003 01: Product 2875 -0.02220152 0.07838716\n",
       "7 NIKPRLRSP038012_06012003 01: Product 2875 -0.02220152 0.07838716\n",
       "8 NIKPRLRSP038015_06012003 01: Product 2875 -0.02220152 0.07838716"
      ]
     },
     "metadata": {},
     "output_type": "display_data"
    }
   ],
   "source": [
    "head(car.data.type)"
   ]
  },
  {
   "cell_type": "code",
   "execution_count": 20,
   "metadata": {
    "collapsed": false
   },
   "outputs": [
    {
     "data": {
      "text/html": [
       "<dl class=dl-horizontal>\n",
       "\t<dt>0%</dt>\n",
       "\t\t<dd>-5.30901625369</dd>\n",
       "\t<dt>25%</dt>\n",
       "\t\t<dd>-0.015289380030525</dd>\n",
       "\t<dt>50%</dt>\n",
       "\t\t<dd>-0.0004227838031775</dd>\n",
       "\t<dt>75%</dt>\n",
       "\t\t<dd>0.015115870961375</dd>\n",
       "\t<dt>100%</dt>\n",
       "\t\t<dd>0.623353934445</dd>\n",
       "</dl>\n"
      ],
      "text/latex": [
       "\\begin{description*}\n",
       "\\item[0\\textbackslash{}\\%] -5.30901625369\n",
       "\\item[25\\textbackslash{}\\%] -0.015289380030525\n",
       "\\item[50\\textbackslash{}\\%] -0.0004227838031775\n",
       "\\item[75\\textbackslash{}\\%] 0.015115870961375\n",
       "\\item[100\\textbackslash{}\\%] 0.623353934445\n",
       "\\end{description*}\n"
      ],
      "text/markdown": [
       "0%\n",
       ":   -5.3090162536925%\n",
       ":   -0.01528938003052550%\n",
       ":   -0.000422783803177575%\n",
       ":   0.015115870961375100%\n",
       ":   0.623353934445\n",
       "\n"
      ],
      "text/plain": [
       "           0%           25%           50%           75%          100% \n",
       "-5.3090162537 -0.0152893800 -0.0004227838  0.0151158710  0.6233539344 "
      ]
     },
     "metadata": {},
     "output_type": "display_data"
    }
   ],
   "source": [
    "quantile(car.data.type$V4)"
   ]
  },
  {
   "cell_type": "code",
   "execution_count": 21,
   "metadata": {
    "collapsed": false
   },
   "outputs": [
    {
     "data": {
      "image/png": "[encoded data removed]",
      "text/plain": [
       "Plot with title “Histogram of data”"
      ]
     },
     "metadata": {},
     "output_type": "display_data"
    }
   ],
   "source": [
    "print.result(car.data.type$V4)"
   ]
  },
  {
   "cell_type": "code",
   "execution_count": null,
   "metadata": {
    "collapsed": true
   },
   "outputs": [],
   "source": []
  },
  {
   "cell_type": "code",
   "execution_count": null,
   "metadata": {
    "collapsed": true
   },
   "outputs": [],
   "source": []
  },
  {
   "cell_type": "code",
   "execution_count": 22,
   "metadata": {
    "collapsed": true
   },
   "outputs": [],
   "source": [
    "print.result <- function(data) {\n",
    "    hist(data, breaks = 1000, xlim = c(min(data),max(data)), xlab = \"(cumulative) abnormal return [%]\")\n",
    "    par(new=T)\n",
    "    curve(dnorm(x, mean=mean(data), sd=sqrt(var(data))), from=min(data), to=max(data), col=\"red\", xlab=\"\", ylab=\"\")   # 正規分布を重ね書き\n",
    "}"
   ]
  },
  {
   "cell_type": "code",
   "execution_count": 31,
   "metadata": {
    "collapsed": false,
    "scrolled": false
   },
   "outputs": [],
   "source": [
    "car.types <- list()\n",
    "for (type in sort(types)) {\n",
    "    car.val.type <- as.numeric(as.character(car.data[car.data$V2 == type,]$V4)) * 100\n",
    "    #print(c(t, length(car.val.type), mean(car.val.type), sd(car.val.type), min(car.val.type), max(car.val.type)))\n",
    "    #print(list(c(t, length(car.val.type), mean(car.val.type), sd(car.val.type), min(car.val.type), max(car.val.type))))\n",
    "    pv <- t.test(car.val.type)$p.value\n",
    "    car.types <- c(car.types, list(c(type, length(car.val.type), mean(car.val.type), pv, sd(car.val.type), min(car.val.type), max(car.val.type))))\n",
    "}\n",
    "Unzip <- function(...) rbind(data.frame(), ...)\n",
    "car.frame <- do.call(Unzip, car.types)\n",
    "colnames(car.frame) <- c(\"prtype\", \"num\", \"mean[%]\", \"p-value (mean != 0)\", \"sd\", \"min\", \"max\")\n",
    "#car.frame\n",
    "\n",
    "# print histgram\n",
    "#for (t in sort(types)) {\n",
    "#    car.val.type <- as.numeric(car.data[car.data$V2 == t,]$V4) * 100\n",
    "#    print.result(car.val.type)\n",
    "#}"
   ]
  },
  {
   "cell_type": "code",
   "execution_count": 32,
   "metadata": {
    "collapsed": false
   },
   "outputs": [
    {
     "data": {
      "text/html": [
       "<table>\n",
       "<thead><tr><th></th><th scope=col>prtype</th><th scope=col>num</th><th scope=col>mean[%]</th><th scope=col>p-value (mean != 0)</th><th scope=col>sd</th><th scope=col>min</th><th scope=col>max</th></tr></thead>\n",
       "<tbody>\n",
       "\t<tr><th scope=row>13</th><td>06: Order           </td><td>1281                </td><td>0.471743404112856   </td><td>1.2674258484929e-05 </td><td>3.85236144260533    </td><td>-17.556352368       </td><td>29.8542846858       </td></tr>\n",
       "\t<tr><th scope=row>6</th><td>04: License         </td><td>597                 </td><td>0.470464846440761   </td><td>0.000512624149533842</td><td>3.29070919947624    </td><td>-13.5220998058      </td><td>15.360199649        </td></tr>\n",
       "\t<tr><th scope=row>5</th><td>04: Contract        </td><td>1463                </td><td>0.431430901673554   </td><td>0.000103292533890107</td><td>4.23839776732354    </td><td>-38.1125079952      </td><td>54.23274463         </td></tr>\n",
       "\t<tr><th scope=row>11</th><td>05: Promotion       </td><td>27                  </td><td>0.397554675559593   </td><td>0.568666028894228   </td><td>3.57796267249375    </td><td>-4.72709239255      </td><td>8.84010166398       </td></tr>\n",
       "\t<tr><th scope=row>2</th><td>02: Process         </td><td>416                 </td><td>0.379545283647872   </td><td>0.0140280088268942  </td><td>3.13791775233114    </td><td>-9.99352611615      </td><td>13.1342816086       </td></tr>\n",
       "\t<tr><th scope=row>7</th><td><span style=white-space:pre-wrap>04: M&amp;A          </span></td><td><span style=white-space:pre-wrap>986  </span>                </td><td><span style=white-space:pre-wrap>0.259380769117478   </span> </td><td><span style=white-space:pre-wrap>0.0280336313790558  </span> </td><td>3.70203088972207                                             </td><td>-19.4351507005                                               </td><td>20.400756445                                                 </td></tr>\n",
       "\t<tr><th scope=row>12</th><td>06: Capacity        </td><td>2504                </td><td>0.218474963548358   </td><td>0.00261581101141767 </td><td>3.62887307276815    </td><td>-67.4676078359      </td><td>19.3944445638       </td></tr>\n",
       "\t<tr><th scope=row>4</th><td>04: Alliance        </td><td>1425                </td><td>0.198902161642113   </td><td>0.331017169162422   </td><td>7.72151244006308    </td><td>-105.042197299      </td><td>62.7280506375       </td></tr>\n",
       "\t<tr><th scope=row>10</th><td>05: Price           </td><td>546                 </td><td>0.172747739661602   </td><td>0.244951256004948   </td><td>3.4679453087967     </td><td>-11.9792427275      </td><td>20.00076605         </td></tr>\n",
       "\t<tr><th scope=row>3</th><td>03: Technology      </td><td>3124                </td><td>0.121335363839306   </td><td>0.0477206344940449  </td><td>3.42404948836113    </td><td>-24.0026883878      </td><td>31.5555483195       </td></tr>\n",
       "\t<tr><th scope=row>1</th><td>01: Product         </td><td>28354               </td><td>0.00743242921761808 </td><td>0.821126513420375   </td><td>5.53529086923644    </td><td>-530.901625369      </td><td>62.3353934445       </td></tr>\n",
       "\t<tr><th scope=row>8</th><td>04: Restructuring   </td><td>538                 </td><td>-0.00943153790687808</td><td>0.967005710978436   </td><td>5.28626069893334    </td><td>-71.8450076861      </td><td>26.4429001392       </td></tr>\n",
       "\t<tr><th scope=row>9</th><td>05: PR              </td><td>2215                </td><td>-0.136384063326423  </td><td>0.590927287434421   </td><td>11.9402842401623    </td><td>-530.901625369      </td><td>23.4704353121       </td></tr>\n",
       "\t<tr><th scope=row>14</th><td>10: Exit            </td><td>91                  </td><td>-0.530583982319387  </td><td>0.195725255074342   </td><td>3.88293731804939    </td><td>-14.1199253155      </td><td>15.5438887423       </td></tr>\n",
       "</tbody>\n",
       "</table>\n"
      ],
      "text/latex": [
       "\\begin{tabular}{r|lllllll}\n",
       "  & prtype & num & mean{[}\\%{]} & p-value (mean != 0) & sd & min & max\\\\\n",
       "\\hline\n",
       "\t13 & 06: Order            & 1281                 & 0.471743404112856    & 1.2674258484929e-05  & 3.85236144260533     & -17.556352368        & 29.8542846858       \\\\\n",
       "\t6 & 04: License          & 597                  & 0.470464846440761    & 0.000512624149533842 & 3.29070919947624     & -13.5220998058       & 15.360199649        \\\\\n",
       "\t5 & 04: Contract         & 1463                 & 0.431430901673554    & 0.000103292533890107 & 4.23839776732354     & -38.1125079952       & 54.23274463         \\\\\n",
       "\t11 & 05: Promotion        & 27                   & 0.397554675559593    & 0.568666028894228    & 3.57796267249375     & -4.72709239255       & 8.84010166398       \\\\\n",
       "\t2 & 02: Process          & 416                  & 0.379545283647872    & 0.0140280088268942   & 3.13791775233114     & -9.99352611615       & 13.1342816086       \\\\\n",
       "\t7 & 04: M\\&A            & 986                  & 0.259380769117478    & 0.0280336313790558   & 3.70203088972207     & -19.4351507005       & 20.400756445        \\\\\n",
       "\t12 & 06: Capacity         & 2504                 & 0.218474963548358    & 0.00261581101141767  & 3.62887307276815     & -67.4676078359       & 19.3944445638       \\\\\n",
       "\t4 & 04: Alliance         & 1425                 & 0.198902161642113    & 0.331017169162422    & 7.72151244006308     & -105.042197299       & 62.7280506375       \\\\\n",
       "\t10 & 05: Price            & 546                  & 0.172747739661602    & 0.244951256004948    & 3.4679453087967      & -11.9792427275       & 20.00076605         \\\\\n",
       "\t3 & 03: Technology       & 3124                 & 0.121335363839306    & 0.0477206344940449   & 3.42404948836113     & -24.0026883878       & 31.5555483195       \\\\\n",
       "\t1 & 01: Product          & 28354                & 0.00743242921761808  & 0.821126513420375    & 5.53529086923644     & -530.901625369       & 62.3353934445       \\\\\n",
       "\t8 & 04: Restructuring    & 538                  & -0.00943153790687808 & 0.967005710978436    & 5.28626069893334     & -71.8450076861       & 26.4429001392       \\\\\n",
       "\t9 & 05: PR               & 2215                 & -0.136384063326423   & 0.590927287434421    & 11.9402842401623     & -530.901625369       & 23.4704353121       \\\\\n",
       "\t14 & 10: Exit             & 91                   & -0.530583982319387   & 0.195725255074342    & 3.88293731804939     & -14.1199253155       & 15.5438887423       \\\\\n",
       "\\end{tabular}\n"
      ],
      "text/markdown": [
       "\n",
       "| <!--/--> | prtype | num | mean[%] | p-value (mean != 0) | sd | min | max | \n",
       "|---|---|---|---|---|---|---|---|---|---|---|---|---|---|\n",
       "| 13 | 06: Order            | 1281                 | 0.471743404112856    | 1.2674258484929e-05  | 3.85236144260533     | -17.556352368        | 29.8542846858        | \n",
       "| 6 | 04: License          | 597                  | 0.470464846440761    | 0.000512624149533842 | 3.29070919947624     | -13.5220998058       | 15.360199649         | \n",
       "| 5 | 04: Contract         | 1463                 | 0.431430901673554    | 0.000103292533890107 | 4.23839776732354     | -38.1125079952       | 54.23274463          | \n",
       "| 11 | 05: Promotion        | 27                   | 0.397554675559593    | 0.568666028894228    | 3.57796267249375     | -4.72709239255       | 8.84010166398        | \n",
       "| 2 | 02: Process          | 416                  | 0.379545283647872    | 0.0140280088268942   | 3.13791775233114     | -9.99352611615       | 13.1342816086        | \n",
       "| 7 | 04: M&A              | 986                  | 0.259380769117478    | 0.0280336313790558   | 3.70203088972207     | -19.4351507005       | 20.400756445         | \n",
       "| 12 | 06: Capacity         | 2504                 | 0.218474963548358    | 0.00261581101141767  | 3.62887307276815     | -67.4676078359       | 19.3944445638        | \n",
       "| 4 | 04: Alliance         | 1425                 | 0.198902161642113    | 0.331017169162422    | 7.72151244006308     | -105.042197299       | 62.7280506375        | \n",
       "| 10 | 05: Price            | 546                  | 0.172747739661602    | 0.244951256004948    | 3.4679453087967      | -11.9792427275       | 20.00076605          | \n",
       "| 3 | 03: Technology       | 3124                 | 0.121335363839306    | 0.0477206344940449   | 3.42404948836113     | -24.0026883878       | 31.5555483195        | \n",
       "| 1 | 01: Product          | 28354                | 0.00743242921761808  | 0.821126513420375    | 5.53529086923644     | -530.901625369       | 62.3353934445        | \n",
       "| 8 | 04: Restructuring    | 538                  | -0.00943153790687808 | 0.967005710978436    | 5.28626069893334     | -71.8450076861       | 26.4429001392        | \n",
       "| 9 | 05: PR               | 2215                 | -0.136384063326423   | 0.590927287434421    | 11.9402842401623     | -530.901625369       | 23.4704353121        | \n",
       "| 14 | 10: Exit             | 91                   | -0.530583982319387   | 0.195725255074342    | 3.88293731804939     | -14.1199253155       | 15.5438887423        | \n",
       "\n",
       "\n"
      ],
      "text/plain": [
       "   prtype            num   mean[%]              p-value (mean != 0) \n",
       "13 06: Order         1281  0.471743404112856    1.2674258484929e-05 \n",
       "6  04: License       597   0.470464846440761    0.000512624149533842\n",
       "5  04: Contract      1463  0.431430901673554    0.000103292533890107\n",
       "11 05: Promotion     27    0.397554675559593    0.568666028894228   \n",
       "2  02: Process       416   0.379545283647872    0.0140280088268942  \n",
       "7  04: M&A           986   0.259380769117478    0.0280336313790558  \n",
       "12 06: Capacity      2504  0.218474963548358    0.00261581101141767 \n",
       "4  04: Alliance      1425  0.198902161642113    0.331017169162422   \n",
       "10 05: Price         546   0.172747739661602    0.244951256004948   \n",
       "3  03: Technology    3124  0.121335363839306    0.0477206344940449  \n",
       "1  01: Product       28354 0.00743242921761808  0.821126513420375   \n",
       "8  04: Restructuring 538   -0.00943153790687808 0.967005710978436   \n",
       "9  05: PR            2215  -0.136384063326423   0.590927287434421   \n",
       "14 10: Exit          91    -0.530583982319387   0.195725255074342   \n",
       "   sd               min            max          \n",
       "13 3.85236144260533 -17.556352368  29.8542846858\n",
       "6  3.29070919947624 -13.5220998058 15.360199649 \n",
       "5  4.23839776732354 -38.1125079952 54.23274463  \n",
       "11 3.57796267249375 -4.72709239255 8.84010166398\n",
       "2  3.13791775233114 -9.99352611615 13.1342816086\n",
       "7  3.70203088972207 -19.4351507005 20.400756445 \n",
       "12 3.62887307276815 -67.4676078359 19.3944445638\n",
       "4  7.72151244006308 -105.042197299 62.7280506375\n",
       "10 3.4679453087967  -11.9792427275 20.00076605  \n",
       "3  3.42404948836113 -24.0026883878 31.5555483195\n",
       "1  5.53529086923644 -530.901625369 62.3353934445\n",
       "8  5.28626069893334 -71.8450076861 26.4429001392\n",
       "9  11.9402842401623 -530.901625369 23.4704353121\n",
       "14 3.88293731804939 -14.1199253155 15.5438887423"
      ]
     },
     "metadata": {},
     "output_type": "display_data"
    }
   ],
   "source": [
    "car.frame[order(as.numeric(as.character(car.frame$\"mean[%]\")), decreasing = TRUE),]"
   ]
  },
  {
   "cell_type": "markdown",
   "metadata": {},
   "source": [
    "平均値でソートしたもの。大事そうなタイプから並んでいたりする。。？\n",
    "\n",
    "\"01: Product\"は全体的に見るとほぼ影響なしとなっている\n",
    "\n",
    "p値は多重検定補正はしていない"
   ]
  },
  {
   "cell_type": "code",
   "execution_count": 44,
   "metadata": {
    "collapsed": false
   },
   "outputs": [],
   "source": [
    "car.data$V4 <- as.numeric(as.character(car.data$V4))"
   ]
  },
  {
   "cell_type": "code",
   "execution_count": 46,
   "metadata": {
    "collapsed": false
   },
   "outputs": [
    {
     "data": {
      "text/html": [
       "<table>\n",
       "<thead><tr><th></th><th scope=col>V1</th><th scope=col>V2</th><th scope=col>V3</th><th scope=col>V4</th><th scope=col>V5</th></tr></thead>\n",
       "<tbody>\n",
       "\t<tr><th scope=row>42219</th><td>NIKPRLRSP247604_26032010</td><td>01: Product             </td><td>8703                    </td><td>-5.309016               </td><td>0.3493893               </td></tr>\n",
       "\t<tr><th scope=row>42220</th><td>NIKPRLRSP247605_26032010</td><td>05: PR                  </td><td>8703                    </td><td>-5.309016               </td><td>0.3493893               </td></tr>\n",
       "</tbody>\n",
       "</table>\n"
      ],
      "text/latex": [
       "\\begin{tabular}{r|lllll}\n",
       "  & V1 & V2 & V3 & V4 & V5\\\\\n",
       "\\hline\n",
       "\t42219 & NIKPRLRSP247604\\_26032010 & 01: Product                & 8703                       & -5.309016                  & 0.3493893                 \\\\\n",
       "\t42220 & NIKPRLRSP247605\\_26032010 & 05: PR                     & 8703                       & -5.309016                  & 0.3493893                 \\\\\n",
       "\\end{tabular}\n"
      ],
      "text/markdown": [
       "\n",
       "| <!--/--> | V1 | V2 | V3 | V4 | V5 | \n",
       "|---|---|\n",
       "| 42219 | NIKPRLRSP247604_26032010 | 01: Product              | 8703                     | -5.309016                | 0.3493893                | \n",
       "| 42220 | NIKPRLRSP247605_26032010 | 05: PR                   | 8703                     | -5.309016                | 0.3493893                | \n",
       "\n",
       "\n"
      ],
      "text/plain": [
       "      V1                       V2          V3   V4        V5       \n",
       "42219 NIKPRLRSP247604_26032010 01: Product 8703 -5.309016 0.3493893\n",
       "42220 NIKPRLRSP247605_26032010 05: PR      8703 -5.309016 0.3493893"
      ]
     },
     "metadata": {},
     "output_type": "display_data"
    }
   ],
   "source": [
    "car.data[car.data$V4 < -5,]"
   ]
  },
  {
   "cell_type": "code",
   "execution_count": null,
   "metadata": {
    "collapsed": true
   },
   "outputs": [],
   "source": []
  },
  {
   "cell_type": "markdown",
   "metadata": {
    "collapsed": true
   },
   "source": [
    "### 企業ごとのCARは？"
   ]
  },
  {
   "cell_type": "code",
   "execution_count": null,
   "metadata": {
    "collapsed": true
   },
   "outputs": [],
   "source": []
  }
 ],
 "metadata": {
  "kernelspec": {
   "display_name": "R",
   "language": "R",
   "name": "ir"
  },
  "language_info": {
   "codemirror_mode": "r",
   "file_extension": ".r",
   "mimetype": "text/x-r-source",
   "name": "R",
   "pygments_lexer": "r",
   "version": "3.3.2"
  }
 },
 "nbformat": 4,
 "nbformat_minor": 2
}
